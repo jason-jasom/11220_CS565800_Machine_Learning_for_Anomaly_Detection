{
 "cells": [
  {
   "cell_type": "markdown",
   "metadata": {
    "id": "WJihKdjPGSaZ"
   },
   "source": [
    "# **Few-Shot Learning for Logical and Structural Detection (GCAD)**"
   ]
  },
  {
   "cell_type": "markdown",
   "metadata": {
    "id": "rpHYNDo7wmaD"
   },
   "source": [
    "## **Download Dataset**"
   ]
  },
  {
   "cell_type": "code",
   "execution_count": 1,
   "metadata": {
    "colab": {
     "base_uri": "https://localhost:8080/"
    },
    "id": "JAVM9gPmxB03",
    "outputId": "8ca6934f-0a4f-4132-fce2-de5e814bee7e"
   },
   "outputs": [
    {
     "name": "stdout",
     "output_type": "stream",
     "text": [
      "Downloading...\n",
      "From (original): https://drive.google.com/uc?id=1FrMzu3EXPei7EeBql-169DuGK3ws2sJO\n",
      "From (redirected): https://drive.google.com/uc?id=1FrMzu3EXPei7EeBql-169DuGK3ws2sJO&confirm=t&uuid=06833a80-9ea5-404b-82de-bda271d4decf\n",
      "To: /content/mvtec_loco_anomaly_detection.tar.xz\n",
      "100% 6.13G/6.13G [00:46<00:00, 133MB/s]\n"
     ]
    }
   ],
   "source": [
    "!gdown 1FrMzu3EXPei7EeBql-169DuGK3ws2sJO\n",
    "!tar -xf mvtec_loco_anomaly_detection.tar.xz"
   ]
  },
  {
   "cell_type": "code",
   "execution_count": 2,
   "metadata": {
    "colab": {
     "base_uri": "https://localhost:8080/"
    },
    "id": "hAXqEbfJXpaN",
    "outputId": "7b9b7757-4b3d-4bd0-e26d-385a1a293f56"
   },
   "outputs": [
    {
     "name": "stdout",
     "output_type": "stream",
     "text": [
      "Collecting einops\n",
      "  Downloading einops-0.8.0-py3-none-any.whl (43 kB)\n",
      "\u001b[?25l     \u001b[90m━━━━━━━━━━━━━━━━━━━━━━━━━━━━━━━━━━━━━━━━\u001b[0m \u001b[32m0.0/43.2 kB\u001b[0m \u001b[31m?\u001b[0m eta \u001b[36m-:--:--\u001b[0m\r",
      "\u001b[2K     \u001b[90m━━━━━━━━━━━━━━━━━━━━━━━━━━━━━━━━━━━━━━━━\u001b[0m \u001b[32m43.2/43.2 kB\u001b[0m \u001b[31m2.0 MB/s\u001b[0m eta \u001b[36m0:00:00\u001b[0m\n",
      "\u001b[?25hInstalling collected packages: einops\n",
      "Successfully installed einops-0.8.0\n"
     ]
    }
   ],
   "source": [
    "! pip install einops"
   ]
  },
  {
   "cell_type": "markdown",
   "metadata": {
    "id": "j3TIsvtfu45d"
   },
   "source": [
    "## **Import Modules**"
   ]
  },
  {
   "cell_type": "code",
   "execution_count": 3,
   "metadata": {
    "id": "Zk5L6qPQu7ve"
   },
   "outputs": [],
   "source": [
    "import os\n",
    "import numpy as np\n",
    "import random\n",
    "import torch\n",
    "import torch.nn as nn\n",
    "from tqdm.notebook import tqdm\n",
    "from torch.utils.data import Dataset, DataLoader\n",
    "from torchvision import transforms as T\n",
    "import torch.nn.functional as F\n",
    "from PIL import Image\n",
    "from einops import rearrange\n",
    "from sklearn.preprocessing import minmax_scale\n",
    "\n",
    "device = torch.device(\"cuda:0\" if torch.cuda.is_available() else \"cpu\")"
   ]
  },
  {
   "cell_type": "markdown",
   "metadata": {
    "id": "c5I1YwroGb-q"
   },
   "source": [
    "## **Dataset**"
   ]
  },
  {
   "cell_type": "code",
   "execution_count": 4,
   "metadata": {
    "id": "u9A4DHQTGKf_"
   },
   "outputs": [],
   "source": [
    "class MVTecDataset(Dataset):\n",
    "    def __init__(self, mvtec_folder_path='./', anomaly_type=None, class_name='breakfast_box', mode = 'train',\n",
    "                 few_shot=1, resize=256,augmentation = False):\n",
    "        assert class_name in ['breakfast_box', 'juice_bottle', 'pushpins', 'screw_bag', 'splicing_connectors']\n",
    "        self.class_name = class_name\n",
    "        assert anomaly_type in [None, 'logical', 'structural']\n",
    "        self.anomaly_type = anomaly_type\n",
    "        assert mode in ['train', 'validation', 'test']\n",
    "        self.mode = mode\n",
    "        self.resize = resize\n",
    "        self.mvtec_folder_path = mvtec_folder_path\n",
    "        self.few_shot = few_shot # 1, 2, 4, 8\n",
    "        self.augmentation = augmentation\n",
    "        # set transforms\n",
    "        self.transform_x = T.Compose([T.Resize([resize,resize],interpolation=T.InterpolationMode.BILINEAR),\n",
    "                                      T.ToTensor(),\n",
    "                                      T.Normalize(mean=[0.485, 0.456, 0.406],\n",
    "                                                  std=[0.229, 0.224, 0.225])])\n",
    "        self.transform_x_1 = T.Compose([T.Resize([resize,resize],interpolation=T.InterpolationMode.BILINEAR),\n",
    "                                      T.ToTensor(),\n",
    "                                      T.Normalize(mean=[0.485, 0.456, 0.406],\n",
    "                                                  std=[0.229, 0.224, 0.225]),\n",
    "                                      T.RandomHorizontalFlip(p=1)])\n",
    "        self.transform_x_2 = T.Compose([T.Resize([resize,resize],interpolation=T.InterpolationMode.BILINEAR),\n",
    "                                      T.ToTensor(),\n",
    "                                      T.Normalize(mean=[0.485, 0.456, 0.406],\n",
    "                                                  std=[0.229, 0.224, 0.225]),\n",
    "                                      T.RandomVerticalFlip(p=1)])\n",
    "        self.transform_x_3 = T.Compose([T.Resize([resize,resize],interpolation=T.InterpolationMode.BILINEAR),\n",
    "                                      T.ToTensor(),\n",
    "                                      T.Normalize(mean=[0.485, 0.456, 0.406],\n",
    "                                                  std=[0.229, 0.224, 0.225]),\n",
    "                                      T.RandomRotation(degrees = 30,center=(0,0))])\n",
    "        self.transform_x_4 = T.Compose([T.Resize([resize,resize],interpolation=T.InterpolationMode.BILINEAR),\n",
    "                                      T.ToTensor(),\n",
    "                                      T.Normalize(mean=[0.485, 0.456, 0.406],\n",
    "                                                  std=[0.229, 0.224, 0.225]),\n",
    "                                      T.ColorJitter(brightness=(0.3,1.5))])\n",
    "        self.transform_mask = T.Compose([T.Resize([resize,resize], interpolation=T.InterpolationMode.NEAREST),\n",
    "                                         T.ToTensor()])\n",
    "        # load dataset\n",
    "        self.x, self.y, self.mask = self.load_dataset_folder()\n",
    "        print(f\"{self.class_name} {self.mode} dataset created, consists of {len(self.x)} images\")\n",
    "\n",
    "\n",
    "    def __getitem__(self, idx):\n",
    "        x, y, mask = self.x[idx], self.y[idx], self.mask[idx]\n",
    "        return x, y, mask\n",
    "\n",
    "    def __len__(self):\n",
    "        return len(self.x)\n",
    "\n",
    "    def load_dataset_folder(self):\n",
    "        x, y, mask = [], [], []\n",
    "        img_dir = os.path.join(self.mvtec_folder_path, self.class_name, self.mode)\n",
    "        gt_dir = os.path.join(self.mvtec_folder_path, self.class_name, 'ground_truth')\n",
    "        img_types = sorted(os.listdir(img_dir))\n",
    "        for img_type in img_types:\n",
    "            if img_type != 'good' and self.anomaly_type is not None and img_type != self.anomaly_type + '_anomalies':\n",
    "                    continue\n",
    "            # load images\n",
    "            img_type_dir = os.path.join(img_dir, img_type)\n",
    "            if not os.path.isdir(img_type_dir):\n",
    "                continue\n",
    "            img_fpath_list = sorted([os.path.join(img_type_dir, f)\n",
    "                                     for f in os.listdir(img_type_dir)\n",
    "                                     if f.endswith('.png')])\n",
    "            x.extend(img_fpath_list)\n",
    "            # load gt labels\n",
    "            if img_type == 'good':\n",
    "                y.extend([0] * len(img_fpath_list))\n",
    "                mask.extend([None] * len(img_fpath_list))\n",
    "            else:\n",
    "                y.extend([1] * len(img_fpath_list))\n",
    "                gt_type_dir = os.path.join(gt_dir, img_type)\n",
    "                img_fname_list = [os.path.splitext(os.path.basename(f))[0] for f in img_fpath_list]\n",
    "                gt_dir_list = [os.path.join(gt_type_dir, img_fname) for img_fname in img_fname_list]\n",
    "                for dir in gt_dir_list:\n",
    "                    gt_mask = torch.zeros([1, self.resize, self.resize])\n",
    "                    for f in os.listdir(dir):\n",
    "                        if f.endswith('.png'):\n",
    "                            gt_mask = gt_mask + self.transform_mask(Image.open(os.path.join(dir, f)))\n",
    "                        gt_mask = torch.clip(gt_mask, 0., 1.)\n",
    "                        mask.append(gt_mask)\n",
    "\n",
    "        assert len(x) == len(y), 'number of x and y should be same'\n",
    "\n",
    "        if self.few_shot is not None and self.mode=='train':\n",
    "            # pick images according to few_shot number\n",
    "            chosen_idx = random.sample(list(range(len(x))),k=self.few_shot)\n",
    "            x = [x[i] for i in chosen_idx]\n",
    "            y = [y[i] for i in chosen_idx]\n",
    "            mask = [mask[i] for i in chosen_idx]\n",
    "            if self.augmentation:\n",
    "                return_x = []\n",
    "                return_y = []\n",
    "                return_mask = []\n",
    "                return_x.extend([self.transform_x(Image.open(x).convert('RGB')) for x in list(x)])\n",
    "                return_x.extend([self.transform_x_1(Image.open(x).convert('RGB')) for x in list(x)])\n",
    "                return_x.extend([self.transform_x_2(Image.open(x).convert('RGB')) for x in list(x)])\n",
    "                return_x.extend([self.transform_x_3(Image.open(x).convert('RGB')) for x in list(x)])\n",
    "                return_x.extend([self.transform_x_4(Image.open(x).convert('RGB')) for x in list(x)])\n",
    "                for i in range(5):\n",
    "                    return_y.extend(list(y))\n",
    "                    return_mask.extend([torch.zeros([1, self.resize, self.resize]) if y==0 else mask for y,mask in zip(list(y),list(mask))])\n",
    "                return return_x,return_y,return_mask\n",
    "\n",
    "            else:\n",
    "                return [self.transform_x(Image.open(x).convert('RGB')) for x in list(x)], \\\n",
    "                    list(y), \\\n",
    "                    [torch.zeros([1, self.resize, self.resize]) if y==0 else mask for y,mask in zip(list(y),list(mask))]\n",
    "\n",
    "        else:\n",
    "            return [self.transform_x(Image.open(x).convert('RGB')) for x in list(x)], \\\n",
    "                    list(y), \\\n",
    "                    [torch.zeros([1, self.resize, self.resize]) if y==0 else mask for y,mask in zip(list(y),list(mask))]\n",
    "\n"
   ]
  },
  {
   "cell_type": "markdown",
   "metadata": {
    "id": "q3uJxjavuyPt"
   },
   "source": [
    "## **Other Utility Functions**"
   ]
  },
  {
   "cell_type": "code",
   "execution_count": 5,
   "metadata": {
    "id": "GAFtoxNQu2sY"
   },
   "outputs": [],
   "source": [
    "import matplotlib.pyplot as plt\n",
    "from sklearn.metrics import roc_curve, roc_auc_score\n",
    "\n",
    "def compute_metric(result):\n",
    "    fpr, tpr, _ = roc_curve(result['total_gt_image'], result['total_scores_image'])\n",
    "    auc = roc_auc_score(result['total_gt_image'], result['total_scores_image'])\n",
    "    return fpr, tpr, auc\n",
    "\n",
    "def plot_roc_curve(fpr, tpr, auc, class_name=''):\n",
    "    plt.figure()\n",
    "    lw = 2\n",
    "    plt.plot(\n",
    "        fpr,\n",
    "        tpr,\n",
    "        color=\"darkorange\",\n",
    "        lw=lw,\n",
    "        label=f\"ROC curve (area = {auc: 0.2f})\",\n",
    "    )\n",
    "    plt.plot([0, 1], [0, 1], color=\"navy\", lw=lw, linestyle=\"--\")\n",
    "    plt.xlim([0.0, 1.0])\n",
    "    plt.ylim([0.0, 1.05])\n",
    "    plt.xlabel(\"False Positive Rate\")\n",
    "    plt.ylabel(\"True Positive Rate\")\n",
    "    plt.title(f\"{class_name} ROC Curve\")\n",
    "    plt.legend(loc=\"lower right\")\n",
    "    plt.show()\n",
    "\n",
    "def plot_anomaly_map(result, class_name, TestDataset, index, threshold, a_type=None):\n",
    "    dataset_size = len(TestDataset)\n",
    "    # Load Testing Input / Ground Truth Mask / Predicted Mask\n",
    "    input_image = rearrange(result['input_image'][index], 'c h w -> h w c')\n",
    "    # Denormalize\n",
    "    input_image[:, : 0] = input_image[:, : 0] * 0.229 + 0.485\n",
    "    input_image[:, : 1] = input_image[:, : 1] * 0.224 + 0.456\n",
    "    input_image[:, : 2] = input_image[:, : 2] * 0.225 + 0.406\n",
    "    input_image = np.clip(input_image, 0., 1.).astype(float)\n",
    "    gt_mask = rearrange(result['total_gt_pixel'],'b c h w -> (b c) h w')[index]\n",
    "    if a_type == 'structural':\n",
    "        predicted_mask = result['structural_map'][index,0]\n",
    "    elif a_type == 'logical':\n",
    "        predicted_mask = result['logical_map'][index,0]\n",
    "    else:\n",
    "        predicted_mask = result['total_scores_pixel'][index,0]\n",
    "    predicted_mask = np.where(predicted_mask > threshold, 1., 0.)\n",
    "\n",
    "    fig, ax = plt.subplots(1, 3)\n",
    "    fig.suptitle(f'{class_name} Dataset', x=0.5, y=0.72)\n",
    "    ax[0].imshow(input_image)\n",
    "    ax[0].set_title('Input')\n",
    "    ax[1].imshow(gt_mask)\n",
    "    ax[1].set_title('Ground Truth')\n",
    "    ax[2].imshow(predicted_mask)\n",
    "    ax[2].set_title('Predicted')\n",
    "    plt.tight_layout()\n",
    "    plt.show()\n",
    "    return"
   ]
  },
  {
   "cell_type": "markdown",
   "metadata": {
    "id": "kyPJ47h3bvrs"
   },
   "source": [
    "## Model\n",
    "\n",
    "paper:https://link.springer.com/article/10.1007/s11263-022-01578-9"
   ]
  },
  {
   "cell_type": "markdown",
   "metadata": {
    "id": "6ynb8EpKbvrt"
   },
   "source": [
    "### Encoder"
   ]
  },
  {
   "cell_type": "code",
   "execution_count": 6,
   "metadata": {
    "colab": {
     "base_uri": "https://localhost:8080/"
    },
    "id": "pk4MCfpwt_CK",
    "outputId": "b0517537-b9ed-4245-8332-fae9710b04a6"
   },
   "outputs": [
    {
     "name": "stderr",
     "output_type": "stream",
     "text": [
      "/usr/local/lib/python3.10/dist-packages/torchvision/models/_utils.py:208: UserWarning: The parameter 'pretrained' is deprecated since 0.13 and may be removed in the future, please use 'weights' instead.\n",
      "  warnings.warn(\n",
      "/usr/local/lib/python3.10/dist-packages/torchvision/models/_utils.py:223: UserWarning: Arguments other than a weight enum or `None` for 'weights' are deprecated since 0.13 and may be removed in the future. The current behavior is equivalent to passing `weights=Wide_ResNet50_2_Weights.IMAGENET1K_V1`. You can also use `weights=Wide_ResNet50_2_Weights.DEFAULT` to get the most up-to-date weights.\n",
      "  warnings.warn(msg)\n",
      "Downloading: \"https://download.pytorch.org/models/wide_resnet50_2-95faca4d.pth\" to /root/.cache/torch/hub/checkpoints/wide_resnet50_2-95faca4d.pth\n",
      "100%|██████████| 132M/132M [00:01<00:00, 129MB/s]\n"
     ]
    }
   ],
   "source": [
    "from torchvision.models import wide_resnet50_2\n",
    "\n",
    "# load & prepare model (wide_resnet50_2)\n",
    "encoder = wide_resnet50_2(pretrained=True, progress=True).cuda()\n",
    "encoder.eval()\n",
    "# set hook function to get features\n",
    "outputs = list()\n",
    "def hook(module, input, output):\n",
    "    outputs.append(output)\n",
    "\n",
    "def get_features(model, img, outputs):\n",
    "    with torch.no_grad():\n",
    "            _ = model(img.cuda())\n",
    "    layer1_feature = outputs[0]\n",
    "    layer2_feature = outputs[1]\n",
    "    layer3_feature = outputs[2]\n",
    "    outputs.clear()\n",
    "    return [layer1_feature,layer2_feature,layer3_feature]\n",
    "\n",
    "encoder.layer1.register_forward_hook(hook)\n",
    "encoder.layer2.register_forward_hook(hook)\n",
    "encoder.layer3.register_forward_hook(hook)\n",
    "\n",
    "# produce multi-scale feature\n",
    "def concat_feature(features,config):\n",
    "    use_layers = [i-1 for i in config['use_layers']]\n",
    "    # determine resize to which feature\n",
    "    target_size = config['p_size'] # 32\n",
    "    resized_feature = list()\n",
    "\n",
    "    for i in range(len(features)):\n",
    "        current_size = features[i].size()[3]\n",
    "\n",
    "        ## TODO ######################################################\n",
    "        # please calculate the factor or size to resize to\n",
    "        # use F.interpolate() to resize, set mode to bilinear\n",
    "        # align_corners to False.\n",
    "        # For more instruction, please refer to :\n",
    "        # https://pytorch.org/docs/stable/generated/torch.nn.functional.interpolate.html\n",
    "\n",
    "        temp_feaure = F.interpolate(features[i], (target_size, target_size), mode=\"bilinear\", align_corners=False)\n",
    "        #############################################################\n",
    "        resized_feature.append(temp_feaure)\n",
    "\n",
    "    return torch.concat([resized_feature[i] for i in use_layers],dim=1)\n"
   ]
  },
  {
   "cell_type": "code",
   "execution_count": 7,
   "metadata": {
    "id": "OWxK_IOpsvmM"
   },
   "outputs": [],
   "source": [
    "def encode_loc(encoder,image,config):\n",
    "    assert len(image.shape) == 4\n",
    "    ans = torch.zeros((image.shape[0],config['dloc'],image.shape[2],image.shape[3])).to(config['device'])\n",
    "    for x in range(int(256/config['p_size'])):\n",
    "        for y in range(int(256/config['p_size'])):\n",
    "            x_start = x*config['p_size']\n",
    "            x_end = (x+1)*config['p_size']\n",
    "            y_start = y*config['p_size']\n",
    "            y_end = (y+1)*config['p_size']\n",
    "            local = get_features(encoder,image[:,:,x_start:x_end,y_start:y_end].to(config['device']),outputs)\n",
    "            local = concat_feature(local,config)\n",
    "            assert ans[:,:,x_start:x_end,y_start:y_end].shape == local.shape\n",
    "            ans[:,:,x_start:x_end,y_start:y_end] = local\n",
    "    return ans"
   ]
  },
  {
   "cell_type": "code",
   "execution_count": 8,
   "metadata": {
    "id": "QAm_2qcUg9RV"
   },
   "outputs": [],
   "source": [
    "def init_weight(m):\n",
    "    if isinstance(m, torch.nn.Linear):\n",
    "        torch.nn.init.xavier_normal_(m.weight)\n",
    "    elif isinstance(m, torch.nn.Conv2d):\n",
    "        torch.nn.init.xavier_normal_(m.weight)\n",
    "    elif isinstance(m, torch.nn.ConvTranspose2d):\n",
    "        torch.nn.init.xavier_normal_(m.weight)"
   ]
  },
  {
   "cell_type": "code",
   "execution_count": 9,
   "metadata": {
    "id": "pHUQ5rXMY-2E"
   },
   "outputs": [],
   "source": [
    "class feature_encoder(nn.Module):\n",
    "    def __init__(self,output_dim,g_dim,input_dim = 3):\n",
    "        super(feature_encoder,self).__init__()\n",
    "        self.conv = nn.ModuleList([])\n",
    "        self.deconv = nn.ModuleList([])\n",
    "        self.skip = nn.ModuleList([])\n",
    "        self.layers = 6\n",
    "\n",
    "        out_dim = [32,32,64,64,64]\n",
    "        out_kernel = [4,4,4,4,4,8]\n",
    "        self.skip_add = []\n",
    "\n",
    "\n",
    "        self.conv.append(nn.Sequential(nn.Conv2d(input_dim,out_dim[0],kernel_size=out_kernel[0],stride=2,padding=1),nn.LeakyReLU(0.2)))\n",
    "        for i in range(self.layers-2):\n",
    "            self.conv.append(nn.Sequential(nn.Conv2d(out_dim[i],out_dim[i+1],kernel_size=out_kernel[i+1],stride=2,padding=1),nn.LeakyReLU(0.2)))\n",
    "        self.conv.append(nn.Conv2d(out_dim[self.layers-2],g_dim,kernel_size=out_kernel[self.layers-1]))\n",
    "\n",
    "\n",
    "\n",
    "        self.deconv.append(nn.ConvTranspose2d(g_dim,out_dim[self.layers-2],kernel_size=out_kernel[self.layers-1]))\n",
    "        for i in range(self.layers-2):\n",
    "            self.deconv.append(nn.Sequential(nn.ConvTranspose2d(out_dim[self.layers-2-i],out_dim[self.layers-2-i-1],kernel_size=out_kernel[self.layers-2-i],stride=2,padding=1),nn.LeakyReLU(0.2)))\n",
    "        self.deconv.append(nn.Sequential(nn.ConvTranspose2d(out_dim[0],32,kernel_size=out_kernel[0],stride=2,padding=1),nn.LeakyReLU(0.2)))\n",
    "        self.deconv.append(nn.Sequential(nn.ConvTranspose2d(32,output_dim,kernel_size=1,stride=1)))\n",
    "\n",
    "\n",
    "        for i in range(self.layers-1):\n",
    "            self.skip.append(nn.Conv2d(out_dim[i],out_dim[i],kernel_size=1,stride=1))\n",
    "        self.apply(init_weight)\n",
    "    def forward(self,x,weight=None):\n",
    "        if weight!=None:\n",
    "            assert len(weight) == self.layers-1\n",
    "        self.skip_add = []\n",
    "        for i in range(self.layers):\n",
    "            x = self.conv[i](x)\n",
    "            self.skip_add.append(x)\n",
    "        for i in range(self.layers-1):\n",
    "            x = self.deconv[i](x)\n",
    "            adder = self.skip[self.layers-2-i](self.skip_add[self.layers-2-i])\n",
    "            if weight!=None:\n",
    "                x = x + adder * weight[self.layers-2-i]\n",
    "        x = self.deconv[self.layers-1](x)\n",
    "        x = self.deconv[self.layers](x)\n",
    "        return x"
   ]
  },
  {
   "cell_type": "markdown",
   "metadata": {
    "id": "OAe3jl2tbvrt"
   },
   "source": [
    "### Regressor\n",
    "\n",
    "https://github.com/jvanvugt/pytorch-unet"
   ]
  },
  {
   "cell_type": "code",
   "execution_count": 11,
   "metadata": {
    "id": "MDhwf729b3ga"
   },
   "outputs": [],
   "source": [
    "class UNet(nn.Module):\n",
    "    def __init__(\n",
    "        self,\n",
    "        in_channels=3,\n",
    "        n_classes=2,\n",
    "        depth=5,\n",
    "        wf=6,\n",
    "        padding=False,\n",
    "        batch_norm=False,\n",
    "        up_mode='upconv',\n",
    "    ):\n",
    "        \"\"\"\n",
    "        Implementation of\n",
    "        U-Net: Convolutional Networks for Biomedical Image Segmentation\n",
    "        (Ronneberger et al., 2015)\n",
    "        https://arxiv.org/abs/1505.04597\n",
    "\n",
    "        Using the default arguments will yield the exact version used\n",
    "        in the original paper\n",
    "\n",
    "        Args:\n",
    "            in_channels (int): number of input channels\n",
    "            n_classes (int): number of output channels\n",
    "            depth (int): depth of the network\n",
    "            wf (int): number of filters in the first layer is 2**wf\n",
    "            padding (bool): if True, apply padding such that the input shape\n",
    "                            is the same as the output.\n",
    "                            This may introduce artifacts\n",
    "            batch_norm (bool): Use BatchNorm after layers with an\n",
    "                               activation function\n",
    "            up_mode (str): one of 'upconv' or 'upsample'.\n",
    "                           'upconv' will use transposed convolutions for\n",
    "                           learned upsampling.\n",
    "                           'upsample' will use bilinear upsampling.\n",
    "        \"\"\"\n",
    "        super(UNet, self).__init__()\n",
    "        assert up_mode in ('upconv', 'upsample')\n",
    "        self.padding = padding\n",
    "        self.depth = depth\n",
    "        prev_channels = in_channels\n",
    "        self.down_path = nn.ModuleList()\n",
    "        for i in range(depth):\n",
    "            self.down_path.append(\n",
    "                UNetConvBlock(prev_channels, 2 ** (wf + i), padding, batch_norm)\n",
    "            )\n",
    "            prev_channels = 2 ** (wf + i)\n",
    "\n",
    "        self.up_path = nn.ModuleList()\n",
    "        for i in reversed(range(depth - 1)):\n",
    "            self.up_path.append(\n",
    "                UNetUpBlock(prev_channels, 2 ** (wf + i), up_mode, padding, batch_norm)\n",
    "            )\n",
    "            prev_channels = 2 ** (wf + i)\n",
    "\n",
    "        self.last = nn.Conv2d(prev_channels, n_classes, kernel_size=1)\n",
    "\n",
    "    def forward(self, x):\n",
    "        blocks = []\n",
    "        for i, down in enumerate(self.down_path):\n",
    "            x = down(x)\n",
    "            if i != len(self.down_path) - 1:\n",
    "                blocks.append(x)\n",
    "                x = F.max_pool2d(x, 2)\n",
    "\n",
    "        for i, up in enumerate(self.up_path):\n",
    "            x = up(x, blocks[-i - 1])\n",
    "        return F.interpolate(self.last(x), 256, mode=\"bilinear\", align_corners=False)\n",
    "\n",
    "\n",
    "class UNetConvBlock(nn.Module):\n",
    "    def __init__(self, in_size, out_size, padding, batch_norm):\n",
    "        super(UNetConvBlock, self).__init__()\n",
    "        block = []\n",
    "\n",
    "        block.append(nn.Conv2d(in_size, out_size, kernel_size=3, padding=int(padding)))\n",
    "        block.append(nn.ReLU())\n",
    "        if batch_norm:\n",
    "            block.append(nn.BatchNorm2d(out_size))\n",
    "\n",
    "        block.append(nn.Conv2d(out_size, out_size, kernel_size=3, padding=int(padding)))\n",
    "        block.append(nn.ReLU())\n",
    "        if batch_norm:\n",
    "            block.append(nn.BatchNorm2d(out_size))\n",
    "\n",
    "        self.block = nn.Sequential(*block)\n",
    "\n",
    "    def forward(self, x):\n",
    "        out = self.block(x)\n",
    "        return out\n",
    "\n",
    "\n",
    "class UNetUpBlock(nn.Module):\n",
    "    def __init__(self, in_size, out_size, up_mode, padding, batch_norm):\n",
    "        super(UNetUpBlock, self).__init__()\n",
    "        if up_mode == 'upconv':\n",
    "            self.up = nn.ConvTranspose2d(in_size, out_size, kernel_size=2, stride=2)\n",
    "        elif up_mode == 'upsample':\n",
    "            self.up = nn.Sequential(\n",
    "                nn.Upsample(mode='bilinear', scale_factor=2),\n",
    "                nn.Conv2d(in_size, out_size, kernel_size=1),\n",
    "            )\n",
    "\n",
    "        self.conv_block = UNetConvBlock(in_size, out_size, padding, batch_norm)\n",
    "\n",
    "    def center_crop(self, layer, target_size):\n",
    "        _, _, layer_height, layer_width = layer.size()\n",
    "        diff_y = (layer_height - target_size[0]) // 2\n",
    "        diff_x = (layer_width - target_size[1]) // 2\n",
    "        return layer[\n",
    "            :, :, diff_y : (diff_y + target_size[0]), diff_x : (diff_x + target_size[1])\n",
    "        ]\n",
    "\n",
    "    def forward(self, x, bridge):\n",
    "        up = self.up(x)\n",
    "        crop1 = self.center_crop(bridge, up.shape[2:])\n",
    "        out = torch.cat([up, crop1], 1)\n",
    "        out = self.conv_block(out)\n",
    "        return out"
   ]
  },
  {
   "cell_type": "markdown",
   "metadata": {
    "id": "R5S2qFoobvru"
   },
   "source": [
    "### Upsample"
   ]
  },
  {
   "cell_type": "code",
   "execution_count": 12,
   "metadata": {
    "id": "NrZzASePY-2F"
   },
   "outputs": [],
   "source": [
    "class Upsample(nn.Module):\n",
    "    def __init__(self,input_dim,output_dim):\n",
    "        super(Upsample,self).__init__()\n",
    "        self.conv = nn.Sequential(nn.Conv2d(input_dim,input_dim,kernel_size=1,stride=1),\n",
    "                                  nn.LeakyReLU(0.2),\n",
    "                                  nn.Conv2d(input_dim,output_dim,kernel_size=1,stride=1),\n",
    "                                  nn.LeakyReLU(0.2),\n",
    "                                  nn.Conv2d(output_dim,output_dim,kernel_size=1,stride=1))\n",
    "        self.apply(init_weight)\n",
    "    def forward(self,x):\n",
    "        x = self.conv(x)\n",
    "        return x"
   ]
  },
  {
   "cell_type": "markdown",
   "metadata": {
    "id": "bpxMGtmJbvru"
   },
   "source": [
    "### GCAD"
   ]
  },
  {
   "cell_type": "code",
   "execution_count": 13,
   "metadata": {
    "id": "a1VIcwaCY-2F"
   },
   "outputs": [],
   "source": [
    "class GCAD(nn.Module):\n",
    "    def __init__(self, config):\n",
    "        super(GCAD,self).__init__()\n",
    "        self.eglo = feature_encoder(config['dglo'],config['dim_g'])\n",
    "        self.U = Upsample(config['dglo'],config['dloc'])\n",
    "        self.rglo = UNet(n_classes=config['dglo'],depth=config['r_layer'])\n",
    "        self.rloc = UNet(n_classes=config['dloc'],depth=config['r_layer'])\n",
    "    def forward(self,x,weight=None):\n",
    "        feature_rloc = self.rloc(x)\n",
    "        feature_eglo = self.eglo(x,weight)\n",
    "        feature_rglo = self.rglo(x)\n",
    "        feature_eglo_up = self.U(feature_eglo)\n",
    "        return feature_rloc,feature_eglo,feature_rglo,feature_eglo_up\n",
    "    def predict(self,x,features):\n",
    "        structural_map = (torch.sum(((features - self.rloc(x))**2),dim=1,keepdim=True)**0.5)\n",
    "        logical_map = (torch.sum(((self.eglo(x) - self.rglo(x))**2),dim=1,keepdim=True)**0.5)\n",
    "        return structural_map, logical_map"
   ]
  },
  {
   "cell_type": "markdown",
   "metadata": {
    "id": "keY2npwhuAMx"
   },
   "source": [
    "## **Train/Validation/Test**"
   ]
  },
  {
   "cell_type": "markdown",
   "metadata": {
    "id": "95kpJ2P2uTQS"
   },
   "source": [
    "### **Train**"
   ]
  },
  {
   "cell_type": "code",
   "execution_count": 14,
   "metadata": {
    "id": "MaTqUYx8uI6A"
   },
   "outputs": [],
   "source": [
    "def train(encoder, model, dataset, config):\n",
    "\n",
    "    # optimizer\n",
    "    rloc_optim = torch.optim.AdamW(model.rloc.parameters(), lr=config['lr_loc'], weight_decay=config['weight'])\n",
    "    rglo_optim = torch.optim.AdamW(model.rglo.parameters(), lr=config['lr_glo'], weight_decay=config['weight'])\n",
    "    eglo_optim = torch.optim.Adam(model.eglo.parameters(), lr=config['lr_glo'], weight_decay=config['weight'])\n",
    "    U_optim = torch.optim.AdamW(model.U.parameters(), lr=config['lr'], weight_decay=config['weight'])\n",
    "    criterion = nn.MSELoss()\n",
    "    # train\n",
    "    weight = [1,1,1,1,1]\n",
    "    for epoch in tqdm(range(config['epochs'])):\n",
    "        epoch_loss = 0\n",
    "        epoch_loc = 0\n",
    "        epoch_glo = 0\n",
    "        epoch_kd = 0\n",
    "        if epoch<config['epochs']/5:\n",
    "            weight[int(epoch/(config['epochs']/25))]-=25/config['epochs']\n",
    "        for x,y,mask in DataLoader(dataset, batch_size=config['batch_size']):\n",
    "            x, y = x.to(config['device']), y.to(config['device'])\n",
    "            eloc = encode_loc(encoder,x,config)\n",
    "            eloc2 = eloc.clone()\n",
    "            rloc,eglo,rglo,up_eglo = model(x,weight)\n",
    "\n",
    "            loc_loss = criterion(eloc,rloc)\n",
    "            kd_loss = criterion(eloc2,up_eglo)\n",
    "            glo_loss = criterion(eglo,rglo)\n",
    "\n",
    "            loss = loc_loss**0.5/config['dloc']+kd_loss**0.5/config['dloc']+glo_loss**0.5/config['dglo']\n",
    "\n",
    "            # clear gradient\n",
    "            if epoch>=config['epochs']/10:\n",
    "                rglo_optim.zero_grad()\n",
    "            rloc_optim.zero_grad()\n",
    "            eglo_optim.zero_grad()\n",
    "            U_optim.zero_grad()\n",
    "\n",
    "            # calculate new gradient\n",
    "            loss.backward()\n",
    "\n",
    "            # update parameters\n",
    "            if epoch>=config['epochs']/10:\n",
    "                rglo_optim.step()\n",
    "            rloc_optim.step()\n",
    "            eglo_optim.step()\n",
    "            U_optim.step()\n",
    "            epoch_loss += loss.detach().cpu().item()\n",
    "            epoch_glo += glo_loss.detach().cpu().item()**0.5/config['dglo']\n",
    "            epoch_loc += loc_loss.detach().cpu().item()**0.5/config['dloc']\n",
    "            epoch_kd += kd_loss.detach().cpu().item()**0.5/config['dloc']\n",
    "            del eloc, eloc2, rloc, eglo, rglo, up_eglo\n",
    "            torch.cuda.empty_cache()\n",
    "        if (epoch + 1) % config['print_interval'] == 0:\n",
    "            print(f\"epoch{epoch+1} loss:{epoch_loss:.6f}, glo:{epoch_glo:.6f}, loc:{epoch_loc:.6f}, kd:{epoch_kd:.6f}\")"
   ]
  },
  {
   "cell_type": "markdown",
   "metadata": {
    "id": "fI3HHycfubdd"
   },
   "source": [
    "### **Test**"
   ]
  },
  {
   "cell_type": "code",
   "execution_count": 15,
   "metadata": {
    "id": "cCgTDQjeuc2o"
   },
   "outputs": [],
   "source": [
    "#######################################\n",
    "# testing\n",
    "@torch.no_grad()\n",
    "def test(encoder, model, dataset, config):\n",
    "    result = dict()\n",
    "    result['total_scores_pixel'] = list()\n",
    "    result['total_scores_image'] = list()\n",
    "    result['total_gt_pixel'] = list()\n",
    "    result['total_gt_image'] = list()\n",
    "    result['input_image'] = list()\n",
    "    result['structural_map'] = list()\n",
    "    result['logical_map'] = list()\n",
    "\n",
    "\n",
    "    for x,y,mask in DataLoader(dataset,batch_size=1):\n",
    "        x, y = x.to(config['device']), y.to(config['device'])\n",
    "        model.eval()\n",
    "        # store input image\n",
    "        result['input_image'].append(x.cpu().detach().numpy())\n",
    "        eloc = encode_loc(encoder,x,config)\n",
    "\n",
    "        scores_map = None\n",
    "        structural_map, logical_map = model.predict(x,eloc)\n",
    "        result['structural_map'].append(structural_map.cpu().detach().numpy())\n",
    "        result['logical_map'].append(logical_map.cpu().detach().numpy())\n",
    "\n",
    "        # store groundtruth\n",
    "        result['total_gt_pixel'].append(mask.cpu().detach().numpy())\n",
    "        result['total_gt_image'].append(y.cpu().detach().numpy())\n",
    "\n",
    "    # gether all scores and groundtruth\n",
    "    result['input_image'] = np.concatenate(result['input_image'],axis=0)\n",
    "\n",
    "    result['structural_map'] = np.concatenate(result['structural_map'],axis=0)\n",
    "    result['logical_map'] = np.concatenate(result['logical_map'],axis=0)\n",
    "\n",
    "    mean_structural = np.mean(result['structural_map'],axis = 0,keepdims=True)\n",
    "    std_structural = np.std(result['structural_map'],axis = 0,keepdims=True)\n",
    "    mean_logical = np.mean(result['logical_map'],axis = 0,keepdims=True)\n",
    "    std_logical = np.std(result['logical_map'],axis = 0,keepdims=True)\n",
    "    result['structural_map'] = (result['structural_map'] - mean_structural)/(std_structural+1e-9)\n",
    "    result['logical_map'] = (result['logical_map'] - mean_logical)/(std_logical+1e-9)\n",
    "\n",
    "    if config['anomaly_type'] == 'structural':\n",
    "        result['total_scores_pixel'] = result['structural_map']\n",
    "\n",
    "    elif config['anomaly_type'] == 'logical':\n",
    "        result['total_scores_pixel'] = result['logical_map']\n",
    "\n",
    "    else:\n",
    "        result['total_scores_pixel'] = result['logical_map'] + result['structural_map']\n",
    "\n",
    "    scores = []\n",
    "    for score_map in result['total_scores_pixel']:\n",
    "        scores.append(np.max(score_map))\n",
    "\n",
    "    result['total_scores_image'] = np.array(scores)\n",
    "\n",
    "\n",
    "    result['total_gt_pixel'] = np.concatenate(result['total_gt_pixel'],axis=0)\n",
    "    result['total_gt_image'] = np.hstack(result['total_gt_image'])\n",
    "\n",
    "    model.train()\n",
    "    return result"
   ]
  },
  {
   "cell_type": "markdown",
   "metadata": {
    "id": "NP-gIzMoudtV"
   },
   "source": [
    "## **Training/Testing Process**"
   ]
  },
  {
   "cell_type": "markdown",
   "metadata": {
    "id": "RJqxUATxuqMy"
   },
   "source": [
    "### **Config**"
   ]
  },
  {
   "cell_type": "code",
   "execution_count": 16,
   "metadata": {
    "id": "yF_FlVwDusGW"
   },
   "outputs": [],
   "source": [
    "config = {\n",
    "    'few_shot' : 8,\n",
    "    'anomaly_type' : None, # None, 'logical', 'structural'\n",
    "    'lr':1e-4,\n",
    "    'lr_loc':1e-4,\n",
    "    'lr_glo':1e-4,\n",
    "    'r_layer':5,#adjustable[3,4,5]\n",
    "    'weight':1e-5,\n",
    "    'epochs' : 20,\n",
    "    'print_interval' : 10,\n",
    "    'batch_size' : 1,\n",
    "    'device' : device,\n",
    "    'use_layers' : [1],#with dloc [0:1024,1:256,2:512,3:1024]\n",
    "    'p_size':16,#adjustable[16,32]\n",
    "    'dglo':20,#adjustable[10,140]\n",
    "    'dloc':256,#adjustable with use_layers\n",
    "    'dim_g':32,#adjustable[16,32,48,64]\n",
    "}"
   ]
  },
  {
   "cell_type": "markdown",
   "metadata": {
    "id": "tjdgtO7iusd4"
   },
   "source": [
    "### **Training and Testing**"
   ]
  },
  {
   "cell_type": "code",
   "execution_count": 17,
   "metadata": {
    "id": "yNw6mIrtPjro"
   },
   "outputs": [],
   "source": [
    "datasets = {}\n",
    "class_names = ['breakfast_box', 'juice_bottle', 'pushpins', 'screw_bag', 'splicing_connectors']\n",
    "modes = ['train', 'validation', 'test']"
   ]
  },
  {
   "cell_type": "code",
   "execution_count": null,
   "metadata": {
    "colab": {
     "base_uri": "https://localhost:8080/"
    },
    "id": "U2xFQFXsO8Ou",
    "outputId": "7f8902c9-fc6b-4d48-c361-899fc65dc2e9"
   },
   "outputs": [
    {
     "name": "stdout",
     "output_type": "stream",
     "text": [
      "breakfast_box train dataset created, consists of 40 images\n",
      "breakfast_box test dataset created, consists of 275 images\n"
     ]
    }
   ],
   "source": [
    "for class_name in ['breakfast_box']:\n",
    "    datasets[class_name] = {}\n",
    "    for mode in ['train', 'test']:\n",
    "        datasets[class_name][mode] = MVTecDataset(class_name=class_name, anomaly_type=config['anomaly_type'], mode=mode, few_shot=config['few_shot'],augmentation=True)"
   ]
  },
  {
   "cell_type": "code",
   "execution_count": null,
   "metadata": {
    "colab": {
     "base_uri": "https://localhost:8080/"
    },
    "id": "gxsX2RxLPhkX",
    "outputId": "b1a90c18-5378-4588-aac7-633ce7ab2045"
   },
   "outputs": [
    {
     "name": "stdout",
     "output_type": "stream",
     "text": [
      "juice_bottle train dataset created, consists of 40 images\n",
      "juice_bottle test dataset created, consists of 330 images\n"
     ]
    }
   ],
   "source": [
    "for class_name in ['juice_bottle']:\n",
    "    datasets[class_name] = {}\n",
    "    for mode in ['train', 'test']:\n",
    "        datasets[class_name][mode] = MVTecDataset(class_name=class_name, anomaly_type=config['anomaly_type'], mode=mode, few_shot=config['few_shot'],augmentation=True)"
   ]
  },
  {
   "cell_type": "code",
   "execution_count": null,
   "metadata": {
    "colab": {
     "base_uri": "https://localhost:8080/"
    },
    "id": "GMtRIO-tEFa8",
    "outputId": "47a465ce-38fa-4e95-8e29-7b9dee6cbcd0"
   },
   "outputs": [
    {
     "name": "stdout",
     "output_type": "stream",
     "text": [
      "pushpins train dataset created, consists of 40 images\n",
      "pushpins test dataset created, consists of 310 images\n"
     ]
    }
   ],
   "source": [
    "for class_name in ['pushpins']:\n",
    "    datasets[class_name] = {}\n",
    "    for mode in ['train', 'test']:\n",
    "        datasets[class_name][mode] = MVTecDataset(class_name=class_name, anomaly_type=config['anomaly_type'], mode=mode, few_shot=config['few_shot'],augmentation=True)"
   ]
  },
  {
   "cell_type": "code",
   "execution_count": null,
   "metadata": {
    "colab": {
     "base_uri": "https://localhost:8080/"
    },
    "id": "rvOefKvVSx6F",
    "outputId": "b415b37d-7ee4-4a36-9935-8146bbda69d7"
   },
   "outputs": [
    {
     "name": "stdout",
     "output_type": "stream",
     "text": [
      "screw_bag train dataset created, consists of 40 images\n",
      "screw_bag test dataset created, consists of 341 images\n"
     ]
    }
   ],
   "source": [
    "for class_name in ['screw_bag']:\n",
    "    datasets[class_name] = {}\n",
    "    for mode in ['train', 'test']:\n",
    "        datasets[class_name][mode] = MVTecDataset(class_name=class_name, anomaly_type=config['anomaly_type'], mode=mode, few_shot=config['few_shot'],augmentation=True)"
   ]
  },
  {
   "cell_type": "code",
   "execution_count": 18,
   "metadata": {
    "colab": {
     "base_uri": "https://localhost:8080/"
    },
    "id": "qGjB8kZSbZqJ",
    "outputId": "69912b66-a9a3-4010-ab45-9c0b7be49394"
   },
   "outputs": [
    {
     "name": "stdout",
     "output_type": "stream",
     "text": [
      "splicing_connectors train dataset created, consists of 40 images\n",
      "splicing_connectors test dataset created, consists of 312 images\n"
     ]
    }
   ],
   "source": [
    "for class_name in ['splicing_connectors']:\n",
    "    datasets[class_name] = {}\n",
    "    for mode in ['train', 'test']:\n",
    "        datasets[class_name][mode] = MVTecDataset(class_name=class_name, anomaly_type=config['anomaly_type'], mode=mode, few_shot=config['few_shot'],augmentation=True)"
   ]
  },
  {
   "cell_type": "markdown",
   "metadata": {
    "id": "Wzc-lUds-CUw"
   },
   "source": [
    "**breakfast_box**"
   ]
  },
  {
   "cell_type": "code",
   "execution_count": null,
   "metadata": {
    "colab": {
     "base_uri": "https://localhost:8080/",
     "height": 173,
     "referenced_widgets": [
      "fdacdd0dd94548d8a0392fe21d90e2a7",
      "ed122b4451754864b49724ffd90a97df",
      "a5fcc79437a74c91863cf76d0b53d895",
      "222a75ab6b424c14a3ded81451ba2968",
      "4b7680e2335748069dc7284a9453d591",
      "6f5f6fa95d374f03b86d0e943bbf22db",
      "048c54d0c38e4ddd897825e0f87dfc8f",
      "15da36d5cff642aaa9f4e0de8b5ccbaf",
      "0bbc14bb52554abe8b87695261c31866",
      "dc863d4c698b489b92a5902f01c1d8ae",
      "ab74955cff9e47de81d3595917e12254"
     ]
    },
    "id": "cg0eYHA5Y-2G",
    "outputId": "069f1ebe-752d-421a-eb40-26c11be57f5b"
   },
   "outputs": [
    {
     "data": {
      "application/vnd.jupyter.widget-view+json": {
       "model_id": "fdacdd0dd94548d8a0392fe21d90e2a7",
       "version_major": 2,
       "version_minor": 0
      },
      "text/plain": [
       "  0%|          | 0/20 [00:00<?, ?it/s]"
      ]
     },
     "metadata": {},
     "output_type": "display_data"
    },
    {
     "name": "stderr",
     "output_type": "stream",
     "text": [
      "/usr/local/lib/python3.10/dist-packages/torch/nn/modules/conv.py:456: UserWarning: Plan failed with a cudnnException: CUDNN_BACKEND_EXECUTION_PLAN_DESCRIPTOR: cudnnFinalize Descriptor Failed cudnn_status: CUDNN_STATUS_NOT_SUPPORTED (Triggered internally at ../aten/src/ATen/native/cudnn/Conv_v8.cpp:919.)\n",
      "  return F.conv2d(input, weight, bias, self.stride,\n",
      "/usr/local/lib/python3.10/dist-packages/torch/autograd/graph.py:744: UserWarning: Plan failed with a cudnnException: CUDNN_BACKEND_EXECUTION_PLAN_DESCRIPTOR: cudnnFinalize Descriptor Failed cudnn_status: CUDNN_STATUS_NOT_SUPPORTED (Triggered internally at ../aten/src/ATen/native/cudnn/Conv_v8.cpp:919.)\n",
      "  return Variable._execution_engine.run_backward(  # Calls into the C++ engine to run the backward pass\n"
     ]
    },
    {
     "name": "stdout",
     "output_type": "stream",
     "text": [
      "epoch10 loss:0.076765, glo:0.024045, loc:0.026304, kd:0.026416\n",
      "epoch20 loss:0.063633, glo:0.011012, loc:0.026264, kd:0.026358\n"
     ]
    }
   ],
   "source": [
    "model = GCAD(config).to(device)\n",
    "train(encoder, model, datasets['breakfast_box']['train'], config)"
   ]
  },
  {
   "cell_type": "code",
   "execution_count": null,
   "metadata": {
    "colab": {
     "base_uri": "https://localhost:8080/",
     "height": 472
    },
    "id": "e3Ci3OlyY-2G",
    "outputId": "d8bcaad9-2fc3-46b1-ecb0-8933b467b8a6"
   },
   "outputs": [
    {
     "data": {
      "image/png": "[encoded data removed]",
      "text/plain": [
       "<Figure size 640x480 with 1 Axes>"
      ]
     },
     "metadata": {},
     "output_type": "display_data"
    }
   ],
   "source": [
    "result = test(encoder, model, datasets['breakfast_box']['test'], config)\n",
    "fpr, tpr, auc = compute_metric(result)\n",
    "plot_roc_curve(fpr, tpr, auc, 'breakfast_box')"
   ]
  },
  {
   "cell_type": "code",
   "execution_count": null,
   "metadata": {
    "colab": {
     "base_uri": "https://localhost:8080/",
     "height": 261
    },
    "id": "PpbXIzuyX1Ug",
    "outputId": "9989849a-7e36-4162-c556-2d16cf21da51"
   },
   "outputs": [
    {
     "data": {
      "image/png": "[encoded data removed]",
      "text/plain": [
       "<Figure size 640x480 with 3 Axes>"
      ]
     },
     "metadata": {},
     "output_type": "display_data"
    }
   ],
   "source": [
    "anomaly_threshold = 2\n",
    "# Get a random sample\n",
    "# index = int(np.random.random()*len(result['input_image']))\n",
    "index = 200\n",
    "plot_anomaly_map(result, 'breakfast_box', datasets['breakfast_box']['test'], index, anomaly_threshold)"
   ]
  },
  {
   "cell_type": "markdown",
   "metadata": {
    "id": "MYASoDLWERts"
   },
   "source": [
    "**juice_bottle**"
   ]
  },
  {
   "cell_type": "code",
   "execution_count": null,
   "metadata": {
    "colab": {
     "base_uri": "https://localhost:8080/",
     "height": 173,
     "referenced_widgets": [
      "f9be9fe78c8b4ea88e64be4e574d2c53",
      "dd130d4bdd184b52aa85eac2084066d1",
      "3fe036754c094d7283a248b9ce8901fa",
      "0c463ca1948343bfbccfa7a4d1f8f555",
      "19770e585f77484d8d0a141b813d3310",
      "f660f2a41ef946148a25f33b1f1120e6",
      "b6c38a66470e497fb15bac483ff7376d",
      "ee4fe65551904dcaa0bd0b7b55e1b8d0",
      "c21236669c5747c8933c9566bac32e76",
      "4db1b4a483b8474db7e113f342c2525c",
      "4d61524b693f4b91816b8a3552095dd6"
     ]
    },
    "id": "gtdg35gbElWt",
    "outputId": "c1c965de-bb26-4650-ee1f-fe6f784d4686"
   },
   "outputs": [
    {
     "data": {
      "application/vnd.jupyter.widget-view+json": {
       "model_id": "f9be9fe78c8b4ea88e64be4e574d2c53",
       "version_major": 2,
       "version_minor": 0
      },
      "text/plain": [
       "  0%|          | 0/20 [00:00<?, ?it/s]"
      ]
     },
     "metadata": {},
     "output_type": "display_data"
    },
    {
     "name": "stderr",
     "output_type": "stream",
     "text": [
      "/usr/local/lib/python3.10/dist-packages/torch/nn/modules/conv.py:456: UserWarning: Plan failed with a cudnnException: CUDNN_BACKEND_EXECUTION_PLAN_DESCRIPTOR: cudnnFinalize Descriptor Failed cudnn_status: CUDNN_STATUS_NOT_SUPPORTED (Triggered internally at ../aten/src/ATen/native/cudnn/Conv_v8.cpp:919.)\n",
      "  return F.conv2d(input, weight, bias, self.stride,\n",
      "/usr/local/lib/python3.10/dist-packages/torch/autograd/graph.py:744: UserWarning: Plan failed with a cudnnException: CUDNN_BACKEND_EXECUTION_PLAN_DESCRIPTOR: cudnnFinalize Descriptor Failed cudnn_status: CUDNN_STATUS_NOT_SUPPORTED (Triggered internally at ../aten/src/ATen/native/cudnn/Conv_v8.cpp:919.)\n",
      "  return Variable._execution_engine.run_backward(  # Calls into the C++ engine to run the backward pass\n"
     ]
    },
    {
     "name": "stdout",
     "output_type": "stream",
     "text": [
      "epoch10 loss:0.062109, glo:0.012819, loc:0.024635, kd:0.024655\n",
      "epoch20 loss:0.056818, glo:0.007633, loc:0.024560, kd:0.024625\n"
     ]
    }
   ],
   "source": [
    "model = GCAD(config).to(device)\n",
    "train(encoder, model, datasets['juice_bottle']['train'], config)"
   ]
  },
  {
   "cell_type": "code",
   "execution_count": null,
   "metadata": {
    "colab": {
     "base_uri": "https://localhost:8080/",
     "height": 472
    },
    "id": "SDqG5PrKEoVE",
    "outputId": "47e61bbf-5a47-42b0-dbc2-c19197478a7e"
   },
   "outputs": [
    {
     "data": {
      "image/png": "[encoded data removed]",
      "text/plain": [
       "<Figure size 640x480 with 1 Axes>"
      ]
     },
     "metadata": {},
     "output_type": "display_data"
    }
   ],
   "source": [
    "result = test(encoder, model, datasets['juice_bottle']['test'], config)\n",
    "fpr, tpr, auc = compute_metric(result)\n",
    "plot_roc_curve(fpr, tpr, auc, 'juice_bottle')"
   ]
  },
  {
   "cell_type": "markdown",
   "metadata": {
    "id": "kQOtUTPzEW7j"
   },
   "source": [
    "**pushpins**"
   ]
  },
  {
   "cell_type": "code",
   "execution_count": null,
   "metadata": {
    "colab": {
     "base_uri": "https://localhost:8080/",
     "height": 173,
     "referenced_widgets": [
      "1a313fce1742490d88440d4b47fe4d4e",
      "785117c4e8194f01b786bd5837ad99ff",
      "274fde99575d48abbef2359d70125a06",
      "7615110cdc0945a6af376fed15a27ebf",
      "9a749c5188e444d6accf462691c27ecc",
      "61728adf067c4ed2b1e8966e60aadbdb",
      "b2bc06a363334b528422fb56b2d7c2fa",
      "696b9a6481f04ccfaeb1c94f0bb2214d",
      "f922125e7b374159b98901fd430251d3",
      "a09d5d0fb7ef477c8ca5b261a852e835",
      "d89f016b494941c1845f94b30c5a9900"
     ]
    },
    "id": "akH29lVqEtDh",
    "outputId": "90f1e53c-d40e-47ad-dd07-0c001a9f4398"
   },
   "outputs": [
    {
     "data": {
      "application/vnd.jupyter.widget-view+json": {
       "model_id": "1a313fce1742490d88440d4b47fe4d4e",
       "version_major": 2,
       "version_minor": 0
      },
      "text/plain": [
       "  0%|          | 0/20 [00:00<?, ?it/s]"
      ]
     },
     "metadata": {},
     "output_type": "display_data"
    },
    {
     "name": "stderr",
     "output_type": "stream",
     "text": [
      "/usr/local/lib/python3.10/dist-packages/torch/nn/modules/conv.py:456: UserWarning: Plan failed with a cudnnException: CUDNN_BACKEND_EXECUTION_PLAN_DESCRIPTOR: cudnnFinalize Descriptor Failed cudnn_status: CUDNN_STATUS_NOT_SUPPORTED (Triggered internally at ../aten/src/ATen/native/cudnn/Conv_v8.cpp:919.)\n",
      "  return F.conv2d(input, weight, bias, self.stride,\n",
      "/usr/local/lib/python3.10/dist-packages/torch/autograd/graph.py:744: UserWarning: Plan failed with a cudnnException: CUDNN_BACKEND_EXECUTION_PLAN_DESCRIPTOR: cudnnFinalize Descriptor Failed cudnn_status: CUDNN_STATUS_NOT_SUPPORTED (Triggered internally at ../aten/src/ATen/native/cudnn/Conv_v8.cpp:919.)\n",
      "  return Variable._execution_engine.run_backward(  # Calls into the C++ engine to run the backward pass\n"
     ]
    },
    {
     "name": "stdout",
     "output_type": "stream",
     "text": [
      "epoch10 loss:0.068673, glo:0.015839, loc:0.026379, kd:0.026456\n",
      "epoch20 loss:0.063133, glo:0.010370, loc:0.026310, kd:0.026452\n"
     ]
    }
   ],
   "source": [
    "model = GCAD(config).to(device)\n",
    "train(encoder, model, datasets['pushpins']['train'], config)"
   ]
  },
  {
   "cell_type": "code",
   "execution_count": null,
   "metadata": {
    "colab": {
     "base_uri": "https://localhost:8080/",
     "height": 472
    },
    "id": "T7ptpfBIEw08",
    "outputId": "4866d3e1-e733-4eaa-f6bf-16242a1b6904"
   },
   "outputs": [
    {
     "data": {
      "image/png": "[encoded data removed]",
      "text/plain": [
       "<Figure size 640x480 with 1 Axes>"
      ]
     },
     "metadata": {},
     "output_type": "display_data"
    }
   ],
   "source": [
    "result = test(encoder, model, datasets['pushpins']['test'], config)\n",
    "fpr, tpr, auc = compute_metric(result)\n",
    "plot_roc_curve(fpr, tpr, auc, 'pushpins')"
   ]
  },
  {
   "cell_type": "markdown",
   "metadata": {
    "id": "63oUy6jSEc5i"
   },
   "source": [
    "**screw_bag**"
   ]
  },
  {
   "cell_type": "code",
   "execution_count": null,
   "metadata": {
    "colab": {
     "base_uri": "https://localhost:8080/",
     "height": 173,
     "referenced_widgets": [
      "d207687964f24fc9a520a2d80ce78f55",
      "90b2ab5eae6740e9bea0d002683c722d",
      "5e36901d9c3f45a5b3d994db2678931c",
      "dd68f83e2758403daeb3ffc9cf7f197e",
      "0a60620a014e41c6b953469d42f00197",
      "ae5d115e992d4e7c8900b456e31bb4ab",
      "0dced9a5fd264006aaf8c25059201c08",
      "278ab7e002534f5d9d820b4e18b7fa9e",
      "2f004015f62d41c08b12fcdd41c82025",
      "303abf442a974d9b92fb2ee3b2c5a344",
      "d0a54c776b78434aa1ebf800ef0e0be3"
     ]
    },
    "id": "-YtvZZ_aEvEe",
    "outputId": "b12dc047-c4f7-47ce-f63c-9af14f32531b"
   },
   "outputs": [
    {
     "data": {
      "application/vnd.jupyter.widget-view+json": {
       "model_id": "d207687964f24fc9a520a2d80ce78f55",
       "version_major": 2,
       "version_minor": 0
      },
      "text/plain": [
       "  0%|          | 0/20 [00:00<?, ?it/s]"
      ]
     },
     "metadata": {},
     "output_type": "display_data"
    },
    {
     "name": "stderr",
     "output_type": "stream",
     "text": [
      "/usr/local/lib/python3.10/dist-packages/torch/nn/modules/conv.py:456: UserWarning: Plan failed with a cudnnException: CUDNN_BACKEND_EXECUTION_PLAN_DESCRIPTOR: cudnnFinalize Descriptor Failed cudnn_status: CUDNN_STATUS_NOT_SUPPORTED (Triggered internally at ../aten/src/ATen/native/cudnn/Conv_v8.cpp:919.)\n",
      "  return F.conv2d(input, weight, bias, self.stride,\n",
      "/usr/local/lib/python3.10/dist-packages/torch/autograd/graph.py:744: UserWarning: Plan failed with a cudnnException: CUDNN_BACKEND_EXECUTION_PLAN_DESCRIPTOR: cudnnFinalize Descriptor Failed cudnn_status: CUDNN_STATUS_NOT_SUPPORTED (Triggered internally at ../aten/src/ATen/native/cudnn/Conv_v8.cpp:919.)\n",
      "  return Variable._execution_engine.run_backward(  # Calls into the C++ engine to run the backward pass\n"
     ]
    },
    {
     "name": "stdout",
     "output_type": "stream",
     "text": [
      "epoch10 loss:0.059822, glo:0.012960, loc:0.023428, kd:0.023434\n",
      "epoch20 loss:0.055387, glo:0.008604, loc:0.023376, kd:0.023407\n"
     ]
    }
   ],
   "source": [
    "model = GCAD(config).to(device)\n",
    "train(encoder, model, datasets['screw_bag']['train'], config)"
   ]
  },
  {
   "cell_type": "code",
   "execution_count": null,
   "metadata": {
    "colab": {
     "base_uri": "https://localhost:8080/",
     "height": 472
    },
    "id": "e6WtBJTUExOt",
    "outputId": "b7c14047-eb6a-4192-9155-b422b301eb42"
   },
   "outputs": [
    {
     "data": {
      "image/png": "[encoded data removed]",
      "text/plain": [
       "<Figure size 640x480 with 1 Axes>"
      ]
     },
     "metadata": {},
     "output_type": "display_data"
    }
   ],
   "source": [
    "result = test(encoder, model, datasets['screw_bag']['test'], config)\n",
    "fpr, tpr, auc = compute_metric(result)\n",
    "plot_roc_curve(fpr, tpr, auc, 'screw_bag')"
   ]
  },
  {
   "cell_type": "markdown",
   "metadata": {
    "id": "cIUdH1jhEhTS"
   },
   "source": [
    "**splicing_connectors**"
   ]
  },
  {
   "cell_type": "code",
   "execution_count": 19,
   "metadata": {
    "colab": {
     "base_uri": "https://localhost:8080/",
     "height": 173,
     "referenced_widgets": [
      "df7c6c7dbb9e4e93ba818bf179383d48",
      "fd25f5010a8f4ba9a39b95a04d0fe6e6",
      "5835bad6df944ea2aa49db17e72cb897",
      "54d7ab8f1f4a4c59b183500a27f59fa0",
      "54e6713c19684d5db5e0be051def1f78",
      "802dae89c2b4497587addefd731f3069",
      "74e159a3d46c4950a63d2c836963c55d",
      "edeacdf67eff45e5b6aea222f4195d46",
      "ecbac639efa14e6688cb6738d00d8f13",
      "5c82626c521343aa88a3703dcd15ae36",
      "7abb50ea13174927b7baa85c948e77dd"
     ]
    },
    "id": "wF9KNCb5Evfc",
    "outputId": "973d8b5a-dff2-4cb4-af7d-547ba4c86143"
   },
   "outputs": [
    {
     "data": {
      "application/vnd.jupyter.widget-view+json": {
       "model_id": "df7c6c7dbb9e4e93ba818bf179383d48",
       "version_major": 2,
       "version_minor": 0
      },
      "text/plain": [
       "  0%|          | 0/20 [00:00<?, ?it/s]"
      ]
     },
     "metadata": {},
     "output_type": "display_data"
    },
    {
     "name": "stderr",
     "output_type": "stream",
     "text": [
      "/usr/local/lib/python3.10/dist-packages/torch/nn/modules/conv.py:456: UserWarning: Plan failed with a cudnnException: CUDNN_BACKEND_EXECUTION_PLAN_DESCRIPTOR: cudnnFinalize Descriptor Failed cudnn_status: CUDNN_STATUS_NOT_SUPPORTED (Triggered internally at ../aten/src/ATen/native/cudnn/Conv_v8.cpp:919.)\n",
      "  return F.conv2d(input, weight, bias, self.stride,\n",
      "/usr/local/lib/python3.10/dist-packages/torch/autograd/graph.py:744: UserWarning: Plan failed with a cudnnException: CUDNN_BACKEND_EXECUTION_PLAN_DESCRIPTOR: cudnnFinalize Descriptor Failed cudnn_status: CUDNN_STATUS_NOT_SUPPORTED (Triggered internally at ../aten/src/ATen/native/cudnn/Conv_v8.cpp:919.)\n",
      "  return Variable._execution_engine.run_backward(  # Calls into the C++ engine to run the backward pass\n"
     ]
    },
    {
     "name": "stdout",
     "output_type": "stream",
     "text": [
      "epoch10 loss:0.075479, glo:0.014936, loc:0.030176, kd:0.030367\n",
      "epoch20 loss:0.068806, glo:0.008330, loc:0.030126, kd:0.030351\n"
     ]
    }
   ],
   "source": [
    "model = GCAD(config).to(device)\n",
    "train(encoder, model, datasets['splicing_connectors']['train'], config)"
   ]
  },
  {
   "cell_type": "code",
   "execution_count": 20,
   "metadata": {
    "colab": {
     "base_uri": "https://localhost:8080/",
     "height": 472
    },
    "id": "-q8AgqvoExt8",
    "outputId": "785ad902-51f5-4596-e5f6-97d1172d1846"
   },
   "outputs": [
    {
     "data": {
      "image/png": "[encoded data removed]",
      "text/plain": [
       "<Figure size 640x480 with 1 Axes>"
      ]
     },
     "metadata": {},
     "output_type": "display_data"
    }
   ],
   "source": [
    "result = test(encoder, model, datasets['splicing_connectors']['test'], config)\n",
    "fpr, tpr, auc = compute_metric(result)\n",
    "plot_roc_curve(fpr, tpr, auc, 'splicing_connectors')"
   ]
  },
  {
   "cell_type": "markdown",
   "metadata": {
    "id": "ChYwtdbqcvL3"
   },
   "source": [
    "need to delete model / result in each training process, to avoid the lack of ram"
   ]
  },
  {
   "cell_type": "code",
   "execution_count": null,
   "metadata": {
    "id": "cOg17ayMY-2G"
   },
   "outputs": [],
   "source": [
    "del model\n",
    "del result"
   ]
  },
  {
   "cell_type": "markdown",
   "metadata": {
    "id": "6UTtj2OEbvrv"
   },
   "source": [
    "## Find best hyperparameters"
   ]
  },
  {
   "cell_type": "code",
   "execution_count": null,
   "metadata": {
    "id": "FTByXbFobvrv"
   },
   "outputs": [],
   "source": [
    "\n",
    "best_auc = -1\n",
    "best_dglo, best_dloc, best_dim_g = 0, 0, 0\n",
    "class_name = 'breakfast_box'\n",
    "\n",
    "for dglo in [60, 70, 80, 90]:\n",
    "    config['dglo'] = dglo\n",
    "    for dim_g in [16, 32, 48, 64]:\n",
    "        config['dim_g'] = dim_g\n",
    "        model = GCAD(config).to(device)\n",
    "        train(encoder, model, datasets[class_name]['train'], config)\n",
    "        result = test(encoder, model, datasets[class_name]['test'], config)\n",
    "        fpr, tpr, auc = compute_metric(result)\n",
    "        del model\n",
    "        del result\n",
    "\n",
    "        if best_auc < auc:\n",
    "            best_auc = auc\n",
    "            best_dglo = dglo\n",
    "            best_dim_g = dim_g\n",
    "\n",
    "# output: best_dglo = 90, best_dim_g = 48, best_dim_g2 = 1024, auc = 0.56"
   ]
  }
 ],
 "metadata": {
  "accelerator": "GPU",
  "colab": {
   "gpuType": "T4",
   "provenance": []
  },
  "kernelspec": {
   "display_name": "Python 3 (ipykernel)",
   "language": "python",
   "name": "python3"
  },
  "language_info": {
   "codemirror_mode": {
    "name": "ipython",
    "version": 3
   },
   "file_extension": ".py",
   "mimetype": "text/x-python",
   "name": "python",
   "nbconvert_exporter": "python",
   "pygments_lexer": "ipython3",
   "version": "3.11.0"
  },
  "widgets": {
   "application/vnd.jupyter.widget-state+json": {
    "048c54d0c38e4ddd897825e0f87dfc8f": {
     "model_module": "@jupyter-widgets/controls",
     "model_module_version": "1.5.0",
     "model_name": "DescriptionStyleModel",
     "state": {
      "_model_module": "@jupyter-widgets/controls",
      "_model_module_version": "1.5.0",
      "_model_name": "DescriptionStyleModel",
      "_view_count": null,
      "_view_module": "@jupyter-widgets/base",
      "_view_module_version": "1.2.0",
      "_view_name": "StyleView",
      "description_width": ""
     }
    },
    "0a60620a014e41c6b953469d42f00197": {
     "model_module": "@jupyter-widgets/base",
     "model_module_version": "1.2.0",
     "model_name": "LayoutModel",
     "state": {
      "_model_module": "@jupyter-widgets/base",
      "_model_module_version": "1.2.0",
      "_model_name": "LayoutModel",
      "_view_count": null,
      "_view_module": "@jupyter-widgets/base",
      "_view_module_version": "1.2.0",
      "_view_name": "LayoutView",
      "align_content": null,
      "align_items": null,
      "align_self": null,
      "border": null,
      "bottom": null,
      "display": null,
      "flex": null,
      "flex_flow": null,
      "grid_area": null,
      "grid_auto_columns": null,
      "grid_auto_flow": null,
      "grid_auto_rows": null,
      "grid_column": null,
      "grid_gap": null,
      "grid_row": null,
      "grid_template_areas": null,
      "grid_template_columns": null,
      "grid_template_rows": null,
      "height": null,
      "justify_content": null,
      "justify_items": null,
      "left": null,
      "margin": null,
      "max_height": null,
      "max_width": null,
      "min_height": null,
      "min_width": null,
      "object_fit": null,
      "object_position": null,
      "order": null,
      "overflow": null,
      "overflow_x": null,
      "overflow_y": null,
      "padding": null,
      "right": null,
      "top": null,
      "visibility": null,
      "width": null
     }
    },
    "0bbc14bb52554abe8b87695261c31866": {
     "model_module": "@jupyter-widgets/controls",
     "model_module_version": "1.5.0",
     "model_name": "ProgressStyleModel",
     "state": {
      "_model_module": "@jupyter-widgets/controls",
      "_model_module_version": "1.5.0",
      "_model_name": "ProgressStyleModel",
      "_view_count": null,
      "_view_module": "@jupyter-widgets/base",
      "_view_module_version": "1.2.0",
      "_view_name": "StyleView",
      "bar_color": null,
      "description_width": ""
     }
    },
    "0c463ca1948343bfbccfa7a4d1f8f555": {
     "model_module": "@jupyter-widgets/controls",
     "model_module_version": "1.5.0",
     "model_name": "HTMLModel",
     "state": {
      "_dom_classes": [],
      "_model_module": "@jupyter-widgets/controls",
      "_model_module_version": "1.5.0",
      "_model_name": "HTMLModel",
      "_view_count": null,
      "_view_module": "@jupyter-widgets/controls",
      "_view_module_version": "1.5.0",
      "_view_name": "HTMLView",
      "description": "",
      "description_tooltip": null,
      "layout": "IPY_MODEL_4db1b4a483b8474db7e113f342c2525c",
      "placeholder": "​",
      "style": "IPY_MODEL_4d61524b693f4b91816b8a3552095dd6",
      "value": " 20/20 [25:49&lt;00:00, 76.54s/it]"
     }
    },
    "0dced9a5fd264006aaf8c25059201c08": {
     "model_module": "@jupyter-widgets/controls",
     "model_module_version": "1.5.0",
     "model_name": "DescriptionStyleModel",
     "state": {
      "_model_module": "@jupyter-widgets/controls",
      "_model_module_version": "1.5.0",
      "_model_name": "DescriptionStyleModel",
      "_view_count": null,
      "_view_module": "@jupyter-widgets/base",
      "_view_module_version": "1.2.0",
      "_view_name": "StyleView",
      "description_width": ""
     }
    },
    "15da36d5cff642aaa9f4e0de8b5ccbaf": {
     "model_module": "@jupyter-widgets/base",
     "model_module_version": "1.2.0",
     "model_name": "LayoutModel",
     "state": {
      "_model_module": "@jupyter-widgets/base",
      "_model_module_version": "1.2.0",
      "_model_name": "LayoutModel",
      "_view_count": null,
      "_view_module": "@jupyter-widgets/base",
      "_view_module_version": "1.2.0",
      "_view_name": "LayoutView",
      "align_content": null,
      "align_items": null,
      "align_self": null,
      "border": null,
      "bottom": null,
      "display": null,
      "flex": null,
      "flex_flow": null,
      "grid_area": null,
      "grid_auto_columns": null,
      "grid_auto_flow": null,
      "grid_auto_rows": null,
      "grid_column": null,
      "grid_gap": null,
      "grid_row": null,
      "grid_template_areas": null,
      "grid_template_columns": null,
      "grid_template_rows": null,
      "height": null,
      "justify_content": null,
      "justify_items": null,
      "left": null,
      "margin": null,
      "max_height": null,
      "max_width": null,
      "min_height": null,
      "min_width": null,
      "object_fit": null,
      "object_position": null,
      "order": null,
      "overflow": null,
      "overflow_x": null,
      "overflow_y": null,
      "padding": null,
      "right": null,
      "top": null,
      "visibility": null,
      "width": null
     }
    },
    "19770e585f77484d8d0a141b813d3310": {
     "model_module": "@jupyter-widgets/base",
     "model_module_version": "1.2.0",
     "model_name": "LayoutModel",
     "state": {
      "_model_module": "@jupyter-widgets/base",
      "_model_module_version": "1.2.0",
      "_model_name": "LayoutModel",
      "_view_count": null,
      "_view_module": "@jupyter-widgets/base",
      "_view_module_version": "1.2.0",
      "_view_name": "LayoutView",
      "align_content": null,
      "align_items": null,
      "align_self": null,
      "border": null,
      "bottom": null,
      "display": null,
      "flex": null,
      "flex_flow": null,
      "grid_area": null,
      "grid_auto_columns": null,
      "grid_auto_flow": null,
      "grid_auto_rows": null,
      "grid_column": null,
      "grid_gap": null,
      "grid_row": null,
      "grid_template_areas": null,
      "grid_template_columns": null,
      "grid_template_rows": null,
      "height": null,
      "justify_content": null,
      "justify_items": null,
      "left": null,
      "margin": null,
      "max_height": null,
      "max_width": null,
      "min_height": null,
      "min_width": null,
      "object_fit": null,
      "object_position": null,
      "order": null,
      "overflow": null,
      "overflow_x": null,
      "overflow_y": null,
      "padding": null,
      "right": null,
      "top": null,
      "visibility": null,
      "width": null
     }
    },
    "1a313fce1742490d88440d4b47fe4d4e": {
     "model_module": "@jupyter-widgets/controls",
     "model_module_version": "1.5.0",
     "model_name": "HBoxModel",
     "state": {
      "_dom_classes": [],
      "_model_module": "@jupyter-widgets/controls",
      "_model_module_version": "1.5.0",
      "_model_name": "HBoxModel",
      "_view_count": null,
      "_view_module": "@jupyter-widgets/controls",
      "_view_module_version": "1.5.0",
      "_view_name": "HBoxView",
      "box_style": "",
      "children": [
       "IPY_MODEL_785117c4e8194f01b786bd5837ad99ff",
       "IPY_MODEL_274fde99575d48abbef2359d70125a06",
       "IPY_MODEL_7615110cdc0945a6af376fed15a27ebf"
      ],
      "layout": "IPY_MODEL_9a749c5188e444d6accf462691c27ecc"
     }
    },
    "222a75ab6b424c14a3ded81451ba2968": {
     "model_module": "@jupyter-widgets/controls",
     "model_module_version": "1.5.0",
     "model_name": "HTMLModel",
     "state": {
      "_dom_classes": [],
      "_model_module": "@jupyter-widgets/controls",
      "_model_module_version": "1.5.0",
      "_model_name": "HTMLModel",
      "_view_count": null,
      "_view_module": "@jupyter-widgets/controls",
      "_view_module_version": "1.5.0",
      "_view_name": "HTMLView",
      "description": "",
      "description_tooltip": null,
      "layout": "IPY_MODEL_dc863d4c698b489b92a5902f01c1d8ae",
      "placeholder": "​",
      "style": "IPY_MODEL_ab74955cff9e47de81d3595917e12254",
      "value": " 20/20 [26:43&lt;00:00, 79.42s/it]"
     }
    },
    "274fde99575d48abbef2359d70125a06": {
     "model_module": "@jupyter-widgets/controls",
     "model_module_version": "1.5.0",
     "model_name": "FloatProgressModel",
     "state": {
      "_dom_classes": [],
      "_model_module": "@jupyter-widgets/controls",
      "_model_module_version": "1.5.0",
      "_model_name": "FloatProgressModel",
      "_view_count": null,
      "_view_module": "@jupyter-widgets/controls",
      "_view_module_version": "1.5.0",
      "_view_name": "ProgressView",
      "bar_style": "success",
      "description": "",
      "description_tooltip": null,
      "layout": "IPY_MODEL_696b9a6481f04ccfaeb1c94f0bb2214d",
      "max": 20,
      "min": 0,
      "orientation": "horizontal",
      "style": "IPY_MODEL_f922125e7b374159b98901fd430251d3",
      "value": 20
     }
    },
    "278ab7e002534f5d9d820b4e18b7fa9e": {
     "model_module": "@jupyter-widgets/base",
     "model_module_version": "1.2.0",
     "model_name": "LayoutModel",
     "state": {
      "_model_module": "@jupyter-widgets/base",
      "_model_module_version": "1.2.0",
      "_model_name": "LayoutModel",
      "_view_count": null,
      "_view_module": "@jupyter-widgets/base",
      "_view_module_version": "1.2.0",
      "_view_name": "LayoutView",
      "align_content": null,
      "align_items": null,
      "align_self": null,
      "border": null,
      "bottom": null,
      "display": null,
      "flex": null,
      "flex_flow": null,
      "grid_area": null,
      "grid_auto_columns": null,
      "grid_auto_flow": null,
      "grid_auto_rows": null,
      "grid_column": null,
      "grid_gap": null,
      "grid_row": null,
      "grid_template_areas": null,
      "grid_template_columns": null,
      "grid_template_rows": null,
      "height": null,
      "justify_content": null,
      "justify_items": null,
      "left": null,
      "margin": null,
      "max_height": null,
      "max_width": null,
      "min_height": null,
      "min_width": null,
      "object_fit": null,
      "object_position": null,
      "order": null,
      "overflow": null,
      "overflow_x": null,
      "overflow_y": null,
      "padding": null,
      "right": null,
      "top": null,
      "visibility": null,
      "width": null
     }
    },
    "2f004015f62d41c08b12fcdd41c82025": {
     "model_module": "@jupyter-widgets/controls",
     "model_module_version": "1.5.0",
     "model_name": "ProgressStyleModel",
     "state": {
      "_model_module": "@jupyter-widgets/controls",
      "_model_module_version": "1.5.0",
      "_model_name": "ProgressStyleModel",
      "_view_count": null,
      "_view_module": "@jupyter-widgets/base",
      "_view_module_version": "1.2.0",
      "_view_name": "StyleView",
      "bar_color": null,
      "description_width": ""
     }
    },
    "303abf442a974d9b92fb2ee3b2c5a344": {
     "model_module": "@jupyter-widgets/base",
     "model_module_version": "1.2.0",
     "model_name": "LayoutModel",
     "state": {
      "_model_module": "@jupyter-widgets/base",
      "_model_module_version": "1.2.0",
      "_model_name": "LayoutModel",
      "_view_count": null,
      "_view_module": "@jupyter-widgets/base",
      "_view_module_version": "1.2.0",
      "_view_name": "LayoutView",
      "align_content": null,
      "align_items": null,
      "align_self": null,
      "border": null,
      "bottom": null,
      "display": null,
      "flex": null,
      "flex_flow": null,
      "grid_area": null,
      "grid_auto_columns": null,
      "grid_auto_flow": null,
      "grid_auto_rows": null,
      "grid_column": null,
      "grid_gap": null,
      "grid_row": null,
      "grid_template_areas": null,
      "grid_template_columns": null,
      "grid_template_rows": null,
      "height": null,
      "justify_content": null,
      "justify_items": null,
      "left": null,
      "margin": null,
      "max_height": null,
      "max_width": null,
      "min_height": null,
      "min_width": null,
      "object_fit": null,
      "object_position": null,
      "order": null,
      "overflow": null,
      "overflow_x": null,
      "overflow_y": null,
      "padding": null,
      "right": null,
      "top": null,
      "visibility": null,
      "width": null
     }
    },
    "3fe036754c094d7283a248b9ce8901fa": {
     "model_module": "@jupyter-widgets/controls",
     "model_module_version": "1.5.0",
     "model_name": "FloatProgressModel",
     "state": {
      "_dom_classes": [],
      "_model_module": "@jupyter-widgets/controls",
      "_model_module_version": "1.5.0",
      "_model_name": "FloatProgressModel",
      "_view_count": null,
      "_view_module": "@jupyter-widgets/controls",
      "_view_module_version": "1.5.0",
      "_view_name": "ProgressView",
      "bar_style": "success",
      "description": "",
      "description_tooltip": null,
      "layout": "IPY_MODEL_ee4fe65551904dcaa0bd0b7b55e1b8d0",
      "max": 20,
      "min": 0,
      "orientation": "horizontal",
      "style": "IPY_MODEL_c21236669c5747c8933c9566bac32e76",
      "value": 20
     }
    },
    "4b7680e2335748069dc7284a9453d591": {
     "model_module": "@jupyter-widgets/base",
     "model_module_version": "1.2.0",
     "model_name": "LayoutModel",
     "state": {
      "_model_module": "@jupyter-widgets/base",
      "_model_module_version": "1.2.0",
      "_model_name": "LayoutModel",
      "_view_count": null,
      "_view_module": "@jupyter-widgets/base",
      "_view_module_version": "1.2.0",
      "_view_name": "LayoutView",
      "align_content": null,
      "align_items": null,
      "align_self": null,
      "border": null,
      "bottom": null,
      "display": null,
      "flex": null,
      "flex_flow": null,
      "grid_area": null,
      "grid_auto_columns": null,
      "grid_auto_flow": null,
      "grid_auto_rows": null,
      "grid_column": null,
      "grid_gap": null,
      "grid_row": null,
      "grid_template_areas": null,
      "grid_template_columns": null,
      "grid_template_rows": null,
      "height": null,
      "justify_content": null,
      "justify_items": null,
      "left": null,
      "margin": null,
      "max_height": null,
      "max_width": null,
      "min_height": null,
      "min_width": null,
      "object_fit": null,
      "object_position": null,
      "order": null,
      "overflow": null,
      "overflow_x": null,
      "overflow_y": null,
      "padding": null,
      "right": null,
      "top": null,
      "visibility": null,
      "width": null
     }
    },
    "4d61524b693f4b91816b8a3552095dd6": {
     "model_module": "@jupyter-widgets/controls",
     "model_module_version": "1.5.0",
     "model_name": "DescriptionStyleModel",
     "state": {
      "_model_module": "@jupyter-widgets/controls",
      "_model_module_version": "1.5.0",
      "_model_name": "DescriptionStyleModel",
      "_view_count": null,
      "_view_module": "@jupyter-widgets/base",
      "_view_module_version": "1.2.0",
      "_view_name": "StyleView",
      "description_width": ""
     }
    },
    "4db1b4a483b8474db7e113f342c2525c": {
     "model_module": "@jupyter-widgets/base",
     "model_module_version": "1.2.0",
     "model_name": "LayoutModel",
     "state": {
      "_model_module": "@jupyter-widgets/base",
      "_model_module_version": "1.2.0",
      "_model_name": "LayoutModel",
      "_view_count": null,
      "_view_module": "@jupyter-widgets/base",
      "_view_module_version": "1.2.0",
      "_view_name": "LayoutView",
      "align_content": null,
      "align_items": null,
      "align_self": null,
      "border": null,
      "bottom": null,
      "display": null,
      "flex": null,
      "flex_flow": null,
      "grid_area": null,
      "grid_auto_columns": null,
      "grid_auto_flow": null,
      "grid_auto_rows": null,
      "grid_column": null,
      "grid_gap": null,
      "grid_row": null,
      "grid_template_areas": null,
      "grid_template_columns": null,
      "grid_template_rows": null,
      "height": null,
      "justify_content": null,
      "justify_items": null,
      "left": null,
      "margin": null,
      "max_height": null,
      "max_width": null,
      "min_height": null,
      "min_width": null,
      "object_fit": null,
      "object_position": null,
      "order": null,
      "overflow": null,
      "overflow_x": null,
      "overflow_y": null,
      "padding": null,
      "right": null,
      "top": null,
      "visibility": null,
      "width": null
     }
    },
    "54d7ab8f1f4a4c59b183500a27f59fa0": {
     "model_module": "@jupyter-widgets/controls",
     "model_module_version": "1.5.0",
     "model_name": "HTMLModel",
     "state": {
      "_dom_classes": [],
      "_model_module": "@jupyter-widgets/controls",
      "_model_module_version": "1.5.0",
      "_model_name": "HTMLModel",
      "_view_count": null,
      "_view_module": "@jupyter-widgets/controls",
      "_view_module_version": "1.5.0",
      "_view_name": "HTMLView",
      "description": "",
      "description_tooltip": null,
      "layout": "IPY_MODEL_5c82626c521343aa88a3703dcd15ae36",
      "placeholder": "​",
      "style": "IPY_MODEL_7abb50ea13174927b7baa85c948e77dd",
      "value": " 20/20 [25:41&lt;00:00, 76.23s/it]"
     }
    },
    "54e6713c19684d5db5e0be051def1f78": {
     "model_module": "@jupyter-widgets/base",
     "model_module_version": "1.2.0",
     "model_name": "LayoutModel",
     "state": {
      "_model_module": "@jupyter-widgets/base",
      "_model_module_version": "1.2.0",
      "_model_name": "LayoutModel",
      "_view_count": null,
      "_view_module": "@jupyter-widgets/base",
      "_view_module_version": "1.2.0",
      "_view_name": "LayoutView",
      "align_content": null,
      "align_items": null,
      "align_self": null,
      "border": null,
      "bottom": null,
      "display": null,
      "flex": null,
      "flex_flow": null,
      "grid_area": null,
      "grid_auto_columns": null,
      "grid_auto_flow": null,
      "grid_auto_rows": null,
      "grid_column": null,
      "grid_gap": null,
      "grid_row": null,
      "grid_template_areas": null,
      "grid_template_columns": null,
      "grid_template_rows": null,
      "height": null,
      "justify_content": null,
      "justify_items": null,
      "left": null,
      "margin": null,
      "max_height": null,
      "max_width": null,
      "min_height": null,
      "min_width": null,
      "object_fit": null,
      "object_position": null,
      "order": null,
      "overflow": null,
      "overflow_x": null,
      "overflow_y": null,
      "padding": null,
      "right": null,
      "top": null,
      "visibility": null,
      "width": null
     }
    },
    "5835bad6df944ea2aa49db17e72cb897": {
     "model_module": "@jupyter-widgets/controls",
     "model_module_version": "1.5.0",
     "model_name": "FloatProgressModel",
     "state": {
      "_dom_classes": [],
      "_model_module": "@jupyter-widgets/controls",
      "_model_module_version": "1.5.0",
      "_model_name": "FloatProgressModel",
      "_view_count": null,
      "_view_module": "@jupyter-widgets/controls",
      "_view_module_version": "1.5.0",
      "_view_name": "ProgressView",
      "bar_style": "success",
      "description": "",
      "description_tooltip": null,
      "layout": "IPY_MODEL_edeacdf67eff45e5b6aea222f4195d46",
      "max": 20,
      "min": 0,
      "orientation": "horizontal",
      "style": "IPY_MODEL_ecbac639efa14e6688cb6738d00d8f13",
      "value": 20
     }
    },
    "5c82626c521343aa88a3703dcd15ae36": {
     "model_module": "@jupyter-widgets/base",
     "model_module_version": "1.2.0",
     "model_name": "LayoutModel",
     "state": {
      "_model_module": "@jupyter-widgets/base",
      "_model_module_version": "1.2.0",
      "_model_name": "LayoutModel",
      "_view_count": null,
      "_view_module": "@jupyter-widgets/base",
      "_view_module_version": "1.2.0",
      "_view_name": "LayoutView",
      "align_content": null,
      "align_items": null,
      "align_self": null,
      "border": null,
      "bottom": null,
      "display": null,
      "flex": null,
      "flex_flow": null,
      "grid_area": null,
      "grid_auto_columns": null,
      "grid_auto_flow": null,
      "grid_auto_rows": null,
      "grid_column": null,
      "grid_gap": null,
      "grid_row": null,
      "grid_template_areas": null,
      "grid_template_columns": null,
      "grid_template_rows": null,
      "height": null,
      "justify_content": null,
      "justify_items": null,
      "left": null,
      "margin": null,
      "max_height": null,
      "max_width": null,
      "min_height": null,
      "min_width": null,
      "object_fit": null,
      "object_position": null,
      "order": null,
      "overflow": null,
      "overflow_x": null,
      "overflow_y": null,
      "padding": null,
      "right": null,
      "top": null,
      "visibility": null,
      "width": null
     }
    },
    "5e36901d9c3f45a5b3d994db2678931c": {
     "model_module": "@jupyter-widgets/controls",
     "model_module_version": "1.5.0",
     "model_name": "FloatProgressModel",
     "state": {
      "_dom_classes": [],
      "_model_module": "@jupyter-widgets/controls",
      "_model_module_version": "1.5.0",
      "_model_name": "FloatProgressModel",
      "_view_count": null,
      "_view_module": "@jupyter-widgets/controls",
      "_view_module_version": "1.5.0",
      "_view_name": "ProgressView",
      "bar_style": "success",
      "description": "",
      "description_tooltip": null,
      "layout": "IPY_MODEL_278ab7e002534f5d9d820b4e18b7fa9e",
      "max": 20,
      "min": 0,
      "orientation": "horizontal",
      "style": "IPY_MODEL_2f004015f62d41c08b12fcdd41c82025",
      "value": 20
     }
    },
    "61728adf067c4ed2b1e8966e60aadbdb": {
     "model_module": "@jupyter-widgets/base",
     "model_module_version": "1.2.0",
     "model_name": "LayoutModel",
     "state": {
      "_model_module": "@jupyter-widgets/base",
      "_model_module_version": "1.2.0",
      "_model_name": "LayoutModel",
      "_view_count": null,
      "_view_module": "@jupyter-widgets/base",
      "_view_module_version": "1.2.0",
      "_view_name": "LayoutView",
      "align_content": null,
      "align_items": null,
      "align_self": null,
      "border": null,
      "bottom": null,
      "display": null,
      "flex": null,
      "flex_flow": null,
      "grid_area": null,
      "grid_auto_columns": null,
      "grid_auto_flow": null,
      "grid_auto_rows": null,
      "grid_column": null,
      "grid_gap": null,
      "grid_row": null,
      "grid_template_areas": null,
      "grid_template_columns": null,
      "grid_template_rows": null,
      "height": null,
      "justify_content": null,
      "justify_items": null,
      "left": null,
      "margin": null,
      "max_height": null,
      "max_width": null,
      "min_height": null,
      "min_width": null,
      "object_fit": null,
      "object_position": null,
      "order": null,
      "overflow": null,
      "overflow_x": null,
      "overflow_y": null,
      "padding": null,
      "right": null,
      "top": null,
      "visibility": null,
      "width": null
     }
    },
    "696b9a6481f04ccfaeb1c94f0bb2214d": {
     "model_module": "@jupyter-widgets/base",
     "model_module_version": "1.2.0",
     "model_name": "LayoutModel",
     "state": {
      "_model_module": "@jupyter-widgets/base",
      "_model_module_version": "1.2.0",
      "_model_name": "LayoutModel",
      "_view_count": null,
      "_view_module": "@jupyter-widgets/base",
      "_view_module_version": "1.2.0",
      "_view_name": "LayoutView",
      "align_content": null,
      "align_items": null,
      "align_self": null,
      "border": null,
      "bottom": null,
      "display": null,
      "flex": null,
      "flex_flow": null,
      "grid_area": null,
      "grid_auto_columns": null,
      "grid_auto_flow": null,
      "grid_auto_rows": null,
      "grid_column": null,
      "grid_gap": null,
      "grid_row": null,
      "grid_template_areas": null,
      "grid_template_columns": null,
      "grid_template_rows": null,
      "height": null,
      "justify_content": null,
      "justify_items": null,
      "left": null,
      "margin": null,
      "max_height": null,
      "max_width": null,
      "min_height": null,
      "min_width": null,
      "object_fit": null,
      "object_position": null,
      "order": null,
      "overflow": null,
      "overflow_x": null,
      "overflow_y": null,
      "padding": null,
      "right": null,
      "top": null,
      "visibility": null,
      "width": null
     }
    },
    "6f5f6fa95d374f03b86d0e943bbf22db": {
     "model_module": "@jupyter-widgets/base",
     "model_module_version": "1.2.0",
     "model_name": "LayoutModel",
     "state": {
      "_model_module": "@jupyter-widgets/base",
      "_model_module_version": "1.2.0",
      "_model_name": "LayoutModel",
      "_view_count": null,
      "_view_module": "@jupyter-widgets/base",
      "_view_module_version": "1.2.0",
      "_view_name": "LayoutView",
      "align_content": null,
      "align_items": null,
      "align_self": null,
      "border": null,
      "bottom": null,
      "display": null,
      "flex": null,
      "flex_flow": null,
      "grid_area": null,
      "grid_auto_columns": null,
      "grid_auto_flow": null,
      "grid_auto_rows": null,
      "grid_column": null,
      "grid_gap": null,
      "grid_row": null,
      "grid_template_areas": null,
      "grid_template_columns": null,
      "grid_template_rows": null,
      "height": null,
      "justify_content": null,
      "justify_items": null,
      "left": null,
      "margin": null,
      "max_height": null,
      "max_width": null,
      "min_height": null,
      "min_width": null,
      "object_fit": null,
      "object_position": null,
      "order": null,
      "overflow": null,
      "overflow_x": null,
      "overflow_y": null,
      "padding": null,
      "right": null,
      "top": null,
      "visibility": null,
      "width": null
     }
    },
    "74e159a3d46c4950a63d2c836963c55d": {
     "model_module": "@jupyter-widgets/controls",
     "model_module_version": "1.5.0",
     "model_name": "DescriptionStyleModel",
     "state": {
      "_model_module": "@jupyter-widgets/controls",
      "_model_module_version": "1.5.0",
      "_model_name": "DescriptionStyleModel",
      "_view_count": null,
      "_view_module": "@jupyter-widgets/base",
      "_view_module_version": "1.2.0",
      "_view_name": "StyleView",
      "description_width": ""
     }
    },
    "7615110cdc0945a6af376fed15a27ebf": {
     "model_module": "@jupyter-widgets/controls",
     "model_module_version": "1.5.0",
     "model_name": "HTMLModel",
     "state": {
      "_dom_classes": [],
      "_model_module": "@jupyter-widgets/controls",
      "_model_module_version": "1.5.0",
      "_model_name": "HTMLModel",
      "_view_count": null,
      "_view_module": "@jupyter-widgets/controls",
      "_view_module_version": "1.5.0",
      "_view_name": "HTMLView",
      "description": "",
      "description_tooltip": null,
      "layout": "IPY_MODEL_a09d5d0fb7ef477c8ca5b261a852e835",
      "placeholder": "​",
      "style": "IPY_MODEL_d89f016b494941c1845f94b30c5a9900",
      "value": " 20/20 [25:50&lt;00:00, 77.33s/it]"
     }
    },
    "785117c4e8194f01b786bd5837ad99ff": {
     "model_module": "@jupyter-widgets/controls",
     "model_module_version": "1.5.0",
     "model_name": "HTMLModel",
     "state": {
      "_dom_classes": [],
      "_model_module": "@jupyter-widgets/controls",
      "_model_module_version": "1.5.0",
      "_model_name": "HTMLModel",
      "_view_count": null,
      "_view_module": "@jupyter-widgets/controls",
      "_view_module_version": "1.5.0",
      "_view_name": "HTMLView",
      "description": "",
      "description_tooltip": null,
      "layout": "IPY_MODEL_61728adf067c4ed2b1e8966e60aadbdb",
      "placeholder": "​",
      "style": "IPY_MODEL_b2bc06a363334b528422fb56b2d7c2fa",
      "value": "100%"
     }
    },
    "7abb50ea13174927b7baa85c948e77dd": {
     "model_module": "@jupyter-widgets/controls",
     "model_module_version": "1.5.0",
     "model_name": "DescriptionStyleModel",
     "state": {
      "_model_module": "@jupyter-widgets/controls",
      "_model_module_version": "1.5.0",
      "_model_name": "DescriptionStyleModel",
      "_view_count": null,
      "_view_module": "@jupyter-widgets/base",
      "_view_module_version": "1.2.0",
      "_view_name": "StyleView",
      "description_width": ""
     }
    },
    "802dae89c2b4497587addefd731f3069": {
     "model_module": "@jupyter-widgets/base",
     "model_module_version": "1.2.0",
     "model_name": "LayoutModel",
     "state": {
      "_model_module": "@jupyter-widgets/base",
      "_model_module_version": "1.2.0",
      "_model_name": "LayoutModel",
      "_view_count": null,
      "_view_module": "@jupyter-widgets/base",
      "_view_module_version": "1.2.0",
      "_view_name": "LayoutView",
      "align_content": null,
      "align_items": null,
      "align_self": null,
      "border": null,
      "bottom": null,
      "display": null,
      "flex": null,
      "flex_flow": null,
      "grid_area": null,
      "grid_auto_columns": null,
      "grid_auto_flow": null,
      "grid_auto_rows": null,
      "grid_column": null,
      "grid_gap": null,
      "grid_row": null,
      "grid_template_areas": null,
      "grid_template_columns": null,
      "grid_template_rows": null,
      "height": null,
      "justify_content": null,
      "justify_items": null,
      "left": null,
      "margin": null,
      "max_height": null,
      "max_width": null,
      "min_height": null,
      "min_width": null,
      "object_fit": null,
      "object_position": null,
      "order": null,
      "overflow": null,
      "overflow_x": null,
      "overflow_y": null,
      "padding": null,
      "right": null,
      "top": null,
      "visibility": null,
      "width": null
     }
    },
    "90b2ab5eae6740e9bea0d002683c722d": {
     "model_module": "@jupyter-widgets/controls",
     "model_module_version": "1.5.0",
     "model_name": "HTMLModel",
     "state": {
      "_dom_classes": [],
      "_model_module": "@jupyter-widgets/controls",
      "_model_module_version": "1.5.0",
      "_model_name": "HTMLModel",
      "_view_count": null,
      "_view_module": "@jupyter-widgets/controls",
      "_view_module_version": "1.5.0",
      "_view_name": "HTMLView",
      "description": "",
      "description_tooltip": null,
      "layout": "IPY_MODEL_ae5d115e992d4e7c8900b456e31bb4ab",
      "placeholder": "​",
      "style": "IPY_MODEL_0dced9a5fd264006aaf8c25059201c08",
      "value": "100%"
     }
    },
    "9a749c5188e444d6accf462691c27ecc": {
     "model_module": "@jupyter-widgets/base",
     "model_module_version": "1.2.0",
     "model_name": "LayoutModel",
     "state": {
      "_model_module": "@jupyter-widgets/base",
      "_model_module_version": "1.2.0",
      "_model_name": "LayoutModel",
      "_view_count": null,
      "_view_module": "@jupyter-widgets/base",
      "_view_module_version": "1.2.0",
      "_view_name": "LayoutView",
      "align_content": null,
      "align_items": null,
      "align_self": null,
      "border": null,
      "bottom": null,
      "display": null,
      "flex": null,
      "flex_flow": null,
      "grid_area": null,
      "grid_auto_columns": null,
      "grid_auto_flow": null,
      "grid_auto_rows": null,
      "grid_column": null,
      "grid_gap": null,
      "grid_row": null,
      "grid_template_areas": null,
      "grid_template_columns": null,
      "grid_template_rows": null,
      "height": null,
      "justify_content": null,
      "justify_items": null,
      "left": null,
      "margin": null,
      "max_height": null,
      "max_width": null,
      "min_height": null,
      "min_width": null,
      "object_fit": null,
      "object_position": null,
      "order": null,
      "overflow": null,
      "overflow_x": null,
      "overflow_y": null,
      "padding": null,
      "right": null,
      "top": null,
      "visibility": null,
      "width": null
     }
    },
    "a09d5d0fb7ef477c8ca5b261a852e835": {
     "model_module": "@jupyter-widgets/base",
     "model_module_version": "1.2.0",
     "model_name": "LayoutModel",
     "state": {
      "_model_module": "@jupyter-widgets/base",
      "_model_module_version": "1.2.0",
      "_model_name": "LayoutModel",
      "_view_count": null,
      "_view_module": "@jupyter-widgets/base",
      "_view_module_version": "1.2.0",
      "_view_name": "LayoutView",
      "align_content": null,
      "align_items": null,
      "align_self": null,
      "border": null,
      "bottom": null,
      "display": null,
      "flex": null,
      "flex_flow": null,
      "grid_area": null,
      "grid_auto_columns": null,
      "grid_auto_flow": null,
      "grid_auto_rows": null,
      "grid_column": null,
      "grid_gap": null,
      "grid_row": null,
      "grid_template_areas": null,
      "grid_template_columns": null,
      "grid_template_rows": null,
      "height": null,
      "justify_content": null,
      "justify_items": null,
      "left": null,
      "margin": null,
      "max_height": null,
      "max_width": null,
      "min_height": null,
      "min_width": null,
      "object_fit": null,
      "object_position": null,
      "order": null,
      "overflow": null,
      "overflow_x": null,
      "overflow_y": null,
      "padding": null,
      "right": null,
      "top": null,
      "visibility": null,
      "width": null
     }
    },
    "a5fcc79437a74c91863cf76d0b53d895": {
     "model_module": "@jupyter-widgets/controls",
     "model_module_version": "1.5.0",
     "model_name": "FloatProgressModel",
     "state": {
      "_dom_classes": [],
      "_model_module": "@jupyter-widgets/controls",
      "_model_module_version": "1.5.0",
      "_model_name": "FloatProgressModel",
      "_view_count": null,
      "_view_module": "@jupyter-widgets/controls",
      "_view_module_version": "1.5.0",
      "_view_name": "ProgressView",
      "bar_style": "success",
      "description": "",
      "description_tooltip": null,
      "layout": "IPY_MODEL_15da36d5cff642aaa9f4e0de8b5ccbaf",
      "max": 20,
      "min": 0,
      "orientation": "horizontal",
      "style": "IPY_MODEL_0bbc14bb52554abe8b87695261c31866",
      "value": 20
     }
    },
    "ab74955cff9e47de81d3595917e12254": {
     "model_module": "@jupyter-widgets/controls",
     "model_module_version": "1.5.0",
     "model_name": "DescriptionStyleModel",
     "state": {
      "_model_module": "@jupyter-widgets/controls",
      "_model_module_version": "1.5.0",
      "_model_name": "DescriptionStyleModel",
      "_view_count": null,
      "_view_module": "@jupyter-widgets/base",
      "_view_module_version": "1.2.0",
      "_view_name": "StyleView",
      "description_width": ""
     }
    },
    "ae5d115e992d4e7c8900b456e31bb4ab": {
     "model_module": "@jupyter-widgets/base",
     "model_module_version": "1.2.0",
     "model_name": "LayoutModel",
     "state": {
      "_model_module": "@jupyter-widgets/base",
      "_model_module_version": "1.2.0",
      "_model_name": "LayoutModel",
      "_view_count": null,
      "_view_module": "@jupyter-widgets/base",
      "_view_module_version": "1.2.0",
      "_view_name": "LayoutView",
      "align_content": null,
      "align_items": null,
      "align_self": null,
      "border": null,
      "bottom": null,
      "display": null,
      "flex": null,
      "flex_flow": null,
      "grid_area": null,
      "grid_auto_columns": null,
      "grid_auto_flow": null,
      "grid_auto_rows": null,
      "grid_column": null,
      "grid_gap": null,
      "grid_row": null,
      "grid_template_areas": null,
      "grid_template_columns": null,
      "grid_template_rows": null,
      "height": null,
      "justify_content": null,
      "justify_items": null,
      "left": null,
      "margin": null,
      "max_height": null,
      "max_width": null,
      "min_height": null,
      "min_width": null,
      "object_fit": null,
      "object_position": null,
      "order": null,
      "overflow": null,
      "overflow_x": null,
      "overflow_y": null,
      "padding": null,
      "right": null,
      "top": null,
      "visibility": null,
      "width": null
     }
    },
    "b2bc06a363334b528422fb56b2d7c2fa": {
     "model_module": "@jupyter-widgets/controls",
     "model_module_version": "1.5.0",
     "model_name": "DescriptionStyleModel",
     "state": {
      "_model_module": "@jupyter-widgets/controls",
      "_model_module_version": "1.5.0",
      "_model_name": "DescriptionStyleModel",
      "_view_count": null,
      "_view_module": "@jupyter-widgets/base",
      "_view_module_version": "1.2.0",
      "_view_name": "StyleView",
      "description_width": ""
     }
    },
    "b6c38a66470e497fb15bac483ff7376d": {
     "model_module": "@jupyter-widgets/controls",
     "model_module_version": "1.5.0",
     "model_name": "DescriptionStyleModel",
     "state": {
      "_model_module": "@jupyter-widgets/controls",
      "_model_module_version": "1.5.0",
      "_model_name": "DescriptionStyleModel",
      "_view_count": null,
      "_view_module": "@jupyter-widgets/base",
      "_view_module_version": "1.2.0",
      "_view_name": "StyleView",
      "description_width": ""
     }
    },
    "c21236669c5747c8933c9566bac32e76": {
     "model_module": "@jupyter-widgets/controls",
     "model_module_version": "1.5.0",
     "model_name": "ProgressStyleModel",
     "state": {
      "_model_module": "@jupyter-widgets/controls",
      "_model_module_version": "1.5.0",
      "_model_name": "ProgressStyleModel",
      "_view_count": null,
      "_view_module": "@jupyter-widgets/base",
      "_view_module_version": "1.2.0",
      "_view_name": "StyleView",
      "bar_color": null,
      "description_width": ""
     }
    },
    "d0a54c776b78434aa1ebf800ef0e0be3": {
     "model_module": "@jupyter-widgets/controls",
     "model_module_version": "1.5.0",
     "model_name": "DescriptionStyleModel",
     "state": {
      "_model_module": "@jupyter-widgets/controls",
      "_model_module_version": "1.5.0",
      "_model_name": "DescriptionStyleModel",
      "_view_count": null,
      "_view_module": "@jupyter-widgets/base",
      "_view_module_version": "1.2.0",
      "_view_name": "StyleView",
      "description_width": ""
     }
    },
    "d207687964f24fc9a520a2d80ce78f55": {
     "model_module": "@jupyter-widgets/controls",
     "model_module_version": "1.5.0",
     "model_name": "HBoxModel",
     "state": {
      "_dom_classes": [],
      "_model_module": "@jupyter-widgets/controls",
      "_model_module_version": "1.5.0",
      "_model_name": "HBoxModel",
      "_view_count": null,
      "_view_module": "@jupyter-widgets/controls",
      "_view_module_version": "1.5.0",
      "_view_name": "HBoxView",
      "box_style": "",
      "children": [
       "IPY_MODEL_90b2ab5eae6740e9bea0d002683c722d",
       "IPY_MODEL_5e36901d9c3f45a5b3d994db2678931c",
       "IPY_MODEL_dd68f83e2758403daeb3ffc9cf7f197e"
      ],
      "layout": "IPY_MODEL_0a60620a014e41c6b953469d42f00197"
     }
    },
    "d89f016b494941c1845f94b30c5a9900": {
     "model_module": "@jupyter-widgets/controls",
     "model_module_version": "1.5.0",
     "model_name": "DescriptionStyleModel",
     "state": {
      "_model_module": "@jupyter-widgets/controls",
      "_model_module_version": "1.5.0",
      "_model_name": "DescriptionStyleModel",
      "_view_count": null,
      "_view_module": "@jupyter-widgets/base",
      "_view_module_version": "1.2.0",
      "_view_name": "StyleView",
      "description_width": ""
     }
    },
    "dc863d4c698b489b92a5902f01c1d8ae": {
     "model_module": "@jupyter-widgets/base",
     "model_module_version": "1.2.0",
     "model_name": "LayoutModel",
     "state": {
      "_model_module": "@jupyter-widgets/base",
      "_model_module_version": "1.2.0",
      "_model_name": "LayoutModel",
      "_view_count": null,
      "_view_module": "@jupyter-widgets/base",
      "_view_module_version": "1.2.0",
      "_view_name": "LayoutView",
      "align_content": null,
      "align_items": null,
      "align_self": null,
      "border": null,
      "bottom": null,
      "display": null,
      "flex": null,
      "flex_flow": null,
      "grid_area": null,
      "grid_auto_columns": null,
      "grid_auto_flow": null,
      "grid_auto_rows": null,
      "grid_column": null,
      "grid_gap": null,
      "grid_row": null,
      "grid_template_areas": null,
      "grid_template_columns": null,
      "grid_template_rows": null,
      "height": null,
      "justify_content": null,
      "justify_items": null,
      "left": null,
      "margin": null,
      "max_height": null,
      "max_width": null,
      "min_height": null,
      "min_width": null,
      "object_fit": null,
      "object_position": null,
      "order": null,
      "overflow": null,
      "overflow_x": null,
      "overflow_y": null,
      "padding": null,
      "right": null,
      "top": null,
      "visibility": null,
      "width": null
     }
    },
    "dd130d4bdd184b52aa85eac2084066d1": {
     "model_module": "@jupyter-widgets/controls",
     "model_module_version": "1.5.0",
     "model_name": "HTMLModel",
     "state": {
      "_dom_classes": [],
      "_model_module": "@jupyter-widgets/controls",
      "_model_module_version": "1.5.0",
      "_model_name": "HTMLModel",
      "_view_count": null,
      "_view_module": "@jupyter-widgets/controls",
      "_view_module_version": "1.5.0",
      "_view_name": "HTMLView",
      "description": "",
      "description_tooltip": null,
      "layout": "IPY_MODEL_f660f2a41ef946148a25f33b1f1120e6",
      "placeholder": "​",
      "style": "IPY_MODEL_b6c38a66470e497fb15bac483ff7376d",
      "value": "100%"
     }
    },
    "dd68f83e2758403daeb3ffc9cf7f197e": {
     "model_module": "@jupyter-widgets/controls",
     "model_module_version": "1.5.0",
     "model_name": "HTMLModel",
     "state": {
      "_dom_classes": [],
      "_model_module": "@jupyter-widgets/controls",
      "_model_module_version": "1.5.0",
      "_model_name": "HTMLModel",
      "_view_count": null,
      "_view_module": "@jupyter-widgets/controls",
      "_view_module_version": "1.5.0",
      "_view_name": "HTMLView",
      "description": "",
      "description_tooltip": null,
      "layout": "IPY_MODEL_303abf442a974d9b92fb2ee3b2c5a344",
      "placeholder": "​",
      "style": "IPY_MODEL_d0a54c776b78434aa1ebf800ef0e0be3",
      "value": " 20/20 [28:05&lt;00:00, 80.96s/it]"
     }
    },
    "df7c6c7dbb9e4e93ba818bf179383d48": {
     "model_module": "@jupyter-widgets/controls",
     "model_module_version": "1.5.0",
     "model_name": "HBoxModel",
     "state": {
      "_dom_classes": [],
      "_model_module": "@jupyter-widgets/controls",
      "_model_module_version": "1.5.0",
      "_model_name": "HBoxModel",
      "_view_count": null,
      "_view_module": "@jupyter-widgets/controls",
      "_view_module_version": "1.5.0",
      "_view_name": "HBoxView",
      "box_style": "",
      "children": [
       "IPY_MODEL_fd25f5010a8f4ba9a39b95a04d0fe6e6",
       "IPY_MODEL_5835bad6df944ea2aa49db17e72cb897",
       "IPY_MODEL_54d7ab8f1f4a4c59b183500a27f59fa0"
      ],
      "layout": "IPY_MODEL_54e6713c19684d5db5e0be051def1f78"
     }
    },
    "ecbac639efa14e6688cb6738d00d8f13": {
     "model_module": "@jupyter-widgets/controls",
     "model_module_version": "1.5.0",
     "model_name": "ProgressStyleModel",
     "state": {
      "_model_module": "@jupyter-widgets/controls",
      "_model_module_version": "1.5.0",
      "_model_name": "ProgressStyleModel",
      "_view_count": null,
      "_view_module": "@jupyter-widgets/base",
      "_view_module_version": "1.2.0",
      "_view_name": "StyleView",
      "bar_color": null,
      "description_width": ""
     }
    },
    "ed122b4451754864b49724ffd90a97df": {
     "model_module": "@jupyter-widgets/controls",
     "model_module_version": "1.5.0",
     "model_name": "HTMLModel",
     "state": {
      "_dom_classes": [],
      "_model_module": "@jupyter-widgets/controls",
      "_model_module_version": "1.5.0",
      "_model_name": "HTMLModel",
      "_view_count": null,
      "_view_module": "@jupyter-widgets/controls",
      "_view_module_version": "1.5.0",
      "_view_name": "HTMLView",
      "description": "",
      "description_tooltip": null,
      "layout": "IPY_MODEL_6f5f6fa95d374f03b86d0e943bbf22db",
      "placeholder": "​",
      "style": "IPY_MODEL_048c54d0c38e4ddd897825e0f87dfc8f",
      "value": "100%"
     }
    },
    "edeacdf67eff45e5b6aea222f4195d46": {
     "model_module": "@jupyter-widgets/base",
     "model_module_version": "1.2.0",
     "model_name": "LayoutModel",
     "state": {
      "_model_module": "@jupyter-widgets/base",
      "_model_module_version": "1.2.0",
      "_model_name": "LayoutModel",
      "_view_count": null,
      "_view_module": "@jupyter-widgets/base",
      "_view_module_version": "1.2.0",
      "_view_name": "LayoutView",
      "align_content": null,
      "align_items": null,
      "align_self": null,
      "border": null,
      "bottom": null,
      "display": null,
      "flex": null,
      "flex_flow": null,
      "grid_area": null,
      "grid_auto_columns": null,
      "grid_auto_flow": null,
      "grid_auto_rows": null,
      "grid_column": null,
      "grid_gap": null,
      "grid_row": null,
      "grid_template_areas": null,
      "grid_template_columns": null,
      "grid_template_rows": null,
      "height": null,
      "justify_content": null,
      "justify_items": null,
      "left": null,
      "margin": null,
      "max_height": null,
      "max_width": null,
      "min_height": null,
      "min_width": null,
      "object_fit": null,
      "object_position": null,
      "order": null,
      "overflow": null,
      "overflow_x": null,
      "overflow_y": null,
      "padding": null,
      "right": null,
      "top": null,
      "visibility": null,
      "width": null
     }
    },
    "ee4fe65551904dcaa0bd0b7b55e1b8d0": {
     "model_module": "@jupyter-widgets/base",
     "model_module_version": "1.2.0",
     "model_name": "LayoutModel",
     "state": {
      "_model_module": "@jupyter-widgets/base",
      "_model_module_version": "1.2.0",
      "_model_name": "LayoutModel",
      "_view_count": null,
      "_view_module": "@jupyter-widgets/base",
      "_view_module_version": "1.2.0",
      "_view_name": "LayoutView",
      "align_content": null,
      "align_items": null,
      "align_self": null,
      "border": null,
      "bottom": null,
      "display": null,
      "flex": null,
      "flex_flow": null,
      "grid_area": null,
      "grid_auto_columns": null,
      "grid_auto_flow": null,
      "grid_auto_rows": null,
      "grid_column": null,
      "grid_gap": null,
      "grid_row": null,
      "grid_template_areas": null,
      "grid_template_columns": null,
      "grid_template_rows": null,
      "height": null,
      "justify_content": null,
      "justify_items": null,
      "left": null,
      "margin": null,
      "max_height": null,
      "max_width": null,
      "min_height": null,
      "min_width": null,
      "object_fit": null,
      "object_position": null,
      "order": null,
      "overflow": null,
      "overflow_x": null,
      "overflow_y": null,
      "padding": null,
      "right": null,
      "top": null,
      "visibility": null,
      "width": null
     }
    },
    "f660f2a41ef946148a25f33b1f1120e6": {
     "model_module": "@jupyter-widgets/base",
     "model_module_version": "1.2.0",
     "model_name": "LayoutModel",
     "state": {
      "_model_module": "@jupyter-widgets/base",
      "_model_module_version": "1.2.0",
      "_model_name": "LayoutModel",
      "_view_count": null,
      "_view_module": "@jupyter-widgets/base",
      "_view_module_version": "1.2.0",
      "_view_name": "LayoutView",
      "align_content": null,
      "align_items": null,
      "align_self": null,
      "border": null,
      "bottom": null,
      "display": null,
      "flex": null,
      "flex_flow": null,
      "grid_area": null,
      "grid_auto_columns": null,
      "grid_auto_flow": null,
      "grid_auto_rows": null,
      "grid_column": null,
      "grid_gap": null,
      "grid_row": null,
      "grid_template_areas": null,
      "grid_template_columns": null,
      "grid_template_rows": null,
      "height": null,
      "justify_content": null,
      "justify_items": null,
      "left": null,
      "margin": null,
      "max_height": null,
      "max_width": null,
      "min_height": null,
      "min_width": null,
      "object_fit": null,
      "object_position": null,
      "order": null,
      "overflow": null,
      "overflow_x": null,
      "overflow_y": null,
      "padding": null,
      "right": null,
      "top": null,
      "visibility": null,
      "width": null
     }
    },
    "f922125e7b374159b98901fd430251d3": {
     "model_module": "@jupyter-widgets/controls",
     "model_module_version": "1.5.0",
     "model_name": "ProgressStyleModel",
     "state": {
      "_model_module": "@jupyter-widgets/controls",
      "_model_module_version": "1.5.0",
      "_model_name": "ProgressStyleModel",
      "_view_count": null,
      "_view_module": "@jupyter-widgets/base",
      "_view_module_version": "1.2.0",
      "_view_name": "StyleView",
      "bar_color": null,
      "description_width": ""
     }
    },
    "f9be9fe78c8b4ea88e64be4e574d2c53": {
     "model_module": "@jupyter-widgets/controls",
     "model_module_version": "1.5.0",
     "model_name": "HBoxModel",
     "state": {
      "_dom_classes": [],
      "_model_module": "@jupyter-widgets/controls",
      "_model_module_version": "1.5.0",
      "_model_name": "HBoxModel",
      "_view_count": null,
      "_view_module": "@jupyter-widgets/controls",
      "_view_module_version": "1.5.0",
      "_view_name": "HBoxView",
      "box_style": "",
      "children": [
       "IPY_MODEL_dd130d4bdd184b52aa85eac2084066d1",
       "IPY_MODEL_3fe036754c094d7283a248b9ce8901fa",
       "IPY_MODEL_0c463ca1948343bfbccfa7a4d1f8f555"
      ],
      "layout": "IPY_MODEL_19770e585f77484d8d0a141b813d3310"
     }
    },
    "fd25f5010a8f4ba9a39b95a04d0fe6e6": {
     "model_module": "@jupyter-widgets/controls",
     "model_module_version": "1.5.0",
     "model_name": "HTMLModel",
     "state": {
      "_dom_classes": [],
      "_model_module": "@jupyter-widgets/controls",
      "_model_module_version": "1.5.0",
      "_model_name": "HTMLModel",
      "_view_count": null,
      "_view_module": "@jupyter-widgets/controls",
      "_view_module_version": "1.5.0",
      "_view_name": "HTMLView",
      "description": "",
      "description_tooltip": null,
      "layout": "IPY_MODEL_802dae89c2b4497587addefd731f3069",
      "placeholder": "​",
      "style": "IPY_MODEL_74e159a3d46c4950a63d2c836963c55d",
      "value": "100%"
     }
    },
    "fdacdd0dd94548d8a0392fe21d90e2a7": {
     "model_module": "@jupyter-widgets/controls",
     "model_module_version": "1.5.0",
     "model_name": "HBoxModel",
     "state": {
      "_dom_classes": [],
      "_model_module": "@jupyter-widgets/controls",
      "_model_module_version": "1.5.0",
      "_model_name": "HBoxModel",
      "_view_count": null,
      "_view_module": "@jupyter-widgets/controls",
      "_view_module_version": "1.5.0",
      "_view_name": "HBoxView",
      "box_style": "",
      "children": [
       "IPY_MODEL_ed122b4451754864b49724ffd90a97df",
       "IPY_MODEL_a5fcc79437a74c91863cf76d0b53d895",
       "IPY_MODEL_222a75ab6b424c14a3ded81451ba2968"
      ],
      "layout": "IPY_MODEL_4b7680e2335748069dc7284a9453d591"
     }
    }
   }
  }
 },
 "nbformat": 4,
 "nbformat_minor": 1
}
