{
 "cells": [
  {
   "cell_type": "markdown",
   "metadata": {
    "id": "WJihKdjPGSaZ"
   },
   "source": [
    "# **Few-Shot Learning for Logical and Structural Detection (GCAD)**"
   ]
  },
  {
   "cell_type": "markdown",
   "metadata": {
    "id": "rpHYNDo7wmaD"
   },
   "source": [
    "## **Download Dataset**"
   ]
  },
  {
   "cell_type": "code",
   "execution_count": null,
   "metadata": {
    "colab": {
     "base_uri": "https://localhost:8080/"
    },
    "id": "JAVM9gPmxB03",
    "outputId": "6c72c2ff-4037-4d6d-be1d-22bfb4794a67"
   },
   "outputs": [],
   "source": [
    "!gdown 1FrMzu3EXPei7EeBql-169DuGK3ws2sJO\n",
    "!tar -xf mvtec_loco_anomaly_detection.tar.xz"
   ]
  },
  {
   "cell_type": "code",
   "execution_count": 2,
   "metadata": {
    "colab": {
     "base_uri": "https://localhost:8080/"
    },
    "id": "hAXqEbfJXpaN",
    "outputId": "00664c1d-0e63-4a84-b99b-c16c30ad85cf"
   },
   "outputs": [
    {
     "name": "stdout",
     "output_type": "stream",
     "text": [
      "Collecting einops\n",
      "  Downloading einops-0.8.0-py3-none-any.whl (43 kB)\n",
      "\u001b[2K     \u001b[90m━━━━━━━━━━━━━━━━━━━━━━━━━━━━━━━━━━━━━━━━\u001b[0m \u001b[32m43.2/43.2 kB\u001b[0m \u001b[31m823.7 kB/s\u001b[0m eta \u001b[36m0:00:00\u001b[0m\n",
      "\u001b[?25hInstalling collected packages: einops\n",
      "Successfully installed einops-0.8.0\n"
     ]
    }
   ],
   "source": [
    "! pip install einops"
   ]
  },
  {
   "cell_type": "markdown",
   "metadata": {
    "id": "j3TIsvtfu45d"
   },
   "source": [
    "## **Import Modules**"
   ]
  },
  {
   "cell_type": "code",
   "execution_count": 3,
   "metadata": {
    "id": "Zk5L6qPQu7ve"
   },
   "outputs": [],
   "source": [
    "import os\n",
    "import numpy as np\n",
    "import random\n",
    "import torch\n",
    "import torch.nn as nn\n",
    "from tqdm.notebook import tqdm\n",
    "from torch.utils.data import Dataset, DataLoader\n",
    "from torchvision import transforms as T\n",
    "import torch.nn.functional as F\n",
    "from PIL import Image\n",
    "from einops import rearrange\n",
    "from sklearn.preprocessing import minmax_scale\n",
    "\n",
    "device = torch.device(\"cuda:0\" if torch.cuda.is_available() else \"cpu\")"
   ]
  },
  {
   "cell_type": "markdown",
   "metadata": {
    "id": "c5I1YwroGb-q"
   },
   "source": [
    "## **Dataset**"
   ]
  },
  {
   "cell_type": "code",
   "execution_count": 4,
   "metadata": {
    "id": "u9A4DHQTGKf_"
   },
   "outputs": [],
   "source": [
    "class MVTecDataset(Dataset):\n",
    "    def __init__(self, mvtec_folder_path='./', anomaly_type=None, class_name='breakfast_box', mode = 'train',\n",
    "                 few_shot=1, resize=256,augmentation = False):\n",
    "        assert class_name in ['breakfast_box', 'juice_bottle', 'pushpins', 'screw_bag', 'splicing_connectors']\n",
    "        self.class_name = class_name\n",
    "        assert anomaly_type in [None, 'logical', 'structural']\n",
    "        self.anomaly_type = anomaly_type\n",
    "        assert mode in ['train', 'validation', 'test']\n",
    "        self.mode = mode\n",
    "        self.resize = resize\n",
    "        self.mvtec_folder_path = mvtec_folder_path\n",
    "        self.few_shot = few_shot # 1, 2, 4, 8\n",
    "        self.augmentation = augmentation\n",
    "        # set transforms\n",
    "        self.transform_x = T.Compose([T.Resize([resize,resize],interpolation=T.InterpolationMode.BILINEAR),\n",
    "                                      T.ToTensor(),\n",
    "                                      T.Normalize(mean=[0.485, 0.456, 0.406],\n",
    "                                                  std=[0.229, 0.224, 0.225])])\n",
    "        self.transform_x_1 = T.Compose([T.Resize([resize,resize],interpolation=T.InterpolationMode.BILINEAR),\n",
    "                                      T.ToTensor(),\n",
    "                                      T.Normalize(mean=[0.485, 0.456, 0.406],\n",
    "                                                  std=[0.229, 0.224, 0.225]),\n",
    "                                      T.RandomHorizontalFlip(p=1)])\n",
    "        self.transform_x_2 = T.Compose([T.Resize([resize,resize],interpolation=T.InterpolationMode.BILINEAR),\n",
    "                                      T.ToTensor(),\n",
    "                                      T.Normalize(mean=[0.485, 0.456, 0.406],\n",
    "                                                  std=[0.229, 0.224, 0.225]),\n",
    "                                      T.RandomVerticalFlip(p=1)])\n",
    "        self.transform_x_3 = T.Compose([T.Resize([resize,resize],interpolation=T.InterpolationMode.BILINEAR),\n",
    "                                      T.ToTensor(),\n",
    "                                      T.Normalize(mean=[0.485, 0.456, 0.406],\n",
    "                                                  std=[0.229, 0.224, 0.225]),\n",
    "                                      T.RandomRotation(degrees = 30,center=(0,0))])\n",
    "        self.transform_x_4 = T.Compose([T.Resize([resize,resize],interpolation=T.InterpolationMode.BILINEAR),\n",
    "                                      T.ToTensor(),\n",
    "                                      T.Normalize(mean=[0.485, 0.456, 0.406],\n",
    "                                                  std=[0.229, 0.224, 0.225]),\n",
    "                                      T.ColorJitter(brightness=(0.3,1.5))])\n",
    "        self.transform_mask = T.Compose([T.Resize([resize,resize], interpolation=T.InterpolationMode.NEAREST),\n",
    "                                         T.ToTensor()])\n",
    "        # load dataset\n",
    "        self.x, self.y, self.mask = self.load_dataset_folder()\n",
    "        print(f\"{self.class_name} {self.mode} dataset created, consists of {len(self.x)} images\")\n",
    "\n",
    "\n",
    "    def __getitem__(self, idx):\n",
    "        x, y, mask = self.x[idx], self.y[idx], self.mask[idx]\n",
    "        return x, y, mask\n",
    "\n",
    "    def __len__(self):\n",
    "        return len(self.x)\n",
    "\n",
    "    def load_dataset_folder(self):\n",
    "        x, y, mask = [], [], []\n",
    "        img_dir = os.path.join(self.mvtec_folder_path, self.class_name, self.mode)\n",
    "        gt_dir = os.path.join(self.mvtec_folder_path, self.class_name, 'ground_truth')\n",
    "        img_types = sorted(os.listdir(img_dir))\n",
    "        for img_type in img_types:\n",
    "            if img_type != 'good' and self.anomaly_type is not None and img_type != self.anomaly_type + '_anomalies':\n",
    "                    continue\n",
    "            # load images\n",
    "            img_type_dir = os.path.join(img_dir, img_type)\n",
    "            if not os.path.isdir(img_type_dir):\n",
    "                continue\n",
    "            img_fpath_list = sorted([os.path.join(img_type_dir, f)\n",
    "                                     for f in os.listdir(img_type_dir)\n",
    "                                     if f.endswith('.png')])\n",
    "            x.extend(img_fpath_list)\n",
    "            # load gt labels\n",
    "            if img_type == 'good':\n",
    "                y.extend([0] * len(img_fpath_list))\n",
    "                mask.extend([None] * len(img_fpath_list))\n",
    "            else:\n",
    "                y.extend([1] * len(img_fpath_list))\n",
    "                gt_type_dir = os.path.join(gt_dir, img_type)\n",
    "                img_fname_list = [os.path.splitext(os.path.basename(f))[0] for f in img_fpath_list]\n",
    "                gt_dir_list = [os.path.join(gt_type_dir, img_fname) for img_fname in img_fname_list]\n",
    "                for dir in gt_dir_list:\n",
    "                    gt_mask = torch.zeros([1, self.resize, self.resize])\n",
    "                    for f in os.listdir(dir):\n",
    "                        if f.endswith('.png'):\n",
    "                            gt_mask = gt_mask + self.transform_mask(Image.open(os.path.join(dir, f)))\n",
    "                        gt_mask = torch.clip(gt_mask, 0., 1.)\n",
    "                        mask.append(gt_mask)\n",
    "\n",
    "        assert len(x) == len(y), 'number of x and y should be same'\n",
    "\n",
    "        if self.few_shot is not None and self.mode=='train':\n",
    "            # pick images according to few_shot number\n",
    "            chosen_idx = random.sample(list(range(len(x))),k=self.few_shot)\n",
    "            x = [x[i] for i in chosen_idx]\n",
    "            y = [y[i] for i in chosen_idx]\n",
    "            mask = [mask[i] for i in chosen_idx]\n",
    "            if self.augmentation:\n",
    "                return_x = []\n",
    "                return_y = []\n",
    "                return_mask = []\n",
    "                return_x.extend([self.transform_x(Image.open(x).convert('RGB')) for x in list(x)])\n",
    "                return_x.extend([self.transform_x_1(Image.open(x).convert('RGB')) for x in list(x)])\n",
    "                return_x.extend([self.transform_x_2(Image.open(x).convert('RGB')) for x in list(x)])\n",
    "                return_x.extend([self.transform_x_3(Image.open(x).convert('RGB')) for x in list(x)])\n",
    "                return_x.extend([self.transform_x_4(Image.open(x).convert('RGB')) for x in list(x)])\n",
    "                for i in range(5):\n",
    "                    return_y.extend(list(y))\n",
    "                    return_mask.extend([torch.zeros([1, self.resize, self.resize]) if y==0 else mask for y,mask in zip(list(y),list(mask))])\n",
    "                return return_x,return_y,return_mask\n",
    "\n",
    "            else:\n",
    "                return [self.transform_x(Image.open(x).convert('RGB')) for x in list(x)], \\\n",
    "                    list(y), \\\n",
    "                    [torch.zeros([1, self.resize, self.resize]) if y==0 else mask for y,mask in zip(list(y),list(mask))]\n",
    "\n",
    "        else:\n",
    "            return [self.transform_x(Image.open(x).convert('RGB')) for x in list(x)], \\\n",
    "                    list(y), \\\n",
    "                    [torch.zeros([1, self.resize, self.resize]) if y==0 else mask for y,mask in zip(list(y),list(mask))]\n",
    "\n"
   ]
  },
  {
   "cell_type": "markdown",
   "metadata": {
    "id": "q3uJxjavuyPt"
   },
   "source": [
    "## **Other Utility Functions**"
   ]
  },
  {
   "cell_type": "code",
   "execution_count": 33,
   "metadata": {
    "id": "GAFtoxNQu2sY"
   },
   "outputs": [],
   "source": [
    "import matplotlib.pyplot as plt\n",
    "from sklearn.metrics import roc_curve, roc_auc_score\n",
    "\n",
    "def compute_metric(result):\n",
    "    fpr, tpr, _ = roc_curve(result['total_gt_image'], result['total_scores_image'])\n",
    "    auc = roc_auc_score(result['total_gt_image'], result['total_scores_image'])\n",
    "    return fpr, tpr, auc\n",
    "\n",
    "def plot_roc_curve(fpr, tpr, auc, class_name=''):\n",
    "    plt.figure()\n",
    "    lw = 2\n",
    "    plt.plot(\n",
    "        fpr,\n",
    "        tpr,\n",
    "        color=\"darkorange\",\n",
    "        lw=lw,\n",
    "        label=f\"ROC curve (area = {auc: 0.2f})\",\n",
    "    )\n",
    "    plt.plot([0, 1], [0, 1], color=\"navy\", lw=lw, linestyle=\"--\")\n",
    "    plt.xlim([0.0, 1.0])\n",
    "    plt.ylim([0.0, 1.05])\n",
    "    plt.xlabel(\"False Positive Rate\")\n",
    "    plt.ylabel(\"True Positive Rate\")\n",
    "    plt.title(f\"{class_name} ROC Curve\")\n",
    "    plt.legend(loc=\"lower right\")\n",
    "    plt.show()\n",
    "\n",
    "def plot_anomaly_map(result, class_name, TestDataset, index, threshold, a_type=None):\n",
    "    dataset_size = len(TestDataset)\n",
    "    # Load Testing Input / Ground Truth Mask / Predicted Mask\n",
    "    input_image = rearrange(result['input_image'][index], 'c h w -> h w c')\n",
    "    # Denormalize\n",
    "    input_image[:, : 0] = input_image[:, : 0] * 0.229 + 0.485\n",
    "    input_image[:, : 1] = input_image[:, : 1] * 0.224 + 0.456\n",
    "    input_image[:, : 2] = input_image[:, : 2] * 0.225 + 0.406\n",
    "    input_image = np.clip(input_image, 0., 1.).astype(float)\n",
    "    gt_mask = rearrange(result['total_gt_pixel'],'b c h w -> (b c) h w')[index]\n",
    "    if a_type == 'structural':\n",
    "        predicted_mask = result['structural_map'][index,0]\n",
    "    elif a_type == 'logical':\n",
    "        predicted_mask = result['logical_map'][index,0]\n",
    "    else:\n",
    "        predicted_mask = result['total_scores_pixel'][index,0]\n",
    "    predicted_mask = np.where(predicted_mask > threshold, 1., 0.)\n",
    "\n",
    "    fig, ax = plt.subplots(1, 3)\n",
    "    fig.suptitle(f'{class_name} Dataset', x=0.5, y=0.72)\n",
    "    ax[0].imshow(input_image)\n",
    "    ax[0].set_title('Input')\n",
    "    ax[1].imshow(gt_mask)\n",
    "    ax[1].set_title('Ground Truth')\n",
    "    ax[2].imshow(predicted_mask)\n",
    "    ax[2].set_title('Predicted')\n",
    "    plt.tight_layout()\n",
    "    plt.show()\n",
    "    return"
   ]
  },
  {
   "cell_type": "markdown",
   "metadata": {
    "id": "kyPJ47h3bvrs"
   },
   "source": [
    "## Model\n",
    "\n",
    "paper:https://link.springer.com/article/10.1007/s11263-022-01578-9"
   ]
  },
  {
   "cell_type": "markdown",
   "metadata": {
    "id": "6ynb8EpKbvrt"
   },
   "source": [
    "### Encoder"
   ]
  },
  {
   "cell_type": "code",
   "execution_count": 6,
   "metadata": {
    "colab": {
     "base_uri": "https://localhost:8080/"
    },
    "id": "pk4MCfpwt_CK",
    "outputId": "bf9be35f-59ca-42a8-e8af-f3a82907fbfe"
   },
   "outputs": [
    {
     "name": "stderr",
     "output_type": "stream",
     "text": [
      "/usr/local/lib/python3.10/dist-packages/torchvision/models/_utils.py:208: UserWarning: The parameter 'pretrained' is deprecated since 0.13 and may be removed in the future, please use 'weights' instead.\n",
      "  warnings.warn(\n",
      "/usr/local/lib/python3.10/dist-packages/torchvision/models/_utils.py:223: UserWarning: Arguments other than a weight enum or `None` for 'weights' are deprecated since 0.13 and may be removed in the future. The current behavior is equivalent to passing `weights=Wide_ResNet50_2_Weights.IMAGENET1K_V1`. You can also use `weights=Wide_ResNet50_2_Weights.DEFAULT` to get the most up-to-date weights.\n",
      "  warnings.warn(msg)\n",
      "Downloading: \"https://download.pytorch.org/models/wide_resnet50_2-95faca4d.pth\" to /root/.cache/torch/hub/checkpoints/wide_resnet50_2-95faca4d.pth\n",
      "100%|██████████| 132M/132M [00:00<00:00, 144MB/s]\n"
     ]
    }
   ],
   "source": [
    "from torchvision.models import wide_resnet50_2\n",
    "\n",
    "# load & prepare model (wide_resnet50_2)\n",
    "encoder = wide_resnet50_2(pretrained=True, progress=True).cuda()\n",
    "encoder.eval()\n",
    "# set hook function to get features\n",
    "outputs = list()\n",
    "def hook(module, input, output):\n",
    "    outputs.append(output)\n",
    "\n",
    "def get_features(model, img, outputs):\n",
    "    with torch.no_grad():\n",
    "            _ = model(img.cuda())\n",
    "    layer1_feature = outputs[0]\n",
    "    layer2_feature = outputs[1]\n",
    "    layer3_feature = outputs[2]\n",
    "    outputs.clear()\n",
    "    return [layer1_feature,layer2_feature,layer3_feature]\n",
    "\n",
    "encoder.layer1.register_forward_hook(hook)\n",
    "encoder.layer2.register_forward_hook(hook)\n",
    "encoder.layer3.register_forward_hook(hook)\n",
    "\n",
    "# produce multi-scale feature\n",
    "def concat_feature(features,config):\n",
    "    use_layers = [i-1 for i in config['use_layers']]\n",
    "    # determine resize to which feature\n",
    "    target_size = config['p_size'] # 32\n",
    "    resized_feature = list()\n",
    "\n",
    "    for i in range(len(features)):\n",
    "        current_size = features[i].size()[3]\n",
    "\n",
    "        ## TODO ######################################################\n",
    "        # please calculate the factor or size to resize to\n",
    "        # use F.interpolate() to resize, set mode to bilinear\n",
    "        # align_corners to False.\n",
    "        # For more instruction, please refer to :\n",
    "        # https://pytorch.org/docs/stable/generated/torch.nn.functional.interpolate.html\n",
    "\n",
    "        temp_feaure = F.interpolate(features[i], (target_size, target_size), mode=\"bilinear\", align_corners=False)\n",
    "        #############################################################\n",
    "        resized_feature.append(temp_feaure)\n",
    "\n",
    "    return torch.concat([resized_feature[i] for i in use_layers],dim=1)\n"
   ]
  },
  {
   "cell_type": "code",
   "execution_count": 7,
   "metadata": {
    "id": "OWxK_IOpsvmM"
   },
   "outputs": [],
   "source": [
    "def encode_loc(encoder,image,config):\n",
    "    assert len(image.shape) == 4\n",
    "    ans = torch.zeros((image.shape[0],config['dloc'],image.shape[2],image.shape[3])).to(config['device'])\n",
    "    for x in range(int(256/config['p_size'])):\n",
    "        for y in range(int(256/config['p_size'])):\n",
    "            x_start = x*config['p_size']\n",
    "            x_end = (x+1)*config['p_size']\n",
    "            y_start = y*config['p_size']\n",
    "            y_end = (y+1)*config['p_size']\n",
    "            local = get_features(encoder,image[:,:,x_start:x_end,y_start:y_end].to(config['device']),outputs)\n",
    "            local = concat_feature(local,config)\n",
    "            assert ans[:,:,x_start:x_end,y_start:y_end].shape == local.shape\n",
    "            ans[:,:,x_start:x_end,y_start:y_end] = local\n",
    "\n",
    "    return ans"
   ]
  },
  {
   "cell_type": "code",
   "execution_count": 8,
   "metadata": {
    "id": "QAm_2qcUg9RV"
   },
   "outputs": [],
   "source": [
    "def init_weight(m):\n",
    "    if isinstance(m, torch.nn.Linear):\n",
    "        torch.nn.init.xavier_normal_(m.weight)\n",
    "    elif isinstance(m, torch.nn.Conv2d):\n",
    "        torch.nn.init.xavier_normal_(m.weight)\n",
    "    elif isinstance(m, torch.nn.ConvTranspose2d):\n",
    "        torch.nn.init.xavier_normal_(m.weight)"
   ]
  },
  {
   "cell_type": "code",
   "execution_count": 9,
   "metadata": {
    "id": "pHUQ5rXMY-2E"
   },
   "outputs": [],
   "source": [
    "class feature_encoder(nn.Module):\n",
    "    def __init__(self,output_dim,g_dim,input_dim = 3):\n",
    "        super(feature_encoder,self).__init__()\n",
    "        self.conv = nn.ModuleList([])\n",
    "        self.deconv = nn.ModuleList([])\n",
    "        self.skip = nn.ModuleList([])\n",
    "        self.layers = 6\n",
    "\n",
    "        out_dim = [32,32,64,64,64]\n",
    "        out_kernel = [4,4,4,4,4,8]\n",
    "        self.skip_add = []\n",
    "\n",
    "\n",
    "        self.conv.append(nn.Sequential(nn.Conv2d(input_dim,out_dim[0],kernel_size=out_kernel[0],stride=2,padding=1),nn.LeakyReLU(0.2)))\n",
    "        for i in range(self.layers-2):\n",
    "            self.conv.append(nn.Sequential(nn.Conv2d(out_dim[i],out_dim[i+1],kernel_size=out_kernel[i+1],stride=2,padding=1),nn.LeakyReLU(0.2)))\n",
    "        self.conv.append(nn.Conv2d(out_dim[self.layers-2],g_dim,kernel_size=out_kernel[self.layers-1]))\n",
    "\n",
    "\n",
    "\n",
    "        self.deconv.append(nn.ConvTranspose2d(g_dim,out_dim[self.layers-2],kernel_size=out_kernel[self.layers-1]))\n",
    "        for i in range(self.layers-2):\n",
    "            self.deconv.append(nn.Sequential(nn.ConvTranspose2d(out_dim[self.layers-2-i],out_dim[self.layers-2-i-1],kernel_size=out_kernel[self.layers-2-i],stride=2,padding=1),nn.LeakyReLU(0.2)))\n",
    "        self.deconv.append(nn.Sequential(nn.ConvTranspose2d(out_dim[0],32,kernel_size=out_kernel[0],stride=2,padding=1),nn.LeakyReLU(0.2)))\n",
    "        self.deconv.append(nn.Sequential(nn.ConvTranspose2d(32,output_dim,kernel_size=1,stride=1)))\n",
    "\n",
    "\n",
    "        for i in range(self.layers-1):\n",
    "            self.skip.append(nn.Conv2d(out_dim[i],out_dim[i],kernel_size=1,stride=1))\n",
    "        self.apply(init_weight)\n",
    "    def forward(self,x,weight=None):\n",
    "        if weight!=None:\n",
    "            assert len(weight) == self.layers-1\n",
    "        self.skip_add = []\n",
    "        for i in range(self.layers):\n",
    "            x = self.conv[i](x)\n",
    "            self.skip_add.append(x)\n",
    "        for i in range(self.layers-1):\n",
    "            x = self.deconv[i](x)\n",
    "            adder = self.skip[self.layers-2-i](self.skip_add[self.layers-2-i])\n",
    "            if weight!=None:\n",
    "                x = x + adder * weight[self.layers-2-i]\n",
    "        x = self.deconv[self.layers-1](x)\n",
    "        x = self.deconv[self.layers](x)\n",
    "        return x"
   ]
  },
  {
   "cell_type": "markdown",
   "metadata": {
    "id": "OAe3jl2tbvrt"
   },
   "source": [
    "### Regressor\n",
    "\n",
    "https://github.com/jvanvugt/pytorch-unet"
   ]
  },
  {
   "cell_type": "code",
   "execution_count": null,
   "metadata": {},
   "outputs": [],
   "source": [
    "class feature_regressor(nn.Module):\n",
    "    def __init__(self,output_dim,input_dim = 3,layers = 5):\n",
    "        super(feature_regressor,self).__init__()\n",
    "        self.conv = nn.ModuleList([])\n",
    "        self.deconv = nn.ModuleList([])\n",
    "        self.skip = nn.ModuleList([])\n",
    "        self.layers = layers\n",
    "\n",
    "        out_dim = [64,128,256,512,1024]\n",
    "        self.skip_add = []\n",
    "\n",
    "\n",
    "        self.conv.append(nn.Sequential(nn.Conv2d(input_dim,out_dim[0],kernel_size=4,stride=2,padding=1),nn.LeakyReLU(0.2)))\n",
    "        for i in range(self.layers-2):\n",
    "            self.conv.append(nn.Sequential(nn.Conv2d(out_dim[i],out_dim[i+1],kernel_size=4,stride=2,padding=1),nn.LeakyReLU(0.2)))\n",
    "        self.conv.append(nn.Conv2d(out_dim[self.layers-2],out_dim[self.layers-1],kernel_size=1))\n",
    "\n",
    "\n",
    "\n",
    "        self.deconv.append(nn.ConvTranspose2d(out_dim[self.layers-1],out_dim[self.layers-2],kernel_size=1))\n",
    "\n",
    "        for i in range(self.layers-2):\n",
    "            self.deconv.append(nn.Sequential(nn.ConvTranspose2d(out_dim[self.layers-2-i],out_dim[self.layers-2-i-1],kernel_size=4,stride=2,padding=1),nn.LeakyReLU(0.2)))\n",
    "        self.deconv.append(nn.Sequential(nn.ConvTranspose2d(out_dim[0],output_dim,kernel_size=4,stride=2,padding=1)))\n",
    "\n",
    "\n",
    "        for i in range(self.layers-1):\n",
    "            self.skip.append(nn.Conv2d(out_dim[i],out_dim[i],kernel_size=1,stride=1))\n",
    "        self.apply(init_weight)\n",
    "    def forward(self,x):\n",
    "        self.skip_add = []\n",
    "        for i in range(self.layers):\n",
    "            x = self.conv[i](x)\n",
    "            self.skip_add.append(x)\n",
    "        for i in range(self.layers-1):\n",
    "            x = self.deconv[i](x)\n",
    "            adder = self.skip[self.layers-2-i](self.skip_add[self.layers-2-i])\n",
    "            x = x + adder\n",
    "        x = self.deconv[self.layers-1](x)\n",
    "        return x"
   ]
  },
  {
   "cell_type": "code",
   "execution_count": 10,
   "metadata": {
    "id": "MDhwf729b3ga"
   },
   "outputs": [],
   "source": [
    "class UNet(nn.Module):\n",
    "    def __init__(\n",
    "        self,\n",
    "        in_channels=3,\n",
    "        n_classes=2,\n",
    "        depth=5,\n",
    "        wf=6,\n",
    "        padding=False,\n",
    "        batch_norm=False,\n",
    "        up_mode='upconv',\n",
    "    ):\n",
    "        \"\"\"\n",
    "        Implementation of\n",
    "        U-Net: Convolutional Networks for Biomedical Image Segmentation\n",
    "        (Ronneberger et al., 2015)\n",
    "        https://arxiv.org/abs/1505.04597\n",
    "\n",
    "        Using the default arguments will yield the exact version used\n",
    "        in the original paper\n",
    "\n",
    "        Args:\n",
    "            in_channels (int): number of input channels\n",
    "            n_classes (int): number of output channels\n",
    "            depth (int): depth of the network\n",
    "            wf (int): number of filters in the first layer is 2**wf\n",
    "            padding (bool): if True, apply padding such that the input shape\n",
    "                            is the same as the output.\n",
    "                            This may introduce artifacts\n",
    "            batch_norm (bool): Use BatchNorm after layers with an\n",
    "                               activation function\n",
    "            up_mode (str): one of 'upconv' or 'upsample'.\n",
    "                           'upconv' will use transposed convolutions for\n",
    "                           learned upsampling.\n",
    "                           'upsample' will use bilinear upsampling.\n",
    "        \"\"\"\n",
    "        super(UNet, self).__init__()\n",
    "        assert up_mode in ('upconv', 'upsample')\n",
    "        self.padding = padding\n",
    "        self.depth = depth\n",
    "        prev_channels = in_channels\n",
    "        self.down_path = nn.ModuleList()\n",
    "        for i in range(depth):\n",
    "            self.down_path.append(\n",
    "                UNetConvBlock(prev_channels, 2 ** (wf + i), padding, batch_norm)\n",
    "            )\n",
    "            prev_channels = 2 ** (wf + i)\n",
    "\n",
    "        self.up_path = nn.ModuleList()\n",
    "        for i in reversed(range(depth - 1)):\n",
    "            self.up_path.append(\n",
    "                UNetUpBlock(prev_channels, 2 ** (wf + i), up_mode, padding, batch_norm)\n",
    "            )\n",
    "            prev_channels = 2 ** (wf + i)\n",
    "\n",
    "        self.last = nn.Conv2d(prev_channels, n_classes, kernel_size=1)\n",
    "\n",
    "    def forward(self, x):\n",
    "        blocks = []\n",
    "        for i, down in enumerate(self.down_path):\n",
    "            x = down(x)\n",
    "            if i != len(self.down_path) - 1:\n",
    "                blocks.append(x)\n",
    "                x = F.max_pool2d(x, 2)\n",
    "\n",
    "        for i, up in enumerate(self.up_path):\n",
    "            x = up(x, blocks[-i - 1])\n",
    "        return F.interpolate(self.last(x), 256, mode=\"bilinear\", align_corners=False)\n",
    "\n",
    "\n",
    "class UNetConvBlock(nn.Module):\n",
    "    def __init__(self, in_size, out_size, padding, batch_norm):\n",
    "        super(UNetConvBlock, self).__init__()\n",
    "        block = []\n",
    "\n",
    "        block.append(nn.Conv2d(in_size, out_size, kernel_size=3, padding=int(padding)))\n",
    "        block.append(nn.ReLU())\n",
    "        if batch_norm:\n",
    "            block.append(nn.BatchNorm2d(out_size))\n",
    "\n",
    "        block.append(nn.Conv2d(out_size, out_size, kernel_size=3, padding=int(padding)))\n",
    "        block.append(nn.ReLU())\n",
    "        if batch_norm:\n",
    "            block.append(nn.BatchNorm2d(out_size))\n",
    "\n",
    "        self.block = nn.Sequential(*block)\n",
    "\n",
    "    def forward(self, x):\n",
    "        out = self.block(x)\n",
    "        return out\n",
    "\n",
    "\n",
    "class UNetUpBlock(nn.Module):\n",
    "    def __init__(self, in_size, out_size, up_mode, padding, batch_norm):\n",
    "        super(UNetUpBlock, self).__init__()\n",
    "        if up_mode == 'upconv':\n",
    "            self.up = nn.ConvTranspose2d(in_size, out_size, kernel_size=2, stride=2)\n",
    "        elif up_mode == 'upsample':\n",
    "            self.up = nn.Sequential(\n",
    "                nn.Upsample(mode='bilinear', scale_factor=2),\n",
    "                nn.Conv2d(in_size, out_size, kernel_size=1),\n",
    "            )\n",
    "\n",
    "        self.conv_block = UNetConvBlock(in_size, out_size, padding, batch_norm)\n",
    "\n",
    "    def center_crop(self, layer, target_size):\n",
    "        _, _, layer_height, layer_width = layer.size()\n",
    "        diff_y = (layer_height - target_size[0]) // 2\n",
    "        diff_x = (layer_width - target_size[1]) // 2\n",
    "        return layer[\n",
    "            :, :, diff_y : (diff_y + target_size[0]), diff_x : (diff_x + target_size[1])\n",
    "        ]\n",
    "\n",
    "    def forward(self, x, bridge):\n",
    "        up = self.up(x)\n",
    "        crop1 = self.center_crop(bridge, up.shape[2:])\n",
    "        out = torch.cat([up, crop1], 1)\n",
    "        out = self.conv_block(out)\n",
    "        return out"
   ]
  },
  {
   "cell_type": "markdown",
   "metadata": {
    "id": "R5S2qFoobvru"
   },
   "source": [
    "### Upsample"
   ]
  },
  {
   "cell_type": "code",
   "execution_count": 11,
   "metadata": {
    "id": "NrZzASePY-2F"
   },
   "outputs": [],
   "source": [
    "class Upsample(nn.Module):\n",
    "    def __init__(self,input_dim,output_dim):\n",
    "        super(Upsample,self).__init__()\n",
    "        self.conv = nn.Sequential(nn.Conv2d(input_dim,input_dim,kernel_size=1,stride=1),\n",
    "                                  nn.LeakyReLU(0.2),\n",
    "                                  nn.Conv2d(input_dim,output_dim,kernel_size=1,stride=1),\n",
    "                                  nn.LeakyReLU(0.2),\n",
    "                                  nn.Conv2d(output_dim,output_dim,kernel_size=1,stride=1))\n",
    "        self.apply(init_weight)\n",
    "    def forward(self,x):\n",
    "        x = self.conv(x)\n",
    "        return x"
   ]
  },
  {
   "cell_type": "markdown",
   "metadata": {
    "id": "bpxMGtmJbvru"
   },
   "source": [
    "### GCAD"
   ]
  },
  {
   "cell_type": "code",
   "execution_count": 12,
   "metadata": {
    "id": "a1VIcwaCY-2F"
   },
   "outputs": [],
   "source": [
    "class GCAD(nn.Module):\n",
    "    def __init__(self, config):\n",
    "        super(GCAD,self).__init__()\n",
    "        self.eglo = feature_encoder(config['dglo'],config['dim_g'])\n",
    "        self.U = Upsample(config['dglo'],config['dloc'])\n",
    "        #self.rglo = UNet(n_classes=config['dglo'],depth=config['r_layer'])\n",
    "        #self.rloc = UNet(n_classes=config['dloc'],depth=config['r_layer'])\n",
    "        self.rglo = feature_regressor(config['dglo'],layers=config['r_layer'])\n",
    "        self.rloc = feature_regressor(config['dloc'],layers=config['r_layer'])\n",
    "    def forward(self,x,weight=None):\n",
    "        feature_rloc = self.rloc(x)\n",
    "        feature_eglo = self.eglo(x,weight)\n",
    "        feature_rglo = self.rglo(x)\n",
    "        feature_eglo_up = self.U(feature_eglo)\n",
    "        return feature_rloc,feature_eglo,feature_rglo,feature_eglo_up\n",
    "    def predict(self,x,features):\n",
    "        structural_map = (torch.sum(((features - self.rloc(x))**2),dim=1,keepdim=True)**0.5)\n",
    "        logical_map = (torch.sum(((self.eglo(x) - self.rglo(x))**2),dim=1,keepdim=True)**0.5)\n",
    "        return structural_map, logical_map"
   ]
  },
  {
   "cell_type": "markdown",
   "metadata": {
    "id": "keY2npwhuAMx"
   },
   "source": [
    "## **Train/Validation/Test**"
   ]
  },
  {
   "cell_type": "markdown",
   "metadata": {
    "id": "95kpJ2P2uTQS"
   },
   "source": [
    "### **Train**"
   ]
  },
  {
   "cell_type": "code",
   "execution_count": 13,
   "metadata": {
    "id": "MaTqUYx8uI6A"
   },
   "outputs": [],
   "source": [
    "def train(encoder, model, dataset, config):\n",
    "\n",
    "    # optimizer\n",
    "    rloc_optim = torch.optim.AdamW(model.rloc.parameters(), lr=config['lr_loc'], weight_decay=config['weight'])\n",
    "    rglo_optim = torch.optim.AdamW(model.rglo.parameters(), lr=config['lr_glo'], weight_decay=config['weight'])\n",
    "    eglo_optim = torch.optim.Adam(model.eglo.parameters(), lr=config['lr_glo'], weight_decay=config['weight'])\n",
    "    U_optim = torch.optim.AdamW(model.U.parameters(), lr=config['lr'], weight_decay=config['weight'])\n",
    "    criterion = nn.MSELoss()\n",
    "    # train\n",
    "    weight = [1,1,1,1,1]\n",
    "    for epoch in tqdm(range(config['epochs'])):\n",
    "        epoch_loss = 0\n",
    "        epoch_loc = 0\n",
    "        epoch_glo = 0\n",
    "        epoch_kd = 0\n",
    "        if epoch<config['epochs']/5:\n",
    "            weight[int(epoch/(config['epochs']/25))]-=25/config['epochs']\n",
    "        for x,y,mask in DataLoader(dataset, batch_size=config['batch_size']):\n",
    "            x, y = x.to(config['device']), y.to(config['device'])\n",
    "            eloc = encode_loc(encoder,x,config)\n",
    "            eloc2 = eloc.clone()\n",
    "            rloc,eglo,rglo,up_eglo = model(x,weight)\n",
    "\n",
    "            loc_loss = criterion(eloc,rloc)\n",
    "            kd_loss = criterion(eloc2,up_eglo)\n",
    "            glo_loss = criterion(eglo,rglo)\n",
    "\n",
    "            loss = loc_loss**0.5/config['dloc']+kd_loss**0.5/config['dloc']+glo_loss**0.5/config['dglo']\n",
    "\n",
    "            # clear gradient\n",
    "            if epoch>=config['epochs']/10:\n",
    "                rglo_optim.zero_grad()\n",
    "            rloc_optim.zero_grad()\n",
    "            eglo_optim.zero_grad()\n",
    "            U_optim.zero_grad()\n",
    "\n",
    "            # calculate new gradient\n",
    "            loss.backward()\n",
    "\n",
    "            # update parameters\n",
    "            if epoch>=config['epochs']/10:\n",
    "                rglo_optim.step()\n",
    "            rloc_optim.step()\n",
    "            eglo_optim.step()\n",
    "            U_optim.step()\n",
    "            epoch_loss += loss.detach().cpu().item()\n",
    "            epoch_glo += glo_loss.detach().cpu().item()**0.5/config['dglo']\n",
    "            epoch_loc += loc_loss.detach().cpu().item()**0.5/config['dloc']\n",
    "            epoch_kd += kd_loss.detach().cpu().item()**0.5/config['dloc']\n",
    "            del eloc, eloc2, rloc, eglo, rglo, up_eglo\n",
    "            torch.cuda.empty_cache()\n",
    "        if (epoch + 1) % config['print_interval'] == 0:\n",
    "            print(f\"epoch{epoch+1} loss:{epoch_loss:.6f}, glo:{epoch_glo:.6f}, loc:{epoch_loc:.6f}, kd:{epoch_kd:.6f}\")"
   ]
  },
  {
   "cell_type": "markdown",
   "metadata": {
    "id": "fI3HHycfubdd"
   },
   "source": [
    "### **Test**"
   ]
  },
  {
   "cell_type": "code",
   "execution_count": 14,
   "metadata": {
    "id": "cCgTDQjeuc2o"
   },
   "outputs": [],
   "source": [
    "#######################################\n",
    "# testing\n",
    "@torch.no_grad()\n",
    "def test(encoder, model, dataset, config):\n",
    "    result = dict()\n",
    "    result['total_scores_pixel'] = list()\n",
    "    result['total_scores_image'] = list()\n",
    "    result['total_gt_pixel'] = list()\n",
    "    result['total_gt_image'] = list()\n",
    "    result['input_image'] = list()\n",
    "    result['structural_map'] = list()\n",
    "    result['logical_map'] = list()\n",
    "\n",
    "\n",
    "    for x,y,mask in DataLoader(dataset,batch_size=1):\n",
    "        x, y = x.to(config['device']), y.to(config['device'])\n",
    "        model.eval()\n",
    "        # store input image\n",
    "        result['input_image'].append(x.cpu().detach().numpy())\n",
    "        eloc = encode_loc(encoder,x,config)\n",
    "\n",
    "        scores_map = None\n",
    "        structural_map, logical_map = model.predict(x,eloc)\n",
    "        result['structural_map'].append(structural_map.cpu().detach().numpy())\n",
    "        result['logical_map'].append(logical_map.cpu().detach().numpy())\n",
    "\n",
    "        # store groundtruth\n",
    "        result['total_gt_pixel'].append(mask.cpu().detach().numpy())\n",
    "        result['total_gt_image'].append(y.cpu().detach().numpy())\n",
    "\n",
    "    # gether all scores and groundtruth\n",
    "    result['input_image'] = np.concatenate(result['input_image'],axis=0)\n",
    "\n",
    "    result['structural_map'] = np.concatenate(result['structural_map'],axis=0)\n",
    "    result['logical_map'] = np.concatenate(result['logical_map'],axis=0)\n",
    "\n",
    "    mean_structural = np.mean(result['structural_map'],axis = 0,keepdims=True)\n",
    "    std_structural = np.std(result['structural_map'],axis = 0,keepdims=True)\n",
    "    mean_logical = np.mean(result['logical_map'],axis = 0,keepdims=True)\n",
    "    std_logical = np.std(result['logical_map'],axis = 0,keepdims=True)\n",
    "    result['structural_map'] = (result['structural_map'] - mean_structural)/(std_structural+1e-9)\n",
    "    result['logical_map'] = (result['logical_map'] - mean_logical)/(std_logical+1e-9)\n",
    "\n",
    "    if config['anomaly_type'] == 'structural':\n",
    "        result['total_scores_pixel'] = result['structural_map']\n",
    "\n",
    "    elif config['anomaly_type'] == 'logical':\n",
    "        result['total_scores_pixel'] = result['logical_map']\n",
    "\n",
    "    else:\n",
    "        result['total_scores_pixel'] = result['logical_map'] + result['structural_map']\n",
    "\n",
    "    scores = []\n",
    "    for score_map in result['total_scores_pixel']:\n",
    "        scores.append(np.max(score_map))\n",
    "\n",
    "    result['total_scores_image'] = np.array(scores)\n",
    "\n",
    "\n",
    "    result['total_gt_pixel'] = np.concatenate(result['total_gt_pixel'],axis=0)\n",
    "    result['total_gt_image'] = np.hstack(result['total_gt_image'])\n",
    "\n",
    "    model.train()\n",
    "    return result"
   ]
  },
  {
   "cell_type": "markdown",
   "metadata": {
    "id": "NP-gIzMoudtV"
   },
   "source": [
    "## **Training/Testing Process**"
   ]
  },
  {
   "cell_type": "markdown",
   "metadata": {
    "id": "RJqxUATxuqMy"
   },
   "source": [
    "### **Config**"
   ]
  },
  {
   "cell_type": "code",
   "execution_count": 15,
   "metadata": {
    "id": "yF_FlVwDusGW"
   },
   "outputs": [],
   "source": [
    "config = {\n",
    "    'few_shot' : 8,\n",
    "    'anomaly_type' : None, # None, 'logical', 'structural'\n",
    "    'lr':1e-4,\n",
    "    'lr_loc':1e-4,\n",
    "    'lr_glo':1e-4,\n",
    "    'r_layer':5,#adjustable[3,4,5]\n",
    "    'weight':1e-5,\n",
    "    'epochs' : 20,\n",
    "    'print_interval' : 10,\n",
    "    'batch_size' : 1,\n",
    "    'device' : device,\n",
    "    'use_layers' : [1,2,3],#with dloc [0:1024,1:256,2:512,3:1024]\n",
    "    'p_size':16,#adjustable[16,32]\n",
    "    'dglo':60,#adjustable[10,140]\n",
    "    'dloc':1792,#adjustable with use_layers\n",
    "    'dim_g':32,#adjustable[16,32,48,64]\n",
    "}"
   ]
  },
  {
   "cell_type": "markdown",
   "metadata": {
    "id": "tjdgtO7iusd4"
   },
   "source": [
    "### **Training and Testing**"
   ]
  },
  {
   "cell_type": "code",
   "execution_count": 16,
   "metadata": {
    "id": "yNw6mIrtPjro"
   },
   "outputs": [],
   "source": [
    "datasets = {}\n",
    "class_names = ['breakfast_box', 'juice_bottle', 'pushpins', 'screw_bag', 'splicing_connectors']\n",
    "modes = ['train', 'validation', 'test']"
   ]
  },
  {
   "cell_type": "code",
   "execution_count": 17,
   "metadata": {
    "colab": {
     "base_uri": "https://localhost:8080/"
    },
    "id": "U2xFQFXsO8Ou",
    "outputId": "4b042b45-596e-45fe-d978-f99e3e751961"
   },
   "outputs": [
    {
     "name": "stdout",
     "output_type": "stream",
     "text": [
      "breakfast_box train dataset created, consists of 40 images\n",
      "breakfast_box test dataset created, consists of 275 images\n"
     ]
    }
   ],
   "source": [
    "for class_name in ['breakfast_box']:\n",
    "    datasets[class_name] = {}\n",
    "    for mode in ['train', 'test']:\n",
    "        datasets[class_name][mode] = MVTecDataset(class_name=class_name, anomaly_type=config['anomaly_type'], mode=mode, few_shot=config['few_shot'],augmentation=True)"
   ]
  },
  {
   "cell_type": "code",
   "execution_count": null,
   "metadata": {
    "colab": {
     "base_uri": "https://localhost:8080/"
    },
    "id": "gxsX2RxLPhkX",
    "outputId": "7148df0b-a2ff-4855-e85c-ffee75f3cf03"
   },
   "outputs": [
    {
     "name": "stdout",
     "output_type": "stream",
     "text": [
      "juice_bottle train dataset created, consists of 40 images\n",
      "juice_bottle test dataset created, consists of 330 images\n"
     ]
    }
   ],
   "source": [
    "for class_name in ['juice_bottle']:\n",
    "    datasets[class_name] = {}\n",
    "    for mode in ['train', 'test']:\n",
    "        datasets[class_name][mode] = MVTecDataset(class_name=class_name, anomaly_type=config['anomaly_type'], mode=mode, few_shot=config['few_shot'],augmentation=True)"
   ]
  },
  {
   "cell_type": "code",
   "execution_count": null,
   "metadata": {
    "colab": {
     "base_uri": "https://localhost:8080/"
    },
    "id": "GMtRIO-tEFa8",
    "outputId": "ecadc3a1-f49c-46c3-e887-62da31210822"
   },
   "outputs": [
    {
     "name": "stdout",
     "output_type": "stream",
     "text": [
      "pushpins train dataset created, consists of 40 images\n",
      "pushpins test dataset created, consists of 310 images\n"
     ]
    }
   ],
   "source": [
    "for class_name in ['pushpins']:\n",
    "    datasets[class_name] = {}\n",
    "    for mode in ['train', 'test']:\n",
    "        datasets[class_name][mode] = MVTecDataset(class_name=class_name, anomaly_type=config['anomaly_type'], mode=mode, few_shot=config['few_shot'],augmentation=True)"
   ]
  },
  {
   "cell_type": "code",
   "execution_count": null,
   "metadata": {
    "colab": {
     "base_uri": "https://localhost:8080/"
    },
    "id": "rvOefKvVSx6F",
    "outputId": "a76c69dd-bb30-4056-9922-a093a730b784"
   },
   "outputs": [
    {
     "name": "stdout",
     "output_type": "stream",
     "text": [
      "screw_bag train dataset created, consists of 40 images\n",
      "screw_bag test dataset created, consists of 341 images\n"
     ]
    }
   ],
   "source": [
    "for class_name in ['screw_bag']:\n",
    "    datasets[class_name] = {}\n",
    "    for mode in ['train', 'test']:\n",
    "        datasets[class_name][mode] = MVTecDataset(class_name=class_name, anomaly_type=config['anomaly_type'], mode=mode, few_shot=config['few_shot'],augmentation=True)"
   ]
  },
  {
   "cell_type": "code",
   "execution_count": null,
   "metadata": {
    "colab": {
     "base_uri": "https://localhost:8080/"
    },
    "id": "qGjB8kZSbZqJ",
    "outputId": "fdbb20d0-5f3a-41ce-edcf-0702c26f2ca1"
   },
   "outputs": [
    {
     "name": "stdout",
     "output_type": "stream",
     "text": [
      "splicing_connectors train dataset created, consists of 40 images\n",
      "splicing_connectors test dataset created, consists of 312 images\n"
     ]
    }
   ],
   "source": [
    "for class_name in ['splicing_connectors']:\n",
    "    datasets[class_name] = {}\n",
    "    for mode in ['train', 'test']:\n",
    "        datasets[class_name][mode] = MVTecDataset(class_name=class_name, anomaly_type=config['anomaly_type'], mode=mode, few_shot=config['few_shot'],augmentation=True)"
   ]
  },
  {
   "cell_type": "markdown",
   "metadata": {
    "id": "Wzc-lUds-CUw"
   },
   "source": [
    "**breakfast_box**"
   ]
  },
  {
   "cell_type": "code",
   "execution_count": 18,
   "metadata": {
    "colab": {
     "base_uri": "https://localhost:8080/",
     "height": 173,
     "referenced_widgets": [
      "7b4e7a2633064bee847b8ae9f3e01aa5",
      "9dd197b4e5974d98b245039a1aae959f",
      "5da8b67ff6f94ebf86c38139e51f6010",
      "60b4d179068d4209ba05c2d20dd0fa7b",
      "c9268cde72a54e1e9f3cd77181e7b2a4",
      "0e493d92afa844c29d01ed2713937663",
      "84250eef9c2744d39259ec19c5cb5989",
      "fd61c1adbb2e48ecbb913955417cbbb8",
      "ab76af2e8c074a58a1959e9d72c42da3",
      "f43d7212c678455d9ac75f35ca0437df",
      "e540d540aa604224a4f235214acbd0d9"
     ]
    },
    "id": "cg0eYHA5Y-2G",
    "outputId": "94ff1224-513f-46fe-ad2b-29c7cd3a3cd8"
   },
   "outputs": [
    {
     "data": {
      "application/vnd.jupyter.widget-view+json": {
       "model_id": "7b4e7a2633064bee847b8ae9f3e01aa5",
       "version_major": 2,
       "version_minor": 0
      },
      "text/plain": [
       "  0%|          | 0/20 [00:00<?, ?it/s]"
      ]
     },
     "metadata": {},
     "output_type": "display_data"
    },
    {
     "name": "stderr",
     "output_type": "stream",
     "text": [
      "/usr/local/lib/python3.10/dist-packages/torch/nn/modules/conv.py:456: UserWarning: Plan failed with a cudnnException: CUDNN_BACKEND_EXECUTION_PLAN_DESCRIPTOR: cudnnFinalize Descriptor Failed cudnn_status: CUDNN_STATUS_NOT_SUPPORTED (Triggered internally at ../aten/src/ATen/native/cudnn/Conv_v8.cpp:919.)\n",
      "  return F.conv2d(input, weight, bias, self.stride,\n",
      "/usr/local/lib/python3.10/dist-packages/torch/autograd/graph.py:744: UserWarning: Plan failed with a cudnnException: CUDNN_BACKEND_EXECUTION_PLAN_DESCRIPTOR: cudnnFinalize Descriptor Failed cudnn_status: CUDNN_STATUS_NOT_SUPPORTED (Triggered internally at ../aten/src/ATen/native/cudnn/Conv_v8.cpp:919.)\n",
      "  return Variable._execution_engine.run_backward(  # Calls into the C++ engine to run the backward pass\n"
     ]
    },
    {
     "name": "stdout",
     "output_type": "stream",
     "text": [
      "epoch10 loss:0.014949, glo:0.007884, loc:0.003430, kd:0.003635\n",
      "epoch20 loss:0.010402, glo:0.003453, loc:0.003316, kd:0.003633\n"
     ]
    }
   ],
   "source": [
    "model = GCAD(config).to(device)\n",
    "train(encoder, model, datasets['breakfast_box']['train'], config)"
   ]
  },
  {
   "cell_type": "code",
   "execution_count": 19,
   "metadata": {
    "colab": {
     "base_uri": "https://localhost:8080/",
     "height": 472
    },
    "id": "e3Ci3OlyY-2G",
    "outputId": "0944dab0-709c-482d-88e7-0948aabc60c7"
   },
   "outputs": [
    {
     "data": {
      "image/png": "[encoded data removed]",
      "text/plain": [
       "<Figure size 640x480 with 1 Axes>"
      ]
     },
     "metadata": {},
     "output_type": "display_data"
    }
   ],
   "source": [
    "result = test(encoder, model, datasets['breakfast_box']['test'], config)\n",
    "fpr, tpr, auc = compute_metric(result)\n",
    "plot_roc_curve(fpr, tpr, auc, 'breakfast_box')"
   ]
  },
  {
   "cell_type": "code",
   "execution_count": 46,
   "metadata": {
    "colab": {
     "base_uri": "https://localhost:8080/",
     "height": 261
    },
    "id": "PpbXIzuyX1Ug",
    "outputId": "52c06b97-db7c-4349-f41c-aa1b63584162"
   },
   "outputs": [
    {
     "data": {
      "image/png": "[encoded data removed]",
      "text/plain": [
       "<Figure size 640x480 with 3 Axes>"
      ]
     },
     "metadata": {},
     "output_type": "display_data"
    }
   ],
   "source": [
    "anomaly_threshold = 3\n",
    "# Get a random sample\n",
    "# index = int(np.random.random()*len(result['input_image']))\n",
    "index = 200\n",
    "plot_anomaly_map(result, 'breakfast_box', datasets['breakfast_box']['test'], index, anomaly_threshold)"
   ]
  },
  {
   "cell_type": "markdown",
   "metadata": {
    "id": "MYASoDLWERts"
   },
   "source": [
    "**juice_bottle**"
   ]
  },
  {
   "cell_type": "code",
   "execution_count": null,
   "metadata": {
    "colab": {
     "base_uri": "https://localhost:8080/",
     "height": 173,
     "referenced_widgets": [
      "8830a7c2af014875a2ee102e5d32db46",
      "ce13261ac7e94f3388b49416aed032e1",
      "1447d9ed51594c12aa114b55204c133d",
      "d1c4e01d36134842b2ee0b9e200b91e5",
      "4aabf627dc954fdcbf8d88c52fd923ed",
      "71b0060bf1b749519e11ec9a375f5ccb",
      "d6ff4ea1f9b14594aa54b7fff997bc54",
      "1ae670c745064d69b3c4db35068a02a9",
      "c9f1a4f18ab74977a4d3b06be6944906",
      "749478c7cec24b79929709b792a00806",
      "9ca5200c174b492482a1d6f88125f29b"
     ]
    },
    "id": "gtdg35gbElWt",
    "outputId": "3969ed84-188c-40d9-d07b-1e5ddd7aa2b5"
   },
   "outputs": [
    {
     "data": {
      "application/vnd.jupyter.widget-view+json": {
       "model_id": "8830a7c2af014875a2ee102e5d32db46",
       "version_major": 2,
       "version_minor": 0
      },
      "text/plain": [
       "  0%|          | 0/20 [00:00<?, ?it/s]"
      ]
     },
     "metadata": {},
     "output_type": "display_data"
    },
    {
     "name": "stderr",
     "output_type": "stream",
     "text": [
      "/usr/local/lib/python3.10/dist-packages/torch/nn/modules/conv.py:456: UserWarning: Plan failed with a cudnnException: CUDNN_BACKEND_EXECUTION_PLAN_DESCRIPTOR: cudnnFinalize Descriptor Failed cudnn_status: CUDNN_STATUS_NOT_SUPPORTED (Triggered internally at ../aten/src/ATen/native/cudnn/Conv_v8.cpp:919.)\n",
      "  return F.conv2d(input, weight, bias, self.stride,\n",
      "/usr/local/lib/python3.10/dist-packages/torch/autograd/graph.py:744: UserWarning: Plan failed with a cudnnException: CUDNN_BACKEND_EXECUTION_PLAN_DESCRIPTOR: cudnnFinalize Descriptor Failed cudnn_status: CUDNN_STATUS_NOT_SUPPORTED (Triggered internally at ../aten/src/ATen/native/cudnn/Conv_v8.cpp:919.)\n",
      "  return Variable._execution_engine.run_backward(  # Calls into the C++ engine to run the backward pass\n"
     ]
    },
    {
     "name": "stdout",
     "output_type": "stream",
     "text": [
      "epoch10 loss:0.012752, glo:0.007020, loc:0.002713, kd:0.003019\n",
      "epoch20 loss:0.009176, glo:0.003814, loc:0.002466, kd:0.002896\n"
     ]
    }
   ],
   "source": [
    "model = GCAD(config).to(device)\n",
    "train(encoder, model, datasets['juice_bottle']['train'], config)"
   ]
  },
  {
   "cell_type": "code",
   "execution_count": null,
   "metadata": {
    "colab": {
     "base_uri": "https://localhost:8080/",
     "height": 472
    },
    "id": "SDqG5PrKEoVE",
    "outputId": "8e1bd048-547d-4618-8032-94127ea2a413"
   },
   "outputs": [
    {
     "data": {
      "image/png": "[encoded data removed]",
      "text/plain": [
       "<Figure size 640x480 with 1 Axes>"
      ]
     },
     "metadata": {},
     "output_type": "display_data"
    }
   ],
   "source": [
    "result = test(encoder, model, datasets['juice_bottle']['test'], config)\n",
    "fpr, tpr, auc = compute_metric(result)\n",
    "plot_roc_curve(fpr, tpr, auc, 'juice_bottle')"
   ]
  },
  {
   "cell_type": "markdown",
   "metadata": {
    "id": "kQOtUTPzEW7j"
   },
   "source": [
    "**pushpins**"
   ]
  },
  {
   "cell_type": "code",
   "execution_count": null,
   "metadata": {
    "colab": {
     "base_uri": "https://localhost:8080/",
     "height": 173,
     "referenced_widgets": [
      "ce903fec29ac499796481783908bf521",
      "14995adf5d5a4fae85b208f7d1ddc486",
      "c4a1ae5d11bb492e92635c1cb2919c57",
      "07bf258ceb1b4ffd88cbc950bdfb390b",
      "fad2af79fa0843629d963babfe41acff",
      "70dc7e43231e4f52b06de01b6fa85f4d",
      "c6531cc986894c5b93da787dac903bb4",
      "d8ea5daf6bf74720b4d17699fefafb0c",
      "1f22643714934b8189526d4706090141",
      "22c35a1233774fddb40cbef24fa25777",
      "61f56e21060d4302bc49263878e57435"
     ]
    },
    "id": "akH29lVqEtDh",
    "outputId": "a17e9f46-739a-45b2-ea66-f28b8abbd1bf"
   },
   "outputs": [
    {
     "data": {
      "application/vnd.jupyter.widget-view+json": {
       "model_id": "ce903fec29ac499796481783908bf521",
       "version_major": 2,
       "version_minor": 0
      },
      "text/plain": [
       "  0%|          | 0/20 [00:00<?, ?it/s]"
      ]
     },
     "metadata": {},
     "output_type": "display_data"
    },
    {
     "name": "stderr",
     "output_type": "stream",
     "text": [
      "/usr/local/lib/python3.10/dist-packages/torch/nn/modules/conv.py:456: UserWarning: Plan failed with a cudnnException: CUDNN_BACKEND_EXECUTION_PLAN_DESCRIPTOR: cudnnFinalize Descriptor Failed cudnn_status: CUDNN_STATUS_NOT_SUPPORTED (Triggered internally at ../aten/src/ATen/native/cudnn/Conv_v8.cpp:919.)\n",
      "  return F.conv2d(input, weight, bias, self.stride,\n",
      "/usr/local/lib/python3.10/dist-packages/torch/autograd/graph.py:744: UserWarning: Plan failed with a cudnnException: CUDNN_BACKEND_EXECUTION_PLAN_DESCRIPTOR: cudnnFinalize Descriptor Failed cudnn_status: CUDNN_STATUS_NOT_SUPPORTED (Triggered internally at ../aten/src/ATen/native/cudnn/Conv_v8.cpp:919.)\n",
      "  return Variable._execution_engine.run_backward(  # Calls into the C++ engine to run the backward pass\n"
     ]
    },
    {
     "name": "stdout",
     "output_type": "stream",
     "text": [
      "epoch10 loss:0.013563, glo:0.006899, loc:0.003257, kd:0.003407\n",
      "epoch20 loss:0.009783, glo:0.003367, loc:0.003015, kd:0.003401\n"
     ]
    }
   ],
   "source": [
    "model = GCAD(config).to(device)\n",
    "train(encoder, model, datasets['pushpins']['train'], config)"
   ]
  },
  {
   "cell_type": "code",
   "execution_count": null,
   "metadata": {
    "colab": {
     "base_uri": "https://localhost:8080/",
     "height": 472
    },
    "id": "T7ptpfBIEw08",
    "outputId": "eee40cd2-7f35-42c3-c967-a56f6657a9d7"
   },
   "outputs": [
    {
     "data": {
      "image/png": "[encoded data removed]",
      "text/plain": [
       "<Figure size 640x480 with 1 Axes>"
      ]
     },
     "metadata": {},
     "output_type": "display_data"
    }
   ],
   "source": [
    "result = test(encoder, model, datasets['pushpins']['test'], config)\n",
    "fpr, tpr, auc = compute_metric(result)\n",
    "plot_roc_curve(fpr, tpr, auc, 'pushpins')"
   ]
  },
  {
   "cell_type": "markdown",
   "metadata": {
    "id": "63oUy6jSEc5i"
   },
   "source": [
    "**screw_bag**"
   ]
  },
  {
   "cell_type": "code",
   "execution_count": null,
   "metadata": {
    "colab": {
     "base_uri": "https://localhost:8080/",
     "height": 173,
     "referenced_widgets": [
      "e81e966d0ab8462389f28e627996ca3a",
      "51b9158f27fd41df9559ad92febb84a3",
      "1e22ae577e074d84822101353c1018cb",
      "20ddc912386c4da2b98a230a4eb3def8",
      "c752c45af1fc4b6eb0e52f015d24fc02",
      "cc21c9af29b242e78606a253247bc589",
      "4cf03d8f161d439cb740a87fe3e897b0",
      "f6f4074482f545e881b30ebdc4dbe82a",
      "d7345869966540e8843acdc414731ca3",
      "608468bdd9284de6b5b8238917ab3ddb",
      "a8621e355a1c4ecea09e022ab84dabe4"
     ]
    },
    "id": "-YtvZZ_aEvEe",
    "outputId": "2a06c4d8-1db2-4b18-e484-07f1912e365e"
   },
   "outputs": [
    {
     "data": {
      "application/vnd.jupyter.widget-view+json": {
       "model_id": "e81e966d0ab8462389f28e627996ca3a",
       "version_major": 2,
       "version_minor": 0
      },
      "text/plain": [
       "  0%|          | 0/20 [00:00<?, ?it/s]"
      ]
     },
     "metadata": {},
     "output_type": "display_data"
    },
    {
     "name": "stderr",
     "output_type": "stream",
     "text": [
      "/usr/local/lib/python3.10/dist-packages/torch/nn/modules/conv.py:456: UserWarning: Plan failed with a cudnnException: CUDNN_BACKEND_EXECUTION_PLAN_DESCRIPTOR: cudnnFinalize Descriptor Failed cudnn_status: CUDNN_STATUS_NOT_SUPPORTED (Triggered internally at ../aten/src/ATen/native/cudnn/Conv_v8.cpp:919.)\n",
      "  return F.conv2d(input, weight, bias, self.stride,\n",
      "/usr/local/lib/python3.10/dist-packages/torch/autograd/graph.py:744: UserWarning: Plan failed with a cudnnException: CUDNN_BACKEND_EXECUTION_PLAN_DESCRIPTOR: cudnnFinalize Descriptor Failed cudnn_status: CUDNN_STATUS_NOT_SUPPORTED (Triggered internally at ../aten/src/ATen/native/cudnn/Conv_v8.cpp:919.)\n",
      "  return Variable._execution_engine.run_backward(  # Calls into the C++ engine to run the backward pass\n"
     ]
    },
    {
     "name": "stdout",
     "output_type": "stream",
     "text": [
      "epoch10 loss:0.013228, glo:0.007164, loc:0.002978, kd:0.003086\n",
      "epoch20 loss:0.009433, glo:0.003635, loc:0.002720, kd:0.003078\n"
     ]
    }
   ],
   "source": [
    "model = GCAD(config).to(device)\n",
    "train(encoder, model, datasets['screw_bag']['train'], config)"
   ]
  },
  {
   "cell_type": "code",
   "execution_count": null,
   "metadata": {
    "colab": {
     "base_uri": "https://localhost:8080/",
     "height": 472
    },
    "id": "e6WtBJTUExOt",
    "outputId": "4054bfc3-e1c1-47ea-9a9a-e8a70284cd78"
   },
   "outputs": [
    {
     "data": {
      "image/png": "[encoded data removed]",
      "text/plain": [
       "<Figure size 640x480 with 1 Axes>"
      ]
     },
     "metadata": {},
     "output_type": "display_data"
    }
   ],
   "source": [
    "result = test(encoder, model, datasets['screw_bag']['test'], config)\n",
    "fpr, tpr, auc = compute_metric(result)\n",
    "plot_roc_curve(fpr, tpr, auc, 'screw_bag')"
   ]
  },
  {
   "cell_type": "markdown",
   "metadata": {
    "id": "cIUdH1jhEhTS"
   },
   "source": [
    "**splicing_connectors**"
   ]
  },
  {
   "cell_type": "code",
   "execution_count": null,
   "metadata": {
    "colab": {
     "base_uri": "https://localhost:8080/",
     "height": 173,
     "referenced_widgets": [
      "aee82f6e223142e49757ec28f4af950a",
      "e91fa8ad006e4fc2b5e5baa00720ed70",
      "cb0cf584e7794f45815c56c25f4b7d5a",
      "883e837cf74d4a56aedb5e2d3827f762",
      "2090cde128fd4224b885b91ddca8a477",
      "7961595acd4b41f9bda8d5b296a133de",
      "d24caf87060342148106a3dea3633037",
      "f6e1fd43e1ab489b928c74a6548fe7fd",
      "65183f4347904a4abbe781bc6b7f381c",
      "cecc6e2d5e804ba4aeaf78ce1a14dc0b",
      "b03281c7bb6143788c58f103c319f53c"
     ]
    },
    "id": "wF9KNCb5Evfc",
    "outputId": "5c88d7c9-0287-4fb9-839f-6f0da5714acb"
   },
   "outputs": [
    {
     "data": {
      "application/vnd.jupyter.widget-view+json": {
       "model_id": "aee82f6e223142e49757ec28f4af950a",
       "version_major": 2,
       "version_minor": 0
      },
      "text/plain": [
       "  0%|          | 0/20 [00:00<?, ?it/s]"
      ]
     },
     "metadata": {},
     "output_type": "display_data"
    },
    {
     "name": "stderr",
     "output_type": "stream",
     "text": [
      "/usr/local/lib/python3.10/dist-packages/torch/nn/modules/conv.py:456: UserWarning: Plan failed with a cudnnException: CUDNN_BACKEND_EXECUTION_PLAN_DESCRIPTOR: cudnnFinalize Descriptor Failed cudnn_status: CUDNN_STATUS_NOT_SUPPORTED (Triggered internally at ../aten/src/ATen/native/cudnn/Conv_v8.cpp:919.)\n",
      "  return F.conv2d(input, weight, bias, self.stride,\n",
      "/usr/local/lib/python3.10/dist-packages/torch/autograd/graph.py:744: UserWarning: Plan failed with a cudnnException: CUDNN_BACKEND_EXECUTION_PLAN_DESCRIPTOR: cudnnFinalize Descriptor Failed cudnn_status: CUDNN_STATUS_NOT_SUPPORTED (Triggered internally at ../aten/src/ATen/native/cudnn/Conv_v8.cpp:919.)\n",
      "  return Variable._execution_engine.run_backward(  # Calls into the C++ engine to run the backward pass\n"
     ]
    },
    {
     "name": "stdout",
     "output_type": "stream",
     "text": [
      "epoch10 loss:0.015354, glo:0.008299, loc:0.003355, kd:0.003700\n",
      "epoch20 loss:0.010252, glo:0.003402, loc:0.003154, kd:0.003695\n"
     ]
    }
   ],
   "source": [
    "model = GCAD(config).to(device)\n",
    "train(encoder, model, datasets['splicing_connectors']['train'], config)"
   ]
  },
  {
   "cell_type": "code",
   "execution_count": null,
   "metadata": {
    "colab": {
     "base_uri": "https://localhost:8080/",
     "height": 472
    },
    "id": "-q8AgqvoExt8",
    "outputId": "e56b0b54-e27b-4aa7-9e9e-0a76ce8d6112"
   },
   "outputs": [
    {
     "data": {
      "image/png": "[encoded data removed]",
      "text/plain": [
       "<Figure size 640x480 with 1 Axes>"
      ]
     },
     "metadata": {},
     "output_type": "display_data"
    }
   ],
   "source": [
    "result = test(encoder, model, datasets['splicing_connectors']['test'], config)\n",
    "fpr, tpr, auc = compute_metric(result)\n",
    "plot_roc_curve(fpr, tpr, auc, 'splicing_connectors')"
   ]
  },
  {
   "cell_type": "markdown",
   "metadata": {
    "id": "ChYwtdbqcvL3"
   },
   "source": [
    "need to delete model / result in each training process, to avoid the lack of ram"
   ]
  },
  {
   "cell_type": "code",
   "execution_count": null,
   "metadata": {
    "id": "cOg17ayMY-2G"
   },
   "outputs": [],
   "source": [
    "del model\n",
    "del result"
   ]
  },
  {
   "cell_type": "markdown",
   "metadata": {
    "id": "6UTtj2OEbvrv"
   },
   "source": [
    "## Find best hyperparameters"
   ]
  },
  {
   "cell_type": "code",
   "execution_count": null,
   "metadata": {
    "id": "FTByXbFobvrv"
   },
   "outputs": [],
   "source": [
    "\n",
    "best_auc = -1\n",
    "best_dglo, best_dloc, best_dim_g = 0, 0, 0\n",
    "class_name = 'breakfast_box'\n",
    "\n",
    "for dglo in [60, 70, 80, 90]:\n",
    "    config['dglo'] = dglo\n",
    "    for dim_g in [16, 32, 48, 64]:\n",
    "        config['dim_g'] = dim_g\n",
    "        model = GCAD(config).to(device)\n",
    "        train(encoder, model, datasets[class_name]['train'], config)\n",
    "        result = test(encoder, model, datasets[class_name]['test'], config)\n",
    "        fpr, tpr, auc = compute_metric(result)\n",
    "        del model\n",
    "        del result\n",
    "\n",
    "        if best_auc < auc:\n",
    "            best_auc = auc\n",
    "            best_dglo = dglo\n",
    "            best_dim_g = dim_g\n",
    "\n",
    "# output: best_dglo = 90, best_dim_g = 48, best_dim_g2 = 1024, auc = 0.56"
   ]
  }
 ],
 "metadata": {
  "accelerator": "GPU",
  "colab": {
   "gpuType": "T4",
   "provenance": []
  },
  "kernelspec": {
   "display_name": "Python 3 (ipykernel)",
   "language": "python",
   "name": "python3"
  },
  "language_info": {
   "codemirror_mode": {
    "name": "ipython",
    "version": 3
   },
   "file_extension": ".py",
   "mimetype": "text/x-python",
   "name": "python",
   "nbconvert_exporter": "python",
   "pygments_lexer": "ipython3",
   "version": "3.11.0"
  },
  "widgets": {
   "application/vnd.jupyter.widget-state+json": {
    "07bf258ceb1b4ffd88cbc950bdfb390b": {
     "model_module": "@jupyter-widgets/controls",
     "model_module_version": "1.5.0",
     "model_name": "HTMLModel",
     "state": {
      "_dom_classes": [],
      "_model_module": "@jupyter-widgets/controls",
      "_model_module_version": "1.5.0",
      "_model_name": "HTMLModel",
      "_view_count": null,
      "_view_module": "@jupyter-widgets/controls",
      "_view_module_version": "1.5.0",
      "_view_name": "HTMLView",
      "description": "",
      "description_tooltip": null,
      "layout": "IPY_MODEL_22c35a1233774fddb40cbef24fa25777",
      "placeholder": "​",
      "style": "IPY_MODEL_61f56e21060d4302bc49263878e57435",
      "value": " 20/20 [37:04&lt;00:00, 111.26s/it]"
     }
    },
    "0e493d92afa844c29d01ed2713937663": {
     "model_module": "@jupyter-widgets/base",
     "model_module_version": "1.2.0",
     "model_name": "LayoutModel",
     "state": {
      "_model_module": "@jupyter-widgets/base",
      "_model_module_version": "1.2.0",
      "_model_name": "LayoutModel",
      "_view_count": null,
      "_view_module": "@jupyter-widgets/base",
      "_view_module_version": "1.2.0",
      "_view_name": "LayoutView",
      "align_content": null,
      "align_items": null,
      "align_self": null,
      "border": null,
      "bottom": null,
      "display": null,
      "flex": null,
      "flex_flow": null,
      "grid_area": null,
      "grid_auto_columns": null,
      "grid_auto_flow": null,
      "grid_auto_rows": null,
      "grid_column": null,
      "grid_gap": null,
      "grid_row": null,
      "grid_template_areas": null,
      "grid_template_columns": null,
      "grid_template_rows": null,
      "height": null,
      "justify_content": null,
      "justify_items": null,
      "left": null,
      "margin": null,
      "max_height": null,
      "max_width": null,
      "min_height": null,
      "min_width": null,
      "object_fit": null,
      "object_position": null,
      "order": null,
      "overflow": null,
      "overflow_x": null,
      "overflow_y": null,
      "padding": null,
      "right": null,
      "top": null,
      "visibility": null,
      "width": null
     }
    },
    "1447d9ed51594c12aa114b55204c133d": {
     "model_module": "@jupyter-widgets/controls",
     "model_module_version": "1.5.0",
     "model_name": "FloatProgressModel",
     "state": {
      "_dom_classes": [],
      "_model_module": "@jupyter-widgets/controls",
      "_model_module_version": "1.5.0",
      "_model_name": "FloatProgressModel",
      "_view_count": null,
      "_view_module": "@jupyter-widgets/controls",
      "_view_module_version": "1.5.0",
      "_view_name": "ProgressView",
      "bar_style": "success",
      "description": "",
      "description_tooltip": null,
      "layout": "IPY_MODEL_1ae670c745064d69b3c4db35068a02a9",
      "max": 20,
      "min": 0,
      "orientation": "horizontal",
      "style": "IPY_MODEL_c9f1a4f18ab74977a4d3b06be6944906",
      "value": 20
     }
    },
    "14995adf5d5a4fae85b208f7d1ddc486": {
     "model_module": "@jupyter-widgets/controls",
     "model_module_version": "1.5.0",
     "model_name": "HTMLModel",
     "state": {
      "_dom_classes": [],
      "_model_module": "@jupyter-widgets/controls",
      "_model_module_version": "1.5.0",
      "_model_name": "HTMLModel",
      "_view_count": null,
      "_view_module": "@jupyter-widgets/controls",
      "_view_module_version": "1.5.0",
      "_view_name": "HTMLView",
      "description": "",
      "description_tooltip": null,
      "layout": "IPY_MODEL_70dc7e43231e4f52b06de01b6fa85f4d",
      "placeholder": "​",
      "style": "IPY_MODEL_c6531cc986894c5b93da787dac903bb4",
      "value": "100%"
     }
    },
    "1ae670c745064d69b3c4db35068a02a9": {
     "model_module": "@jupyter-widgets/base",
     "model_module_version": "1.2.0",
     "model_name": "LayoutModel",
     "state": {
      "_model_module": "@jupyter-widgets/base",
      "_model_module_version": "1.2.0",
      "_model_name": "LayoutModel",
      "_view_count": null,
      "_view_module": "@jupyter-widgets/base",
      "_view_module_version": "1.2.0",
      "_view_name": "LayoutView",
      "align_content": null,
      "align_items": null,
      "align_self": null,
      "border": null,
      "bottom": null,
      "display": null,
      "flex": null,
      "flex_flow": null,
      "grid_area": null,
      "grid_auto_columns": null,
      "grid_auto_flow": null,
      "grid_auto_rows": null,
      "grid_column": null,
      "grid_gap": null,
      "grid_row": null,
      "grid_template_areas": null,
      "grid_template_columns": null,
      "grid_template_rows": null,
      "height": null,
      "justify_content": null,
      "justify_items": null,
      "left": null,
      "margin": null,
      "max_height": null,
      "max_width": null,
      "min_height": null,
      "min_width": null,
      "object_fit": null,
      "object_position": null,
      "order": null,
      "overflow": null,
      "overflow_x": null,
      "overflow_y": null,
      "padding": null,
      "right": null,
      "top": null,
      "visibility": null,
      "width": null
     }
    },
    "1e22ae577e074d84822101353c1018cb": {
     "model_module": "@jupyter-widgets/controls",
     "model_module_version": "1.5.0",
     "model_name": "FloatProgressModel",
     "state": {
      "_dom_classes": [],
      "_model_module": "@jupyter-widgets/controls",
      "_model_module_version": "1.5.0",
      "_model_name": "FloatProgressModel",
      "_view_count": null,
      "_view_module": "@jupyter-widgets/controls",
      "_view_module_version": "1.5.0",
      "_view_name": "ProgressView",
      "bar_style": "success",
      "description": "",
      "description_tooltip": null,
      "layout": "IPY_MODEL_f6f4074482f545e881b30ebdc4dbe82a",
      "max": 20,
      "min": 0,
      "orientation": "horizontal",
      "style": "IPY_MODEL_d7345869966540e8843acdc414731ca3",
      "value": 20
     }
    },
    "1f22643714934b8189526d4706090141": {
     "model_module": "@jupyter-widgets/controls",
     "model_module_version": "1.5.0",
     "model_name": "ProgressStyleModel",
     "state": {
      "_model_module": "@jupyter-widgets/controls",
      "_model_module_version": "1.5.0",
      "_model_name": "ProgressStyleModel",
      "_view_count": null,
      "_view_module": "@jupyter-widgets/base",
      "_view_module_version": "1.2.0",
      "_view_name": "StyleView",
      "bar_color": null,
      "description_width": ""
     }
    },
    "2090cde128fd4224b885b91ddca8a477": {
     "model_module": "@jupyter-widgets/base",
     "model_module_version": "1.2.0",
     "model_name": "LayoutModel",
     "state": {
      "_model_module": "@jupyter-widgets/base",
      "_model_module_version": "1.2.0",
      "_model_name": "LayoutModel",
      "_view_count": null,
      "_view_module": "@jupyter-widgets/base",
      "_view_module_version": "1.2.0",
      "_view_name": "LayoutView",
      "align_content": null,
      "align_items": null,
      "align_self": null,
      "border": null,
      "bottom": null,
      "display": null,
      "flex": null,
      "flex_flow": null,
      "grid_area": null,
      "grid_auto_columns": null,
      "grid_auto_flow": null,
      "grid_auto_rows": null,
      "grid_column": null,
      "grid_gap": null,
      "grid_row": null,
      "grid_template_areas": null,
      "grid_template_columns": null,
      "grid_template_rows": null,
      "height": null,
      "justify_content": null,
      "justify_items": null,
      "left": null,
      "margin": null,
      "max_height": null,
      "max_width": null,
      "min_height": null,
      "min_width": null,
      "object_fit": null,
      "object_position": null,
      "order": null,
      "overflow": null,
      "overflow_x": null,
      "overflow_y": null,
      "padding": null,
      "right": null,
      "top": null,
      "visibility": null,
      "width": null
     }
    },
    "20ddc912386c4da2b98a230a4eb3def8": {
     "model_module": "@jupyter-widgets/controls",
     "model_module_version": "1.5.0",
     "model_name": "HTMLModel",
     "state": {
      "_dom_classes": [],
      "_model_module": "@jupyter-widgets/controls",
      "_model_module_version": "1.5.0",
      "_model_name": "HTMLModel",
      "_view_count": null,
      "_view_module": "@jupyter-widgets/controls",
      "_view_module_version": "1.5.0",
      "_view_name": "HTMLView",
      "description": "",
      "description_tooltip": null,
      "layout": "IPY_MODEL_608468bdd9284de6b5b8238917ab3ddb",
      "placeholder": "​",
      "style": "IPY_MODEL_a8621e355a1c4ecea09e022ab84dabe4",
      "value": " 20/20 [35:55&lt;00:00, 107.69s/it]"
     }
    },
    "22c35a1233774fddb40cbef24fa25777": {
     "model_module": "@jupyter-widgets/base",
     "model_module_version": "1.2.0",
     "model_name": "LayoutModel",
     "state": {
      "_model_module": "@jupyter-widgets/base",
      "_model_module_version": "1.2.0",
      "_model_name": "LayoutModel",
      "_view_count": null,
      "_view_module": "@jupyter-widgets/base",
      "_view_module_version": "1.2.0",
      "_view_name": "LayoutView",
      "align_content": null,
      "align_items": null,
      "align_self": null,
      "border": null,
      "bottom": null,
      "display": null,
      "flex": null,
      "flex_flow": null,
      "grid_area": null,
      "grid_auto_columns": null,
      "grid_auto_flow": null,
      "grid_auto_rows": null,
      "grid_column": null,
      "grid_gap": null,
      "grid_row": null,
      "grid_template_areas": null,
      "grid_template_columns": null,
      "grid_template_rows": null,
      "height": null,
      "justify_content": null,
      "justify_items": null,
      "left": null,
      "margin": null,
      "max_height": null,
      "max_width": null,
      "min_height": null,
      "min_width": null,
      "object_fit": null,
      "object_position": null,
      "order": null,
      "overflow": null,
      "overflow_x": null,
      "overflow_y": null,
      "padding": null,
      "right": null,
      "top": null,
      "visibility": null,
      "width": null
     }
    },
    "4aabf627dc954fdcbf8d88c52fd923ed": {
     "model_module": "@jupyter-widgets/base",
     "model_module_version": "1.2.0",
     "model_name": "LayoutModel",
     "state": {
      "_model_module": "@jupyter-widgets/base",
      "_model_module_version": "1.2.0",
      "_model_name": "LayoutModel",
      "_view_count": null,
      "_view_module": "@jupyter-widgets/base",
      "_view_module_version": "1.2.0",
      "_view_name": "LayoutView",
      "align_content": null,
      "align_items": null,
      "align_self": null,
      "border": null,
      "bottom": null,
      "display": null,
      "flex": null,
      "flex_flow": null,
      "grid_area": null,
      "grid_auto_columns": null,
      "grid_auto_flow": null,
      "grid_auto_rows": null,
      "grid_column": null,
      "grid_gap": null,
      "grid_row": null,
      "grid_template_areas": null,
      "grid_template_columns": null,
      "grid_template_rows": null,
      "height": null,
      "justify_content": null,
      "justify_items": null,
      "left": null,
      "margin": null,
      "max_height": null,
      "max_width": null,
      "min_height": null,
      "min_width": null,
      "object_fit": null,
      "object_position": null,
      "order": null,
      "overflow": null,
      "overflow_x": null,
      "overflow_y": null,
      "padding": null,
      "right": null,
      "top": null,
      "visibility": null,
      "width": null
     }
    },
    "4cf03d8f161d439cb740a87fe3e897b0": {
     "model_module": "@jupyter-widgets/controls",
     "model_module_version": "1.5.0",
     "model_name": "DescriptionStyleModel",
     "state": {
      "_model_module": "@jupyter-widgets/controls",
      "_model_module_version": "1.5.0",
      "_model_name": "DescriptionStyleModel",
      "_view_count": null,
      "_view_module": "@jupyter-widgets/base",
      "_view_module_version": "1.2.0",
      "_view_name": "StyleView",
      "description_width": ""
     }
    },
    "51b9158f27fd41df9559ad92febb84a3": {
     "model_module": "@jupyter-widgets/controls",
     "model_module_version": "1.5.0",
     "model_name": "HTMLModel",
     "state": {
      "_dom_classes": [],
      "_model_module": "@jupyter-widgets/controls",
      "_model_module_version": "1.5.0",
      "_model_name": "HTMLModel",
      "_view_count": null,
      "_view_module": "@jupyter-widgets/controls",
      "_view_module_version": "1.5.0",
      "_view_name": "HTMLView",
      "description": "",
      "description_tooltip": null,
      "layout": "IPY_MODEL_cc21c9af29b242e78606a253247bc589",
      "placeholder": "​",
      "style": "IPY_MODEL_4cf03d8f161d439cb740a87fe3e897b0",
      "value": "100%"
     }
    },
    "5da8b67ff6f94ebf86c38139e51f6010": {
     "model_module": "@jupyter-widgets/controls",
     "model_module_version": "1.5.0",
     "model_name": "FloatProgressModel",
     "state": {
      "_dom_classes": [],
      "_model_module": "@jupyter-widgets/controls",
      "_model_module_version": "1.5.0",
      "_model_name": "FloatProgressModel",
      "_view_count": null,
      "_view_module": "@jupyter-widgets/controls",
      "_view_module_version": "1.5.0",
      "_view_name": "ProgressView",
      "bar_style": "success",
      "description": "",
      "description_tooltip": null,
      "layout": "IPY_MODEL_fd61c1adbb2e48ecbb913955417cbbb8",
      "max": 20,
      "min": 0,
      "orientation": "horizontal",
      "style": "IPY_MODEL_ab76af2e8c074a58a1959e9d72c42da3",
      "value": 20
     }
    },
    "608468bdd9284de6b5b8238917ab3ddb": {
     "model_module": "@jupyter-widgets/base",
     "model_module_version": "1.2.0",
     "model_name": "LayoutModel",
     "state": {
      "_model_module": "@jupyter-widgets/base",
      "_model_module_version": "1.2.0",
      "_model_name": "LayoutModel",
      "_view_count": null,
      "_view_module": "@jupyter-widgets/base",
      "_view_module_version": "1.2.0",
      "_view_name": "LayoutView",
      "align_content": null,
      "align_items": null,
      "align_self": null,
      "border": null,
      "bottom": null,
      "display": null,
      "flex": null,
      "flex_flow": null,
      "grid_area": null,
      "grid_auto_columns": null,
      "grid_auto_flow": null,
      "grid_auto_rows": null,
      "grid_column": null,
      "grid_gap": null,
      "grid_row": null,
      "grid_template_areas": null,
      "grid_template_columns": null,
      "grid_template_rows": null,
      "height": null,
      "justify_content": null,
      "justify_items": null,
      "left": null,
      "margin": null,
      "max_height": null,
      "max_width": null,
      "min_height": null,
      "min_width": null,
      "object_fit": null,
      "object_position": null,
      "order": null,
      "overflow": null,
      "overflow_x": null,
      "overflow_y": null,
      "padding": null,
      "right": null,
      "top": null,
      "visibility": null,
      "width": null
     }
    },
    "60b4d179068d4209ba05c2d20dd0fa7b": {
     "model_module": "@jupyter-widgets/controls",
     "model_module_version": "1.5.0",
     "model_name": "HTMLModel",
     "state": {
      "_dom_classes": [],
      "_model_module": "@jupyter-widgets/controls",
      "_model_module_version": "1.5.0",
      "_model_name": "HTMLModel",
      "_view_count": null,
      "_view_module": "@jupyter-widgets/controls",
      "_view_module_version": "1.5.0",
      "_view_name": "HTMLView",
      "description": "",
      "description_tooltip": null,
      "layout": "IPY_MODEL_f43d7212c678455d9ac75f35ca0437df",
      "placeholder": "​",
      "style": "IPY_MODEL_e540d540aa604224a4f235214acbd0d9",
      "value": " 20/20 [37:21&lt;00:00, 111.26s/it]"
     }
    },
    "61f56e21060d4302bc49263878e57435": {
     "model_module": "@jupyter-widgets/controls",
     "model_module_version": "1.5.0",
     "model_name": "DescriptionStyleModel",
     "state": {
      "_model_module": "@jupyter-widgets/controls",
      "_model_module_version": "1.5.0",
      "_model_name": "DescriptionStyleModel",
      "_view_count": null,
      "_view_module": "@jupyter-widgets/base",
      "_view_module_version": "1.2.0",
      "_view_name": "StyleView",
      "description_width": ""
     }
    },
    "65183f4347904a4abbe781bc6b7f381c": {
     "model_module": "@jupyter-widgets/controls",
     "model_module_version": "1.5.0",
     "model_name": "ProgressStyleModel",
     "state": {
      "_model_module": "@jupyter-widgets/controls",
      "_model_module_version": "1.5.0",
      "_model_name": "ProgressStyleModel",
      "_view_count": null,
      "_view_module": "@jupyter-widgets/base",
      "_view_module_version": "1.2.0",
      "_view_name": "StyleView",
      "bar_color": null,
      "description_width": ""
     }
    },
    "70dc7e43231e4f52b06de01b6fa85f4d": {
     "model_module": "@jupyter-widgets/base",
     "model_module_version": "1.2.0",
     "model_name": "LayoutModel",
     "state": {
      "_model_module": "@jupyter-widgets/base",
      "_model_module_version": "1.2.0",
      "_model_name": "LayoutModel",
      "_view_count": null,
      "_view_module": "@jupyter-widgets/base",
      "_view_module_version": "1.2.0",
      "_view_name": "LayoutView",
      "align_content": null,
      "align_items": null,
      "align_self": null,
      "border": null,
      "bottom": null,
      "display": null,
      "flex": null,
      "flex_flow": null,
      "grid_area": null,
      "grid_auto_columns": null,
      "grid_auto_flow": null,
      "grid_auto_rows": null,
      "grid_column": null,
      "grid_gap": null,
      "grid_row": null,
      "grid_template_areas": null,
      "grid_template_columns": null,
      "grid_template_rows": null,
      "height": null,
      "justify_content": null,
      "justify_items": null,
      "left": null,
      "margin": null,
      "max_height": null,
      "max_width": null,
      "min_height": null,
      "min_width": null,
      "object_fit": null,
      "object_position": null,
      "order": null,
      "overflow": null,
      "overflow_x": null,
      "overflow_y": null,
      "padding": null,
      "right": null,
      "top": null,
      "visibility": null,
      "width": null
     }
    },
    "71b0060bf1b749519e11ec9a375f5ccb": {
     "model_module": "@jupyter-widgets/base",
     "model_module_version": "1.2.0",
     "model_name": "LayoutModel",
     "state": {
      "_model_module": "@jupyter-widgets/base",
      "_model_module_version": "1.2.0",
      "_model_name": "LayoutModel",
      "_view_count": null,
      "_view_module": "@jupyter-widgets/base",
      "_view_module_version": "1.2.0",
      "_view_name": "LayoutView",
      "align_content": null,
      "align_items": null,
      "align_self": null,
      "border": null,
      "bottom": null,
      "display": null,
      "flex": null,
      "flex_flow": null,
      "grid_area": null,
      "grid_auto_columns": null,
      "grid_auto_flow": null,
      "grid_auto_rows": null,
      "grid_column": null,
      "grid_gap": null,
      "grid_row": null,
      "grid_template_areas": null,
      "grid_template_columns": null,
      "grid_template_rows": null,
      "height": null,
      "justify_content": null,
      "justify_items": null,
      "left": null,
      "margin": null,
      "max_height": null,
      "max_width": null,
      "min_height": null,
      "min_width": null,
      "object_fit": null,
      "object_position": null,
      "order": null,
      "overflow": null,
      "overflow_x": null,
      "overflow_y": null,
      "padding": null,
      "right": null,
      "top": null,
      "visibility": null,
      "width": null
     }
    },
    "749478c7cec24b79929709b792a00806": {
     "model_module": "@jupyter-widgets/base",
     "model_module_version": "1.2.0",
     "model_name": "LayoutModel",
     "state": {
      "_model_module": "@jupyter-widgets/base",
      "_model_module_version": "1.2.0",
      "_model_name": "LayoutModel",
      "_view_count": null,
      "_view_module": "@jupyter-widgets/base",
      "_view_module_version": "1.2.0",
      "_view_name": "LayoutView",
      "align_content": null,
      "align_items": null,
      "align_self": null,
      "border": null,
      "bottom": null,
      "display": null,
      "flex": null,
      "flex_flow": null,
      "grid_area": null,
      "grid_auto_columns": null,
      "grid_auto_flow": null,
      "grid_auto_rows": null,
      "grid_column": null,
      "grid_gap": null,
      "grid_row": null,
      "grid_template_areas": null,
      "grid_template_columns": null,
      "grid_template_rows": null,
      "height": null,
      "justify_content": null,
      "justify_items": null,
      "left": null,
      "margin": null,
      "max_height": null,
      "max_width": null,
      "min_height": null,
      "min_width": null,
      "object_fit": null,
      "object_position": null,
      "order": null,
      "overflow": null,
      "overflow_x": null,
      "overflow_y": null,
      "padding": null,
      "right": null,
      "top": null,
      "visibility": null,
      "width": null
     }
    },
    "7961595acd4b41f9bda8d5b296a133de": {
     "model_module": "@jupyter-widgets/base",
     "model_module_version": "1.2.0",
     "model_name": "LayoutModel",
     "state": {
      "_model_module": "@jupyter-widgets/base",
      "_model_module_version": "1.2.0",
      "_model_name": "LayoutModel",
      "_view_count": null,
      "_view_module": "@jupyter-widgets/base",
      "_view_module_version": "1.2.0",
      "_view_name": "LayoutView",
      "align_content": null,
      "align_items": null,
      "align_self": null,
      "border": null,
      "bottom": null,
      "display": null,
      "flex": null,
      "flex_flow": null,
      "grid_area": null,
      "grid_auto_columns": null,
      "grid_auto_flow": null,
      "grid_auto_rows": null,
      "grid_column": null,
      "grid_gap": null,
      "grid_row": null,
      "grid_template_areas": null,
      "grid_template_columns": null,
      "grid_template_rows": null,
      "height": null,
      "justify_content": null,
      "justify_items": null,
      "left": null,
      "margin": null,
      "max_height": null,
      "max_width": null,
      "min_height": null,
      "min_width": null,
      "object_fit": null,
      "object_position": null,
      "order": null,
      "overflow": null,
      "overflow_x": null,
      "overflow_y": null,
      "padding": null,
      "right": null,
      "top": null,
      "visibility": null,
      "width": null
     }
    },
    "7b4e7a2633064bee847b8ae9f3e01aa5": {
     "model_module": "@jupyter-widgets/controls",
     "model_module_version": "1.5.0",
     "model_name": "HBoxModel",
     "state": {
      "_dom_classes": [],
      "_model_module": "@jupyter-widgets/controls",
      "_model_module_version": "1.5.0",
      "_model_name": "HBoxModel",
      "_view_count": null,
      "_view_module": "@jupyter-widgets/controls",
      "_view_module_version": "1.5.0",
      "_view_name": "HBoxView",
      "box_style": "",
      "children": [
       "IPY_MODEL_9dd197b4e5974d98b245039a1aae959f",
       "IPY_MODEL_5da8b67ff6f94ebf86c38139e51f6010",
       "IPY_MODEL_60b4d179068d4209ba05c2d20dd0fa7b"
      ],
      "layout": "IPY_MODEL_c9268cde72a54e1e9f3cd77181e7b2a4"
     }
    },
    "84250eef9c2744d39259ec19c5cb5989": {
     "model_module": "@jupyter-widgets/controls",
     "model_module_version": "1.5.0",
     "model_name": "DescriptionStyleModel",
     "state": {
      "_model_module": "@jupyter-widgets/controls",
      "_model_module_version": "1.5.0",
      "_model_name": "DescriptionStyleModel",
      "_view_count": null,
      "_view_module": "@jupyter-widgets/base",
      "_view_module_version": "1.2.0",
      "_view_name": "StyleView",
      "description_width": ""
     }
    },
    "8830a7c2af014875a2ee102e5d32db46": {
     "model_module": "@jupyter-widgets/controls",
     "model_module_version": "1.5.0",
     "model_name": "HBoxModel",
     "state": {
      "_dom_classes": [],
      "_model_module": "@jupyter-widgets/controls",
      "_model_module_version": "1.5.0",
      "_model_name": "HBoxModel",
      "_view_count": null,
      "_view_module": "@jupyter-widgets/controls",
      "_view_module_version": "1.5.0",
      "_view_name": "HBoxView",
      "box_style": "",
      "children": [
       "IPY_MODEL_ce13261ac7e94f3388b49416aed032e1",
       "IPY_MODEL_1447d9ed51594c12aa114b55204c133d",
       "IPY_MODEL_d1c4e01d36134842b2ee0b9e200b91e5"
      ],
      "layout": "IPY_MODEL_4aabf627dc954fdcbf8d88c52fd923ed"
     }
    },
    "883e837cf74d4a56aedb5e2d3827f762": {
     "model_module": "@jupyter-widgets/controls",
     "model_module_version": "1.5.0",
     "model_name": "HTMLModel",
     "state": {
      "_dom_classes": [],
      "_model_module": "@jupyter-widgets/controls",
      "_model_module_version": "1.5.0",
      "_model_name": "HTMLModel",
      "_view_count": null,
      "_view_module": "@jupyter-widgets/controls",
      "_view_module_version": "1.5.0",
      "_view_name": "HTMLView",
      "description": "",
      "description_tooltip": null,
      "layout": "IPY_MODEL_cecc6e2d5e804ba4aeaf78ce1a14dc0b",
      "placeholder": "​",
      "style": "IPY_MODEL_b03281c7bb6143788c58f103c319f53c",
      "value": " 20/20 [37:57&lt;00:00, 115.65s/it]"
     }
    },
    "9ca5200c174b492482a1d6f88125f29b": {
     "model_module": "@jupyter-widgets/controls",
     "model_module_version": "1.5.0",
     "model_name": "DescriptionStyleModel",
     "state": {
      "_model_module": "@jupyter-widgets/controls",
      "_model_module_version": "1.5.0",
      "_model_name": "DescriptionStyleModel",
      "_view_count": null,
      "_view_module": "@jupyter-widgets/base",
      "_view_module_version": "1.2.0",
      "_view_name": "StyleView",
      "description_width": ""
     }
    },
    "9dd197b4e5974d98b245039a1aae959f": {
     "model_module": "@jupyter-widgets/controls",
     "model_module_version": "1.5.0",
     "model_name": "HTMLModel",
     "state": {
      "_dom_classes": [],
      "_model_module": "@jupyter-widgets/controls",
      "_model_module_version": "1.5.0",
      "_model_name": "HTMLModel",
      "_view_count": null,
      "_view_module": "@jupyter-widgets/controls",
      "_view_module_version": "1.5.0",
      "_view_name": "HTMLView",
      "description": "",
      "description_tooltip": null,
      "layout": "IPY_MODEL_0e493d92afa844c29d01ed2713937663",
      "placeholder": "​",
      "style": "IPY_MODEL_84250eef9c2744d39259ec19c5cb5989",
      "value": "100%"
     }
    },
    "a8621e355a1c4ecea09e022ab84dabe4": {
     "model_module": "@jupyter-widgets/controls",
     "model_module_version": "1.5.0",
     "model_name": "DescriptionStyleModel",
     "state": {
      "_model_module": "@jupyter-widgets/controls",
      "_model_module_version": "1.5.0",
      "_model_name": "DescriptionStyleModel",
      "_view_count": null,
      "_view_module": "@jupyter-widgets/base",
      "_view_module_version": "1.2.0",
      "_view_name": "StyleView",
      "description_width": ""
     }
    },
    "ab76af2e8c074a58a1959e9d72c42da3": {
     "model_module": "@jupyter-widgets/controls",
     "model_module_version": "1.5.0",
     "model_name": "ProgressStyleModel",
     "state": {
      "_model_module": "@jupyter-widgets/controls",
      "_model_module_version": "1.5.0",
      "_model_name": "ProgressStyleModel",
      "_view_count": null,
      "_view_module": "@jupyter-widgets/base",
      "_view_module_version": "1.2.0",
      "_view_name": "StyleView",
      "bar_color": null,
      "description_width": ""
     }
    },
    "aee82f6e223142e49757ec28f4af950a": {
     "model_module": "@jupyter-widgets/controls",
     "model_module_version": "1.5.0",
     "model_name": "HBoxModel",
     "state": {
      "_dom_classes": [],
      "_model_module": "@jupyter-widgets/controls",
      "_model_module_version": "1.5.0",
      "_model_name": "HBoxModel",
      "_view_count": null,
      "_view_module": "@jupyter-widgets/controls",
      "_view_module_version": "1.5.0",
      "_view_name": "HBoxView",
      "box_style": "",
      "children": [
       "IPY_MODEL_e91fa8ad006e4fc2b5e5baa00720ed70",
       "IPY_MODEL_cb0cf584e7794f45815c56c25f4b7d5a",
       "IPY_MODEL_883e837cf74d4a56aedb5e2d3827f762"
      ],
      "layout": "IPY_MODEL_2090cde128fd4224b885b91ddca8a477"
     }
    },
    "b03281c7bb6143788c58f103c319f53c": {
     "model_module": "@jupyter-widgets/controls",
     "model_module_version": "1.5.0",
     "model_name": "DescriptionStyleModel",
     "state": {
      "_model_module": "@jupyter-widgets/controls",
      "_model_module_version": "1.5.0",
      "_model_name": "DescriptionStyleModel",
      "_view_count": null,
      "_view_module": "@jupyter-widgets/base",
      "_view_module_version": "1.2.0",
      "_view_name": "StyleView",
      "description_width": ""
     }
    },
    "c4a1ae5d11bb492e92635c1cb2919c57": {
     "model_module": "@jupyter-widgets/controls",
     "model_module_version": "1.5.0",
     "model_name": "FloatProgressModel",
     "state": {
      "_dom_classes": [],
      "_model_module": "@jupyter-widgets/controls",
      "_model_module_version": "1.5.0",
      "_model_name": "FloatProgressModel",
      "_view_count": null,
      "_view_module": "@jupyter-widgets/controls",
      "_view_module_version": "1.5.0",
      "_view_name": "ProgressView",
      "bar_style": "success",
      "description": "",
      "description_tooltip": null,
      "layout": "IPY_MODEL_d8ea5daf6bf74720b4d17699fefafb0c",
      "max": 20,
      "min": 0,
      "orientation": "horizontal",
      "style": "IPY_MODEL_1f22643714934b8189526d4706090141",
      "value": 20
     }
    },
    "c6531cc986894c5b93da787dac903bb4": {
     "model_module": "@jupyter-widgets/controls",
     "model_module_version": "1.5.0",
     "model_name": "DescriptionStyleModel",
     "state": {
      "_model_module": "@jupyter-widgets/controls",
      "_model_module_version": "1.5.0",
      "_model_name": "DescriptionStyleModel",
      "_view_count": null,
      "_view_module": "@jupyter-widgets/base",
      "_view_module_version": "1.2.0",
      "_view_name": "StyleView",
      "description_width": ""
     }
    },
    "c752c45af1fc4b6eb0e52f015d24fc02": {
     "model_module": "@jupyter-widgets/base",
     "model_module_version": "1.2.0",
     "model_name": "LayoutModel",
     "state": {
      "_model_module": "@jupyter-widgets/base",
      "_model_module_version": "1.2.0",
      "_model_name": "LayoutModel",
      "_view_count": null,
      "_view_module": "@jupyter-widgets/base",
      "_view_module_version": "1.2.0",
      "_view_name": "LayoutView",
      "align_content": null,
      "align_items": null,
      "align_self": null,
      "border": null,
      "bottom": null,
      "display": null,
      "flex": null,
      "flex_flow": null,
      "grid_area": null,
      "grid_auto_columns": null,
      "grid_auto_flow": null,
      "grid_auto_rows": null,
      "grid_column": null,
      "grid_gap": null,
      "grid_row": null,
      "grid_template_areas": null,
      "grid_template_columns": null,
      "grid_template_rows": null,
      "height": null,
      "justify_content": null,
      "justify_items": null,
      "left": null,
      "margin": null,
      "max_height": null,
      "max_width": null,
      "min_height": null,
      "min_width": null,
      "object_fit": null,
      "object_position": null,
      "order": null,
      "overflow": null,
      "overflow_x": null,
      "overflow_y": null,
      "padding": null,
      "right": null,
      "top": null,
      "visibility": null,
      "width": null
     }
    },
    "c9268cde72a54e1e9f3cd77181e7b2a4": {
     "model_module": "@jupyter-widgets/base",
     "model_module_version": "1.2.0",
     "model_name": "LayoutModel",
     "state": {
      "_model_module": "@jupyter-widgets/base",
      "_model_module_version": "1.2.0",
      "_model_name": "LayoutModel",
      "_view_count": null,
      "_view_module": "@jupyter-widgets/base",
      "_view_module_version": "1.2.0",
      "_view_name": "LayoutView",
      "align_content": null,
      "align_items": null,
      "align_self": null,
      "border": null,
      "bottom": null,
      "display": null,
      "flex": null,
      "flex_flow": null,
      "grid_area": null,
      "grid_auto_columns": null,
      "grid_auto_flow": null,
      "grid_auto_rows": null,
      "grid_column": null,
      "grid_gap": null,
      "grid_row": null,
      "grid_template_areas": null,
      "grid_template_columns": null,
      "grid_template_rows": null,
      "height": null,
      "justify_content": null,
      "justify_items": null,
      "left": null,
      "margin": null,
      "max_height": null,
      "max_width": null,
      "min_height": null,
      "min_width": null,
      "object_fit": null,
      "object_position": null,
      "order": null,
      "overflow": null,
      "overflow_x": null,
      "overflow_y": null,
      "padding": null,
      "right": null,
      "top": null,
      "visibility": null,
      "width": null
     }
    },
    "c9f1a4f18ab74977a4d3b06be6944906": {
     "model_module": "@jupyter-widgets/controls",
     "model_module_version": "1.5.0",
     "model_name": "ProgressStyleModel",
     "state": {
      "_model_module": "@jupyter-widgets/controls",
      "_model_module_version": "1.5.0",
      "_model_name": "ProgressStyleModel",
      "_view_count": null,
      "_view_module": "@jupyter-widgets/base",
      "_view_module_version": "1.2.0",
      "_view_name": "StyleView",
      "bar_color": null,
      "description_width": ""
     }
    },
    "cb0cf584e7794f45815c56c25f4b7d5a": {
     "model_module": "@jupyter-widgets/controls",
     "model_module_version": "1.5.0",
     "model_name": "FloatProgressModel",
     "state": {
      "_dom_classes": [],
      "_model_module": "@jupyter-widgets/controls",
      "_model_module_version": "1.5.0",
      "_model_name": "FloatProgressModel",
      "_view_count": null,
      "_view_module": "@jupyter-widgets/controls",
      "_view_module_version": "1.5.0",
      "_view_name": "ProgressView",
      "bar_style": "success",
      "description": "",
      "description_tooltip": null,
      "layout": "IPY_MODEL_f6e1fd43e1ab489b928c74a6548fe7fd",
      "max": 20,
      "min": 0,
      "orientation": "horizontal",
      "style": "IPY_MODEL_65183f4347904a4abbe781bc6b7f381c",
      "value": 20
     }
    },
    "cc21c9af29b242e78606a253247bc589": {
     "model_module": "@jupyter-widgets/base",
     "model_module_version": "1.2.0",
     "model_name": "LayoutModel",
     "state": {
      "_model_module": "@jupyter-widgets/base",
      "_model_module_version": "1.2.0",
      "_model_name": "LayoutModel",
      "_view_count": null,
      "_view_module": "@jupyter-widgets/base",
      "_view_module_version": "1.2.0",
      "_view_name": "LayoutView",
      "align_content": null,
      "align_items": null,
      "align_self": null,
      "border": null,
      "bottom": null,
      "display": null,
      "flex": null,
      "flex_flow": null,
      "grid_area": null,
      "grid_auto_columns": null,
      "grid_auto_flow": null,
      "grid_auto_rows": null,
      "grid_column": null,
      "grid_gap": null,
      "grid_row": null,
      "grid_template_areas": null,
      "grid_template_columns": null,
      "grid_template_rows": null,
      "height": null,
      "justify_content": null,
      "justify_items": null,
      "left": null,
      "margin": null,
      "max_height": null,
      "max_width": null,
      "min_height": null,
      "min_width": null,
      "object_fit": null,
      "object_position": null,
      "order": null,
      "overflow": null,
      "overflow_x": null,
      "overflow_y": null,
      "padding": null,
      "right": null,
      "top": null,
      "visibility": null,
      "width": null
     }
    },
    "ce13261ac7e94f3388b49416aed032e1": {
     "model_module": "@jupyter-widgets/controls",
     "model_module_version": "1.5.0",
     "model_name": "HTMLModel",
     "state": {
      "_dom_classes": [],
      "_model_module": "@jupyter-widgets/controls",
      "_model_module_version": "1.5.0",
      "_model_name": "HTMLModel",
      "_view_count": null,
      "_view_module": "@jupyter-widgets/controls",
      "_view_module_version": "1.5.0",
      "_view_name": "HTMLView",
      "description": "",
      "description_tooltip": null,
      "layout": "IPY_MODEL_71b0060bf1b749519e11ec9a375f5ccb",
      "placeholder": "​",
      "style": "IPY_MODEL_d6ff4ea1f9b14594aa54b7fff997bc54",
      "value": "100%"
     }
    },
    "ce903fec29ac499796481783908bf521": {
     "model_module": "@jupyter-widgets/controls",
     "model_module_version": "1.5.0",
     "model_name": "HBoxModel",
     "state": {
      "_dom_classes": [],
      "_model_module": "@jupyter-widgets/controls",
      "_model_module_version": "1.5.0",
      "_model_name": "HBoxModel",
      "_view_count": null,
      "_view_module": "@jupyter-widgets/controls",
      "_view_module_version": "1.5.0",
      "_view_name": "HBoxView",
      "box_style": "",
      "children": [
       "IPY_MODEL_14995adf5d5a4fae85b208f7d1ddc486",
       "IPY_MODEL_c4a1ae5d11bb492e92635c1cb2919c57",
       "IPY_MODEL_07bf258ceb1b4ffd88cbc950bdfb390b"
      ],
      "layout": "IPY_MODEL_fad2af79fa0843629d963babfe41acff"
     }
    },
    "cecc6e2d5e804ba4aeaf78ce1a14dc0b": {
     "model_module": "@jupyter-widgets/base",
     "model_module_version": "1.2.0",
     "model_name": "LayoutModel",
     "state": {
      "_model_module": "@jupyter-widgets/base",
      "_model_module_version": "1.2.0",
      "_model_name": "LayoutModel",
      "_view_count": null,
      "_view_module": "@jupyter-widgets/base",
      "_view_module_version": "1.2.0",
      "_view_name": "LayoutView",
      "align_content": null,
      "align_items": null,
      "align_self": null,
      "border": null,
      "bottom": null,
      "display": null,
      "flex": null,
      "flex_flow": null,
      "grid_area": null,
      "grid_auto_columns": null,
      "grid_auto_flow": null,
      "grid_auto_rows": null,
      "grid_column": null,
      "grid_gap": null,
      "grid_row": null,
      "grid_template_areas": null,
      "grid_template_columns": null,
      "grid_template_rows": null,
      "height": null,
      "justify_content": null,
      "justify_items": null,
      "left": null,
      "margin": null,
      "max_height": null,
      "max_width": null,
      "min_height": null,
      "min_width": null,
      "object_fit": null,
      "object_position": null,
      "order": null,
      "overflow": null,
      "overflow_x": null,
      "overflow_y": null,
      "padding": null,
      "right": null,
      "top": null,
      "visibility": null,
      "width": null
     }
    },
    "d1c4e01d36134842b2ee0b9e200b91e5": {
     "model_module": "@jupyter-widgets/controls",
     "model_module_version": "1.5.0",
     "model_name": "HTMLModel",
     "state": {
      "_dom_classes": [],
      "_model_module": "@jupyter-widgets/controls",
      "_model_module_version": "1.5.0",
      "_model_name": "HTMLModel",
      "_view_count": null,
      "_view_module": "@jupyter-widgets/controls",
      "_view_module_version": "1.5.0",
      "_view_name": "HTMLView",
      "description": "",
      "description_tooltip": null,
      "layout": "IPY_MODEL_749478c7cec24b79929709b792a00806",
      "placeholder": "​",
      "style": "IPY_MODEL_9ca5200c174b492482a1d6f88125f29b",
      "value": " 20/20 [36:15&lt;00:00, 108.80s/it]"
     }
    },
    "d24caf87060342148106a3dea3633037": {
     "model_module": "@jupyter-widgets/controls",
     "model_module_version": "1.5.0",
     "model_name": "DescriptionStyleModel",
     "state": {
      "_model_module": "@jupyter-widgets/controls",
      "_model_module_version": "1.5.0",
      "_model_name": "DescriptionStyleModel",
      "_view_count": null,
      "_view_module": "@jupyter-widgets/base",
      "_view_module_version": "1.2.0",
      "_view_name": "StyleView",
      "description_width": ""
     }
    },
    "d6ff4ea1f9b14594aa54b7fff997bc54": {
     "model_module": "@jupyter-widgets/controls",
     "model_module_version": "1.5.0",
     "model_name": "DescriptionStyleModel",
     "state": {
      "_model_module": "@jupyter-widgets/controls",
      "_model_module_version": "1.5.0",
      "_model_name": "DescriptionStyleModel",
      "_view_count": null,
      "_view_module": "@jupyter-widgets/base",
      "_view_module_version": "1.2.0",
      "_view_name": "StyleView",
      "description_width": ""
     }
    },
    "d7345869966540e8843acdc414731ca3": {
     "model_module": "@jupyter-widgets/controls",
     "model_module_version": "1.5.0",
     "model_name": "ProgressStyleModel",
     "state": {
      "_model_module": "@jupyter-widgets/controls",
      "_model_module_version": "1.5.0",
      "_model_name": "ProgressStyleModel",
      "_view_count": null,
      "_view_module": "@jupyter-widgets/base",
      "_view_module_version": "1.2.0",
      "_view_name": "StyleView",
      "bar_color": null,
      "description_width": ""
     }
    },
    "d8ea5daf6bf74720b4d17699fefafb0c": {
     "model_module": "@jupyter-widgets/base",
     "model_module_version": "1.2.0",
     "model_name": "LayoutModel",
     "state": {
      "_model_module": "@jupyter-widgets/base",
      "_model_module_version": "1.2.0",
      "_model_name": "LayoutModel",
      "_view_count": null,
      "_view_module": "@jupyter-widgets/base",
      "_view_module_version": "1.2.0",
      "_view_name": "LayoutView",
      "align_content": null,
      "align_items": null,
      "align_self": null,
      "border": null,
      "bottom": null,
      "display": null,
      "flex": null,
      "flex_flow": null,
      "grid_area": null,
      "grid_auto_columns": null,
      "grid_auto_flow": null,
      "grid_auto_rows": null,
      "grid_column": null,
      "grid_gap": null,
      "grid_row": null,
      "grid_template_areas": null,
      "grid_template_columns": null,
      "grid_template_rows": null,
      "height": null,
      "justify_content": null,
      "justify_items": null,
      "left": null,
      "margin": null,
      "max_height": null,
      "max_width": null,
      "min_height": null,
      "min_width": null,
      "object_fit": null,
      "object_position": null,
      "order": null,
      "overflow": null,
      "overflow_x": null,
      "overflow_y": null,
      "padding": null,
      "right": null,
      "top": null,
      "visibility": null,
      "width": null
     }
    },
    "e540d540aa604224a4f235214acbd0d9": {
     "model_module": "@jupyter-widgets/controls",
     "model_module_version": "1.5.0",
     "model_name": "DescriptionStyleModel",
     "state": {
      "_model_module": "@jupyter-widgets/controls",
      "_model_module_version": "1.5.0",
      "_model_name": "DescriptionStyleModel",
      "_view_count": null,
      "_view_module": "@jupyter-widgets/base",
      "_view_module_version": "1.2.0",
      "_view_name": "StyleView",
      "description_width": ""
     }
    },
    "e81e966d0ab8462389f28e627996ca3a": {
     "model_module": "@jupyter-widgets/controls",
     "model_module_version": "1.5.0",
     "model_name": "HBoxModel",
     "state": {
      "_dom_classes": [],
      "_model_module": "@jupyter-widgets/controls",
      "_model_module_version": "1.5.0",
      "_model_name": "HBoxModel",
      "_view_count": null,
      "_view_module": "@jupyter-widgets/controls",
      "_view_module_version": "1.5.0",
      "_view_name": "HBoxView",
      "box_style": "",
      "children": [
       "IPY_MODEL_51b9158f27fd41df9559ad92febb84a3",
       "IPY_MODEL_1e22ae577e074d84822101353c1018cb",
       "IPY_MODEL_20ddc912386c4da2b98a230a4eb3def8"
      ],
      "layout": "IPY_MODEL_c752c45af1fc4b6eb0e52f015d24fc02"
     }
    },
    "e91fa8ad006e4fc2b5e5baa00720ed70": {
     "model_module": "@jupyter-widgets/controls",
     "model_module_version": "1.5.0",
     "model_name": "HTMLModel",
     "state": {
      "_dom_classes": [],
      "_model_module": "@jupyter-widgets/controls",
      "_model_module_version": "1.5.0",
      "_model_name": "HTMLModel",
      "_view_count": null,
      "_view_module": "@jupyter-widgets/controls",
      "_view_module_version": "1.5.0",
      "_view_name": "HTMLView",
      "description": "",
      "description_tooltip": null,
      "layout": "IPY_MODEL_7961595acd4b41f9bda8d5b296a133de",
      "placeholder": "​",
      "style": "IPY_MODEL_d24caf87060342148106a3dea3633037",
      "value": "100%"
     }
    },
    "f43d7212c678455d9ac75f35ca0437df": {
     "model_module": "@jupyter-widgets/base",
     "model_module_version": "1.2.0",
     "model_name": "LayoutModel",
     "state": {
      "_model_module": "@jupyter-widgets/base",
      "_model_module_version": "1.2.0",
      "_model_name": "LayoutModel",
      "_view_count": null,
      "_view_module": "@jupyter-widgets/base",
      "_view_module_version": "1.2.0",
      "_view_name": "LayoutView",
      "align_content": null,
      "align_items": null,
      "align_self": null,
      "border": null,
      "bottom": null,
      "display": null,
      "flex": null,
      "flex_flow": null,
      "grid_area": null,
      "grid_auto_columns": null,
      "grid_auto_flow": null,
      "grid_auto_rows": null,
      "grid_column": null,
      "grid_gap": null,
      "grid_row": null,
      "grid_template_areas": null,
      "grid_template_columns": null,
      "grid_template_rows": null,
      "height": null,
      "justify_content": null,
      "justify_items": null,
      "left": null,
      "margin": null,
      "max_height": null,
      "max_width": null,
      "min_height": null,
      "min_width": null,
      "object_fit": null,
      "object_position": null,
      "order": null,
      "overflow": null,
      "overflow_x": null,
      "overflow_y": null,
      "padding": null,
      "right": null,
      "top": null,
      "visibility": null,
      "width": null
     }
    },
    "f6e1fd43e1ab489b928c74a6548fe7fd": {
     "model_module": "@jupyter-widgets/base",
     "model_module_version": "1.2.0",
     "model_name": "LayoutModel",
     "state": {
      "_model_module": "@jupyter-widgets/base",
      "_model_module_version": "1.2.0",
      "_model_name": "LayoutModel",
      "_view_count": null,
      "_view_module": "@jupyter-widgets/base",
      "_view_module_version": "1.2.0",
      "_view_name": "LayoutView",
      "align_content": null,
      "align_items": null,
      "align_self": null,
      "border": null,
      "bottom": null,
      "display": null,
      "flex": null,
      "flex_flow": null,
      "grid_area": null,
      "grid_auto_columns": null,
      "grid_auto_flow": null,
      "grid_auto_rows": null,
      "grid_column": null,
      "grid_gap": null,
      "grid_row": null,
      "grid_template_areas": null,
      "grid_template_columns": null,
      "grid_template_rows": null,
      "height": null,
      "justify_content": null,
      "justify_items": null,
      "left": null,
      "margin": null,
      "max_height": null,
      "max_width": null,
      "min_height": null,
      "min_width": null,
      "object_fit": null,
      "object_position": null,
      "order": null,
      "overflow": null,
      "overflow_x": null,
      "overflow_y": null,
      "padding": null,
      "right": null,
      "top": null,
      "visibility": null,
      "width": null
     }
    },
    "f6f4074482f545e881b30ebdc4dbe82a": {
     "model_module": "@jupyter-widgets/base",
     "model_module_version": "1.2.0",
     "model_name": "LayoutModel",
     "state": {
      "_model_module": "@jupyter-widgets/base",
      "_model_module_version": "1.2.0",
      "_model_name": "LayoutModel",
      "_view_count": null,
      "_view_module": "@jupyter-widgets/base",
      "_view_module_version": "1.2.0",
      "_view_name": "LayoutView",
      "align_content": null,
      "align_items": null,
      "align_self": null,
      "border": null,
      "bottom": null,
      "display": null,
      "flex": null,
      "flex_flow": null,
      "grid_area": null,
      "grid_auto_columns": null,
      "grid_auto_flow": null,
      "grid_auto_rows": null,
      "grid_column": null,
      "grid_gap": null,
      "grid_row": null,
      "grid_template_areas": null,
      "grid_template_columns": null,
      "grid_template_rows": null,
      "height": null,
      "justify_content": null,
      "justify_items": null,
      "left": null,
      "margin": null,
      "max_height": null,
      "max_width": null,
      "min_height": null,
      "min_width": null,
      "object_fit": null,
      "object_position": null,
      "order": null,
      "overflow": null,
      "overflow_x": null,
      "overflow_y": null,
      "padding": null,
      "right": null,
      "top": null,
      "visibility": null,
      "width": null
     }
    },
    "fad2af79fa0843629d963babfe41acff": {
     "model_module": "@jupyter-widgets/base",
     "model_module_version": "1.2.0",
     "model_name": "LayoutModel",
     "state": {
      "_model_module": "@jupyter-widgets/base",
      "_model_module_version": "1.2.0",
      "_model_name": "LayoutModel",
      "_view_count": null,
      "_view_module": "@jupyter-widgets/base",
      "_view_module_version": "1.2.0",
      "_view_name": "LayoutView",
      "align_content": null,
      "align_items": null,
      "align_self": null,
      "border": null,
      "bottom": null,
      "display": null,
      "flex": null,
      "flex_flow": null,
      "grid_area": null,
      "grid_auto_columns": null,
      "grid_auto_flow": null,
      "grid_auto_rows": null,
      "grid_column": null,
      "grid_gap": null,
      "grid_row": null,
      "grid_template_areas": null,
      "grid_template_columns": null,
      "grid_template_rows": null,
      "height": null,
      "justify_content": null,
      "justify_items": null,
      "left": null,
      "margin": null,
      "max_height": null,
      "max_width": null,
      "min_height": null,
      "min_width": null,
      "object_fit": null,
      "object_position": null,
      "order": null,
      "overflow": null,
      "overflow_x": null,
      "overflow_y": null,
      "padding": null,
      "right": null,
      "top": null,
      "visibility": null,
      "width": null
     }
    },
    "fd61c1adbb2e48ecbb913955417cbbb8": {
     "model_module": "@jupyter-widgets/base",
     "model_module_version": "1.2.0",
     "model_name": "LayoutModel",
     "state": {
      "_model_module": "@jupyter-widgets/base",
      "_model_module_version": "1.2.0",
      "_model_name": "LayoutModel",
      "_view_count": null,
      "_view_module": "@jupyter-widgets/base",
      "_view_module_version": "1.2.0",
      "_view_name": "LayoutView",
      "align_content": null,
      "align_items": null,
      "align_self": null,
      "border": null,
      "bottom": null,
      "display": null,
      "flex": null,
      "flex_flow": null,
      "grid_area": null,
      "grid_auto_columns": null,
      "grid_auto_flow": null,
      "grid_auto_rows": null,
      "grid_column": null,
      "grid_gap": null,
      "grid_row": null,
      "grid_template_areas": null,
      "grid_template_columns": null,
      "grid_template_rows": null,
      "height": null,
      "justify_content": null,
      "justify_items": null,
      "left": null,
      "margin": null,
      "max_height": null,
      "max_width": null,
      "min_height": null,
      "min_width": null,
      "object_fit": null,
      "object_position": null,
      "order": null,
      "overflow": null,
      "overflow_x": null,
      "overflow_y": null,
      "padding": null,
      "right": null,
      "top": null,
      "visibility": null,
      "width": null
     }
    }
   }
  }
 },
 "nbformat": 4,
 "nbformat_minor": 1
}
